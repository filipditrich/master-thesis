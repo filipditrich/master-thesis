{
 "cells": [
  {
   "cell_type": "code",
   "id": "initial_id",
   "metadata": {
    "collapsed": true
   },
   "source": [
    "import pandas as pd\n",
    "import matplotlib.pyplot as plt\n",
    "import matplotlib.ticker as ticker\n",
    "import matplotlib.dates as mdates\n",
    "from matplotlib.colors import LinearSegmentedColormap\n",
    "import numpy as np\n",
    "from numpy.core.numeric import False_\n",
    "\n",
    "from dashboard_app._format_utils import format_price_short, format_number_short, format_number, format_date, format_price, format_volume, format_percent, format_duration, format_event_datetime\n",
    "from dashboard_app._chart_utils import chart_colors, get_chart_color\n",
    "\n",
    "# Set global figure size and DPI\n",
    "# Set figure size optimized for A4 (297mm x 210mm at 300dpi)\n",
    "plt.rcParams['figure.figsize'] = (10, 7)  # Adjusted for better A4 fit\n",
    "plt.rcParams['figure.dpi'] = 300\n",
    "\n",
    "# Configure fonts\n",
    "plt.rcParams['font.family'] = 'serif'\n",
    "plt.rcParams['font.size'] = 11  # Base font size\n",
    "plt.rcParams['font.weight'] = 'normal'\n",
    "\n",
    "# grid lines subtle thin\n",
    "plt.rcParams['grid.color'] = '#d9d9d9'\n",
    "plt.rcParams['grid.linestyle'] = '--'\n",
    "plt.rcParams['grid.linewidth'] = 0.5\n",
    "\n",
    "# grid face light gray\n",
    "# plt.rcParams['axes.facecolor'] = '#f9fafb'\n",
    "plt.rcParams['axes.facecolor'] = '#FFFFFF'\n",
    "\n",
    "# top and right spines off\n",
    "plt.rcParams['axes.spines.top'] = False\n",
    "plt.rcParams['axes.spines.right'] = False\n",
    "\n",
    "# spines light gray thin\n",
    "plt.rcParams['axes.edgecolor'] = '#d9d9d9'\n",
    "plt.rcParams['axes.linewidth'] = 0.5\n",
    "\n",
    "\n",
    "# Function to load data from CSV or DataFrame\n",
    "def load_data(data_source):\n",
    "\tif isinstance(data_source, str):\n",
    "\t\t# Load data from CSV file\n",
    "\t\tdata = pd.read_csv(f\".//data/{data_source}\")\n",
    "\telse:\n",
    "\t\t# Assume data_source is a DataFrame\n",
    "\t\tdata = data_source\n",
    "\treturn data\n",
    "\n",
    "\n",
    "# Function to create subplots with consistent formatting\n",
    "def create_subplots(nrows=1, ncols=1, figsize=(10, 6), sharex=False, sharey=False):\n",
    "\tfig, axes = plt.subplots(nrows, ncols, figsize=figsize, sharex=sharex, sharey=sharey)\n",
    "\n",
    "\tif nrows * ncols > 1:\n",
    "\t\tfor ax in axes.flat:\n",
    "\t\t\tax.tick_params(axis='both', which='major', labelsize=10)\n",
    "\t\t\tax.tick_params(axis='both', which='minor', labelsize=8)\n",
    "\telse:\n",
    "\t\taxes.tick_params(axis='both', which='major', labelsize=10)\n",
    "\t\taxes.tick_params(axis='both', which='minor', labelsize=8)\n",
    "\n",
    "\treturn fig, axes\n",
    "\n",
    "\n",
    "# Function to format x-labels as event datetime\n",
    "def format_xaxis_event_datetime(ax, include_time=True):\n",
    "\tax.xaxis.set_major_formatter(ticker.FuncFormatter(lambda x, pos: format_event_datetime(pd.to_datetime(x), include_time)))\n",
    "\tplt.xticks(rotation=45, ha='right')\n",
    "\n",
    "\n",
    "# Function to add reference line to plot\n",
    "def add_reference_line(ax, x=None, y=None, color='gray', linestyle='--', linewidth=1, label=None):\n",
    "\tif x is not None:\n",
    "\t\tax.axvline(x, color=color, linestyle=linestyle, linewidth=linewidth, label=label)\n",
    "\telif y is not None:\n",
    "\t\tax.axhline(y, color=color, linestyle=linestyle, linewidth=linewidth, label=label)\n",
    "\n",
    "\n",
    "def get_charts_dir(filename):\n",
    "\treturn f\"./{filename}\""
   ],
   "outputs": [],
   "execution_count": null
  },
  {
   "cell_type": "code",
   "id": "455cbd73e5873ace",
   "metadata": {},
   "source": [
    "# Data from the pie chart\n",
    "data = {\n",
    "\t\"Payment Method\": [\"Card terminal\", \"Cash\", \"Online pre top-up\", \"VIP issued\"],\n",
    "\t\"Count\": [8486, 7561, 1634, 23],\n",
    "\t\"Total Value (CZK)\": [7264503, 5782570, 1436400, 37500]\n",
    "}\n",
    "\n",
    "# Convert data to a DataFrame\n",
    "df = pd.DataFrame(data)\n",
    "\n",
    "# Calculate proportions for the 100% stacked bar chart\n",
    "df[\"Proportion\"] = df[\"Count\"] / df[\"Count\"].sum()\n",
    "\n",
    "# Define a minimum proportion for visibility\n",
    "min_proportion = 0.02  # Set minimum visual width (2%)\n",
    "df[\"Visual Proportion\"] = df[\"Proportion\"].apply(lambda x: max(x, min_proportion))\n",
    "\n",
    "# Prepare data for plotting\n",
    "methods = df[\"Payment Method\"]\n",
    "proportions = df[\"Proportion\"]\n",
    "visual_proportions = df[\"Visual Proportion\"]\n",
    "total_values = df[\"Total Value (CZK)\"]\n",
    "\n",
    "# Create a subplot\n",
    "fig, ax = create_subplots(figsize=(10, 4))  # Wider figure for a horizontal bar\n",
    "\n",
    "# Plot the horizontal 100% stacked bar chart\n",
    "left = 0\n",
    "for i, (proportion, visual_proportion, method, value, color) in enumerate(\n",
    "\t\tzip(proportions, visual_proportions, methods, total_values, chart_colors[:len(methods)])\n",
    "):\n",
    "\tax.barh(\n",
    "\t\ty=0,\n",
    "\t\twidth=visual_proportion,\n",
    "\t\tleft=left,\n",
    "\t\tcolor=color,\n",
    "\t\tedgecolor=\"#d9d9d9\",\n",
    "\t\tlinewidth=0.5,\n",
    "\t\tlabel=method\n",
    "\t)\n",
    "\t# Add proportion and value label inside or outside based on size\n",
    "\tlabel_text = f\"{proportion * 100:.1f}%\"\n",
    "\tif visual_proportion < 0.03:  # If the segment is small, place the label outside\n",
    "\t\tcontinue\n",
    "\telse:\n",
    "\t\tax.text(\n",
    "\t\t\tleft + visual_proportion / 2,\n",
    "\t\t\t0,\n",
    "\t\t\tlabel_text,\n",
    "\t\t\tha='center',\n",
    "\t\t\tva='center',\n",
    "\t\t\tcolor='white',\n",
    "\t\t\tfontsize=16,\n",
    "\t\t)\n",
    "\tleft += visual_proportion\n",
    "\n",
    "# Customize the axes\n",
    "ax.set_xlim(0, 1)\n",
    "ax.spines['top'].set_visible(False)\n",
    "ax.spines['right'].set_visible(False)\n",
    "ax.spines['left'].set_visible(False)\n",
    "ax.set_yticks([])  # Remove y-ticks as it is a single bar\n",
    "ax.xaxis.set_major_formatter(ticker.FuncFormatter(lambda x, _: f\"{int(x * 100)}%\"))\n",
    "# x-ticks fontsize=16, pad=5\n",
    "ax.tick_params(axis='x', which='major', labelsize=16, pad=5)\n",
    "# ax.legend(loc='upper center', bbox_to_anchor=(0.5, -0.1), ncol=4, fontsize=10, frameon=False)\n",
    "\n",
    "plt.tight_layout()\n",
    "# plt.show()\n",
    "plt.savefig(get_charts_dir(\"rq2-topup-methods.png\"), dpi=300, bbox_inches='tight', pad_inches=0.1)"
   ],
   "outputs": [],
   "execution_count": null
  },
  {
   "cell_type": "code",
   "id": "a52310a00900278b",
   "metadata": {},
   "source": [
    "import matplotlib.pyplot as plt\n",
    "\n",
    "data = load_data(\"rq4-organizer-vs-vendor-sales.csv\")\n",
    "\n",
    "# Define category order and grouping (reversed for bottom-to-top display)\n",
    "category_order = [\n",
    "\t'complimentary', 'ticket',  # Other\n",
    "\t'sweet', 'salty',  # Food\n",
    "\t'wine', 'non_alcoholic', 'spirits', 'beer'  # Beverages\n",
    "]\n",
    "\n",
    "category_labels = {\n",
    "\t\"beer\": \"Beer\",\n",
    "\t\"spirits\": \"Spirits\",\n",
    "\t\"non_alcoholic\": \"Non-Alcoholic\",\n",
    "\t\"wine\": \"Wine\",\n",
    "\t\"salty\": \"Salty Snacks\",\n",
    "\t\"sweet\": \"Sweet Snacks\",\n",
    "\t\"ticket\": \"Tickets\",\n",
    "\t\"complimentary\": \"Complimentary\"\n",
    "}\n",
    "\n",
    "# Prepare data\n",
    "organizer_values = data.loc[data['source'] == 'organizer', category_order].iloc[0]\n",
    "external_values = data.loc[data['source'] == 'external', category_order].iloc[0]\n",
    "total_values = organizer_values + external_values\n",
    "\n",
    "# Create figure\n",
    "fig, ax = plt.subplots(figsize=(12, 10))\n",
    "\n",
    "# Plot bars\n",
    "y_positions = range(len(category_order))\n",
    "bars_organizer = ax.barh(\n",
    "\ty_positions, organizer_values,\n",
    "\tlabel=\"Organizer\",\n",
    "\tcolor=get_chart_color(0),\n",
    "\tedgecolor='white'\n",
    ")\n",
    "bars_external = ax.barh(\n",
    "\ty_positions, external_values, left=organizer_values,\n",
    "\tlabel=\"External Vendors\",\n",
    "\tcolor=get_chart_color(1),\n",
    "\tedgecolor='white'\n",
    ")\n",
    "\n",
    "# Add category labels\n",
    "ax.set_yticks(y_positions)\n",
    "ax.set_yticklabels([category_labels[cat] for cat in category_order], fontsize=16)\n",
    "# y-ticks fontsize=16, pad=5\n",
    "ax.tick_params(axis='y', which='major', labelsize=16, pad=16)\n",
    "\n",
    "# Add value and percentage labels\n",
    "for i, (org_val, ext_val) in enumerate(zip(organizer_values, external_values)):\n",
    "\ttotal = org_val + ext_val\n",
    "\n",
    "\t# Add total value\n",
    "\tax.text(\n",
    "\t\ttotal + (max(total_values) * 0.02), i,\n",
    "\t\tformat_price_short(total),\n",
    "\t\tva='center', ha='left', fontsize=16, color=get_chart_color('text'), fontweight='bold'\n",
    "\t)\n",
    "\n",
    "# Add gridlines\n",
    "ax.grid(axis='x', linestyle='--', alpha=0.3, zorder=-1)\n",
    "\n",
    "# Add group separators\n",
    "group_separators = [1.5, 3.5]  # Adjusted positions for reversed order\n",
    "for sep in group_separators:\n",
    "\tax.axhline(y=sep, color='#d9d9d9', linestyle='-', linewidth=0.5)\n",
    "\n",
    "# Customize chart\n",
    "ax.set_xlabel(\"Total sales (in CZK)\", fontsize=16, labelpad=20)\n",
    "ax.xaxis.set_major_formatter(ticker.FuncFormatter(lambda x, _: format_number_short(x / 100)))\n",
    "# x-ticks fontsize=16, pad=10\n",
    "ax.tick_params(axis='x', which='major', labelsize=16, pad=16)\n",
    "ax.spines['top'].set_visible(False)\n",
    "ax.spines['right'].set_visible(False)\n",
    "ax.legend(fontsize=16, loc=\"lower right\")\n",
    "\n",
    "ax.grid(axis='y', linestyle='--', alpha=0)\n",
    "\n",
    "ax.set_xlim(0, max(total_values) * 1.1)\n",
    "\n",
    "# Add group labels with adjusted positions\n",
    "# ax.text(\n",
    "#     -max(total_values) * 0.15, 6.5, \"Beverages\", rotation=90,\n",
    "#     va='center', ha='center', fontsize=10, color='#474647'\n",
    "# )\n",
    "# ax.text(\n",
    "#     -max(total_values) * 0.15, 2.5, \"Food\", rotation=90,\n",
    "#     va='center', ha='center', fontsize=10, color='#474647'\n",
    "# )\n",
    "# ax.text(\n",
    "#     -max(total_values) * 0.15, 0.5, \"Other\", rotation=90,\n",
    "#     va='center', ha='center', fontsize=10, color='#474647'\n",
    "# )\n",
    "\n",
    "plt.tight_layout()\n",
    "plt.savefig(get_charts_dir(\"rq4-organizer-vs-vendor-sales.png\"), dpi=300, bbox_inches='tight', pad_inches=0.1)\n",
    "\n"
   ],
   "outputs": [],
   "execution_count": null
  },
  {
   "cell_type": "code",
   "id": "2b728a80cf04a107",
   "metadata": {
    "ExecuteTime": {
     "end_time": "2025-01-02T18:09:11.765787Z",
     "start_time": "2025-01-02T18:09:10.685277Z"
    }
   },
   "source": [
    "import plotly.graph_objects as go\n",
    "from dashboard_app._chart_utils import SankeyDiagram\n",
    "\n",
    "\n",
    "def format_value(value, show_percentage=False, total=None, group_total=None):\n",
    "\t\"\"\"Format values with simplified formatting to match thesis\"\"\"\n",
    "\tval_str = format_price_short(value)\n",
    "\n",
    "\tif show_percentage:\n",
    "\t\tpercentage = value / (total or group_total) * 100\n",
    "\t\tval_str = f'{val_str} ({format_percent(percentage)})'\n",
    "\n",
    "\treturn val_str\n",
    "\n",
    "\n",
    "# Create Sankey diagram\n",
    "sankey = SankeyDiagram()\n",
    "\n",
    "# Data preparation\n",
    "remaining_amount = 353602800\n",
    "refunded_amount = 317894600\n",
    "non_refundable = 2265100\n",
    "unclaimed = 33443100\n",
    "\n",
    "# Add nodes (x,y will be overridden later)\n",
    "sankey.add_node(\n",
    "\t'remaining',\n",
    "\tf'Remaining Credit {format_value(remaining_amount)}',\n",
    "\t0, 0, 'stone'\n",
    ")\n",
    "\n",
    "sankey.add_node(\n",
    "\t'refunded',\n",
    "\tf'Refunded {format_value(refunded_amount, False, remaining_amount)}',\n",
    "\t0, 0, 'stone'\n",
    ")\n",
    "\n",
    "sankey.add_node(\n",
    "\t'non_refundable',\n",
    "\tf'Non-refundable {format_value(non_refundable, False, remaining_amount)}',\n",
    "\t0, 0, 'crimson'\n",
    ")\n",
    "\n",
    "sankey.add_node(\n",
    "\t'unclaimed',\n",
    "\tf'Unclaimed {format_value(unclaimed, False, remaining_amount)}',\n",
    "\t0, 0, 'lime'\n",
    ")\n",
    "\n",
    "sankey.add_node(\n",
    "\t'bank',\n",
    "\tf'Bank Refunds {format_value(316356700, False, group_total=refunded_amount)}',\n",
    "\t0, 0, 'stone'\n",
    ")\n",
    "\n",
    "sankey.add_node(\n",
    "\t'pos',\n",
    "\tf'On-site Refunds {format_value(1537900, False, group_total=refunded_amount)}',\n",
    "\t0, 0, 'stone'\n",
    ")\n",
    "\n",
    "sankey.add_node(\n",
    "\t'vip',\n",
    "\tf'VIP Credit {format_value(1240500, False, group_total=non_refundable)}',\n",
    "\t0, 0, 'crimson'\n",
    ")\n",
    "\n",
    "sankey.add_node(\n",
    "\t'integrity',\n",
    "\tf'Integrity Errors {format_value(1024600, False, group_total=non_refundable)}',\n",
    "\t0, 0, 'crimson'\n",
    ")\n",
    "\n",
    "# Add invisible target nodes for final layer\n",
    "sankey.add_node(\n",
    "\t'bank_end',\n",
    "\t'',  # Empty label\n",
    "\t0, 0, 'white'  # White color makes it invisible\n",
    ")\n",
    "\n",
    "sankey.add_node(\n",
    "\t'pos_end',\n",
    "\t'',\n",
    "\t0, 0, 'white'\n",
    ")\n",
    "\n",
    "sankey.add_node(\n",
    "\t'vip_end',\n",
    "\t'',\n",
    "\t0, 0, 'white'\n",
    ")\n",
    "\n",
    "sankey.add_node(\n",
    "\t'integrity_end',\n",
    "\t'',\n",
    "\t0, 0, 'white'\n",
    ")\n",
    "\n",
    "# Add flows\n",
    "sankey.add_flow('remaining', 'refunded', refunded_amount, 'stone')\n",
    "sankey.add_flow('remaining', 'non_refundable', non_refundable, 'crimson')\n",
    "sankey.add_flow('remaining', 'unclaimed', unclaimed, 'lime')\n",
    "\n",
    "sankey.add_flow('refunded', 'bank', 316356700, 'stone')\n",
    "sankey.add_flow('refunded', 'pos', 1537900, 'stone')\n",
    "sankey.add_flow('non_refundable', 'vip', 1240500, 'crimson')\n",
    "sankey.add_flow('non_refundable', 'integrity', 1024600, 'crimson')\n",
    "\n",
    "# Add tiny flows to invisible nodes\n",
    "sankey.add_flow('bank', 'bank_end', 1, 'white')\n",
    "sankey.add_flow('pos', 'pos_end', 1, 'white')\n",
    "sankey.add_flow('vip', 'vip_end', 1, 'white')\n",
    "sankey.add_flow('integrity', 'integrity_end', 1, 'white')\n",
    "\n",
    "# Get the plotly dict and override positioning\n",
    "plotly_dict = sankey.to_plotly()\n",
    "node_dict = plotly_dict['node']\n",
    "\n",
    "# Update node positions to move final stage more to the right\n",
    "# Update node positions\n",
    "node_dict.update(\n",
    "\t{\n",
    "\t\t'x': [\n",
    "\t\t\t0.05,  # Remaining Credit (moved left from 0.1)\n",
    "\t\t\t0.45,  # Refunded\n",
    "\t\t\t0.45,  # Non-refundable\n",
    "\t\t\t0.45,  # Unclaimed\n",
    "\t\t\t0.85,  # Bank Refunds\n",
    "\t\t\t0.85,  # On-site Refunds\n",
    "\t\t\t0.85,  # VIP Credit\n",
    "\t\t\t0.85,  # Integrity Errors\n",
    "\t\t\t1.0,  # Bank end (invisible)\n",
    "\t\t\t1.0,  # POS end (invisible)\n",
    "\t\t\t1.0,  # VIP end (invisible)\n",
    "\t\t\t1.0  # Integrity end (invisible)\n",
    "\t\t],\n",
    "\t\t'y': [\n",
    "\t\t\t0.44,  # Remaining Credit\n",
    "\t\t\t0.4,  # Refunded\n",
    "\t\t\t0.6,  # Non-refundable\n",
    "\t\t\t0.7,  # Unclaimed\n",
    "\t\t\t0.4,  # Bank Refunds\n",
    "\t\t\t0.5,  # On-site Refunds\n",
    "\t\t\t0.7,  # VIP Credit\n",
    "\t\t\t0.7,  # Integrity Errors\n",
    "\t\t\t0.75,  # Bank end\n",
    "\t\t\t0.75,  # POS end\n",
    "\t\t\t0.75,  # VIP end\n",
    "\t\t\t0.75  # Integrity end\n",
    "\t\t],\n",
    "\t\t'pad': 25,\n",
    "\t\t'thickness': 15,\n",
    "\t\t'line': { 'color': \"black\", 'width': 0 }\n",
    "\t}\n",
    ")\n",
    "\n",
    "# Create figure with updated font and positioning\n",
    "fig = go.Figure(\n",
    "\tdata=[go.Sankey(\n",
    "\t\tarrangement=\"snap\",\n",
    "\t\tnode=node_dict,\n",
    "\t\tlink={\n",
    "\t\t\t**plotly_dict['link'],\n",
    "\t\t\t'color': [*[c for c in plotly_dict['link']['color'][:-4]],\n",
    "\t\t\t          *['rgba(255,255,255,0)'] * 4]  # Make last 4 flows invisible\n",
    "\t\t},\n",
    "\t\ttextfont={\n",
    "\t\t\t\"size\": 18,\n",
    "\t\t\t\"family\": \"serif\"\n",
    "\t\t}\n",
    "\t)]\n",
    ")\n",
    "\n",
    "scale = 1\n",
    "# Update layout with consistent font\n",
    "fig.update_layout(\n",
    "\tfont=dict(\n",
    "\t\tsize=24 * scale,\n",
    "\t\tfamily=\"serif\",\n",
    "\t\tweight=\"bold\",\n",
    "\t\tcolor=get_chart_color('text'),\n",
    "\t),\n",
    "\tpaper_bgcolor='white',\n",
    "\tplot_bgcolor='white',\n",
    "\twidth=900,\n",
    "\theight=400,\n",
    "\t# Increase right margin to accommodate labels\n",
    "\tmargin=dict(t=25, l=0, r=200, b=25),\n",
    "\tannotations=[\n",
    "\t\t# dict(\n",
    "\t\t# \tx=0.5,\n",
    "\t\t# \ty=-0.3,\n",
    "\t\t# \txref='paper',\n",
    "\t\t# \tyref='paper',\n",
    "\t\t# \ttext='Note: Percentages in groups are relative to Remaining Credit,<br>while percentages in detail nodes are relative to their respective group totals',\n",
    "\t\t# \tshowarrow=False,\n",
    "\t\t# \tfont=dict(size=18, family=\"\\\"Computer Modern Sans\\\", serif\"),\n",
    "\t\t# \talign='center'\n",
    "\t\t# )\n",
    "\t]\n",
    ")\n",
    "\n",
    "# Save with high quality\n",
    "# fig.write_image(\"credit_flow_thesis.pdf\", scale=4)\n",
    "# fig.write_image(\"credit_flow_thesis.png\", scale=4, width=2400, height=1400)\n",
    "# fig.write_html(\"credit_flow_thesis.html\")\n",
    "fig.write_image(get_charts_dir(\"rq3-remaining-balances.png\"), scale=4, width=900, height=400)\n",
    "fig.show()"
   ],
   "outputs": [
    {
     "data": {
      "application/vnd.plotly.v1+json": {
       "data": [
        {
         "arrangement": "snap",
         "link": {
          "color": [
           "rgba(186, 176, 172, 0.35)",
           "rgba(225, 87, 89, 0.35)",
           "rgba(151, 204, 4, 0.35)",
           "rgba(186, 176, 172, 0.35)",
           "rgba(186, 176, 172, 0.35)",
           "rgba(225, 87, 89, 0.35)",
           "rgba(225, 87, 89, 0.35)",
           "rgba(255,255,255,0)",
           "rgba(255,255,255,0)",
           "rgba(255,255,255,0)",
           "rgba(255,255,255,0)"
          ],
          "source": [
           0,
           0,
           0,
           1,
           1,
           2,
           2,
           4,
           5,
           6,
           7
          ],
          "target": [
           1,
           2,
           3,
           4,
           5,
           6,
           7,
           8,
           9,
           10,
           11
          ],
          "value": [
           317894600,
           2265100,
           33443100,
           316356700,
           1537900,
           1240500,
           1024600,
           1,
           1,
           1,
           1
          ]
         },
         "node": {
          "color": [
           "rgba(186, 176, 172, 0.85)",
           "rgba(186, 176, 172, 0.85)",
           "rgba(225, 87, 89, 0.85)",
           "rgba(151, 204, 4, 0.85)",
           "rgba(186, 176, 172, 0.85)",
           "rgba(186, 176, 172, 0.85)",
           "rgba(225, 87, 89, 0.85)",
           "rgba(225, 87, 89, 0.85)",
           "rgba(255, 255, 255, 0.85)",
           "rgba(255, 255, 255, 0.85)",
           "rgba(255, 255, 255, 0.85)",
           "rgba(255, 255, 255, 0.85)"
          ],
          "label": [
           "Remaining Credit 3.5M CZK",
           "Refunded 3.2M CZK",
           "Non-refundable 22.7K CZK",
           "Unclaimed 334.4K CZK",
           "Bank Refunds 3.2M CZK",
           "On-site Refunds 15.4K CZK",
           "VIP Credit 12.4K CZK",
           "Integrity Errors 10.2K CZK",
           "",
           "",
           "",
           ""
          ],
          "line": {
           "color": "black",
           "width": 0
          },
          "pad": 25,
          "thickness": 15,
          "x": [
           0.05,
           0.45,
           0.45,
           0.45,
           0.85,
           0.85,
           0.85,
           0.85,
           1.0,
           1.0,
           1.0,
           1.0
          ],
          "y": [
           0.44,
           0.4,
           0.6,
           0.7,
           0.4,
           0.5,
           0.7,
           0.7,
           0.75,
           0.75,
           0.75,
           0.75
          ]
         },
         "textfont": {
          "family": "serif",
          "size": 18
         },
         "type": "sankey"
        }
       ],
       "layout": {
        "template": {
         "data": {
          "histogram2dcontour": [
           {
            "type": "histogram2dcontour",
            "colorbar": {
             "outlinewidth": 0,
             "ticks": ""
            },
            "colorscale": [
             [
              0.0,
              "#0d0887"
             ],
             [
              0.1111111111111111,
              "#46039f"
             ],
             [
              0.2222222222222222,
              "#7201a8"
             ],
             [
              0.3333333333333333,
              "#9c179e"
             ],
             [
              0.4444444444444444,
              "#bd3786"
             ],
             [
              0.5555555555555556,
              "#d8576b"
             ],
             [
              0.6666666666666666,
              "#ed7953"
             ],
             [
              0.7777777777777778,
              "#fb9f3a"
             ],
             [
              0.8888888888888888,
              "#fdca26"
             ],
             [
              1.0,
              "#f0f921"
             ]
            ]
           }
          ],
          "choropleth": [
           {
            "type": "choropleth",
            "colorbar": {
             "outlinewidth": 0,
             "ticks": ""
            }
           }
          ],
          "histogram2d": [
           {
            "type": "histogram2d",
            "colorbar": {
             "outlinewidth": 0,
             "ticks": ""
            },
            "colorscale": [
             [
              0.0,
              "#0d0887"
             ],
             [
              0.1111111111111111,
              "#46039f"
             ],
             [
              0.2222222222222222,
              "#7201a8"
             ],
             [
              0.3333333333333333,
              "#9c179e"
             ],
             [
              0.4444444444444444,
              "#bd3786"
             ],
             [
              0.5555555555555556,
              "#d8576b"
             ],
             [
              0.6666666666666666,
              "#ed7953"
             ],
             [
              0.7777777777777778,
              "#fb9f3a"
             ],
             [
              0.8888888888888888,
              "#fdca26"
             ],
             [
              1.0,
              "#f0f921"
             ]
            ]
           }
          ],
          "heatmap": [
           {
            "type": "heatmap",
            "colorbar": {
             "outlinewidth": 0,
             "ticks": ""
            },
            "colorscale": [
             [
              0.0,
              "#0d0887"
             ],
             [
              0.1111111111111111,
              "#46039f"
             ],
             [
              0.2222222222222222,
              "#7201a8"
             ],
             [
              0.3333333333333333,
              "#9c179e"
             ],
             [
              0.4444444444444444,
              "#bd3786"
             ],
             [
              0.5555555555555556,
              "#d8576b"
             ],
             [
              0.6666666666666666,
              "#ed7953"
             ],
             [
              0.7777777777777778,
              "#fb9f3a"
             ],
             [
              0.8888888888888888,
              "#fdca26"
             ],
             [
              1.0,
              "#f0f921"
             ]
            ]
           }
          ],
          "heatmapgl": [
           {
            "type": "heatmapgl",
            "colorbar": {
             "outlinewidth": 0,
             "ticks": ""
            },
            "colorscale": [
             [
              0.0,
              "#0d0887"
             ],
             [
              0.1111111111111111,
              "#46039f"
             ],
             [
              0.2222222222222222,
              "#7201a8"
             ],
             [
              0.3333333333333333,
              "#9c179e"
             ],
             [
              0.4444444444444444,
              "#bd3786"
             ],
             [
              0.5555555555555556,
              "#d8576b"
             ],
             [
              0.6666666666666666,
              "#ed7953"
             ],
             [
              0.7777777777777778,
              "#fb9f3a"
             ],
             [
              0.8888888888888888,
              "#fdca26"
             ],
             [
              1.0,
              "#f0f921"
             ]
            ]
           }
          ],
          "contourcarpet": [
           {
            "type": "contourcarpet",
            "colorbar": {
             "outlinewidth": 0,
             "ticks": ""
            }
           }
          ],
          "contour": [
           {
            "type": "contour",
            "colorbar": {
             "outlinewidth": 0,
             "ticks": ""
            },
            "colorscale": [
             [
              0.0,
              "#0d0887"
             ],
             [
              0.1111111111111111,
              "#46039f"
             ],
             [
              0.2222222222222222,
              "#7201a8"
             ],
             [
              0.3333333333333333,
              "#9c179e"
             ],
             [
              0.4444444444444444,
              "#bd3786"
             ],
             [
              0.5555555555555556,
              "#d8576b"
             ],
             [
              0.6666666666666666,
              "#ed7953"
             ],
             [
              0.7777777777777778,
              "#fb9f3a"
             ],
             [
              0.8888888888888888,
              "#fdca26"
             ],
             [
              1.0,
              "#f0f921"
             ]
            ]
           }
          ],
          "surface": [
           {
            "type": "surface",
            "colorbar": {
             "outlinewidth": 0,
             "ticks": ""
            },
            "colorscale": [
             [
              0.0,
              "#0d0887"
             ],
             [
              0.1111111111111111,
              "#46039f"
             ],
             [
              0.2222222222222222,
              "#7201a8"
             ],
             [
              0.3333333333333333,
              "#9c179e"
             ],
             [
              0.4444444444444444,
              "#bd3786"
             ],
             [
              0.5555555555555556,
              "#d8576b"
             ],
             [
              0.6666666666666666,
              "#ed7953"
             ],
             [
              0.7777777777777778,
              "#fb9f3a"
             ],
             [
              0.8888888888888888,
              "#fdca26"
             ],
             [
              1.0,
              "#f0f921"
             ]
            ]
           }
          ],
          "mesh3d": [
           {
            "type": "mesh3d",
            "colorbar": {
             "outlinewidth": 0,
             "ticks": ""
            }
           }
          ],
          "scatter": [
           {
            "fillpattern": {
             "fillmode": "overlay",
             "size": 10,
             "solidity": 0.2
            },
            "type": "scatter"
           }
          ],
          "parcoords": [
           {
            "type": "parcoords",
            "line": {
             "colorbar": {
              "outlinewidth": 0,
              "ticks": ""
             }
            }
           }
          ],
          "scatterpolargl": [
           {
            "type": "scatterpolargl",
            "marker": {
             "colorbar": {
              "outlinewidth": 0,
              "ticks": ""
             }
            }
           }
          ],
          "bar": [
           {
            "error_x": {
             "color": "#2a3f5f"
            },
            "error_y": {
             "color": "#2a3f5f"
            },
            "marker": {
             "line": {
              "color": "#E5ECF6",
              "width": 0.5
             },
             "pattern": {
              "fillmode": "overlay",
              "size": 10,
              "solidity": 0.2
             }
            },
            "type": "bar"
           }
          ],
          "scattergeo": [
           {
            "type": "scattergeo",
            "marker": {
             "colorbar": {
              "outlinewidth": 0,
              "ticks": ""
             }
            }
           }
          ],
          "scatterpolar": [
           {
            "type": "scatterpolar",
            "marker": {
             "colorbar": {
              "outlinewidth": 0,
              "ticks": ""
             }
            }
           }
          ],
          "histogram": [
           {
            "marker": {
             "pattern": {
              "fillmode": "overlay",
              "size": 10,
              "solidity": 0.2
             }
            },
            "type": "histogram"
           }
          ],
          "scattergl": [
           {
            "type": "scattergl",
            "marker": {
             "colorbar": {
              "outlinewidth": 0,
              "ticks": ""
             }
            }
           }
          ],
          "scatter3d": [
           {
            "type": "scatter3d",
            "line": {
             "colorbar": {
              "outlinewidth": 0,
              "ticks": ""
             }
            },
            "marker": {
             "colorbar": {
              "outlinewidth": 0,
              "ticks": ""
             }
            }
           }
          ],
          "scattermapbox": [
           {
            "type": "scattermapbox",
            "marker": {
             "colorbar": {
              "outlinewidth": 0,
              "ticks": ""
             }
            }
           }
          ],
          "scatterternary": [
           {
            "type": "scatterternary",
            "marker": {
             "colorbar": {
              "outlinewidth": 0,
              "ticks": ""
             }
            }
           }
          ],
          "scattercarpet": [
           {
            "type": "scattercarpet",
            "marker": {
             "colorbar": {
              "outlinewidth": 0,
              "ticks": ""
             }
            }
           }
          ],
          "carpet": [
           {
            "aaxis": {
             "endlinecolor": "#2a3f5f",
             "gridcolor": "white",
             "linecolor": "white",
             "minorgridcolor": "white",
             "startlinecolor": "#2a3f5f"
            },
            "baxis": {
             "endlinecolor": "#2a3f5f",
             "gridcolor": "white",
             "linecolor": "white",
             "minorgridcolor": "white",
             "startlinecolor": "#2a3f5f"
            },
            "type": "carpet"
           }
          ],
          "table": [
           {
            "cells": {
             "fill": {
              "color": "#EBF0F8"
             },
             "line": {
              "color": "white"
             }
            },
            "header": {
             "fill": {
              "color": "#C8D4E3"
             },
             "line": {
              "color": "white"
             }
            },
            "type": "table"
           }
          ],
          "barpolar": [
           {
            "marker": {
             "line": {
              "color": "#E5ECF6",
              "width": 0.5
             },
             "pattern": {
              "fillmode": "overlay",
              "size": 10,
              "solidity": 0.2
             }
            },
            "type": "barpolar"
           }
          ],
          "pie": [
           {
            "automargin": true,
            "type": "pie"
           }
          ]
         },
         "layout": {
          "autotypenumbers": "strict",
          "colorway": [
           "#636efa",
           "#EF553B",
           "#00cc96",
           "#ab63fa",
           "#FFA15A",
           "#19d3f3",
           "#FF6692",
           "#B6E880",
           "#FF97FF",
           "#FECB52"
          ],
          "font": {
           "color": "#2a3f5f"
          },
          "hovermode": "closest",
          "hoverlabel": {
           "align": "left"
          },
          "paper_bgcolor": "white",
          "plot_bgcolor": "#E5ECF6",
          "polar": {
           "bgcolor": "#E5ECF6",
           "angularaxis": {
            "gridcolor": "white",
            "linecolor": "white",
            "ticks": ""
           },
           "radialaxis": {
            "gridcolor": "white",
            "linecolor": "white",
            "ticks": ""
           }
          },
          "ternary": {
           "bgcolor": "#E5ECF6",
           "aaxis": {
            "gridcolor": "white",
            "linecolor": "white",
            "ticks": ""
           },
           "baxis": {
            "gridcolor": "white",
            "linecolor": "white",
            "ticks": ""
           },
           "caxis": {
            "gridcolor": "white",
            "linecolor": "white",
            "ticks": ""
           }
          },
          "coloraxis": {
           "colorbar": {
            "outlinewidth": 0,
            "ticks": ""
           }
          },
          "colorscale": {
           "sequential": [
            [
             0.0,
             "#0d0887"
            ],
            [
             0.1111111111111111,
             "#46039f"
            ],
            [
             0.2222222222222222,
             "#7201a8"
            ],
            [
             0.3333333333333333,
             "#9c179e"
            ],
            [
             0.4444444444444444,
             "#bd3786"
            ],
            [
             0.5555555555555556,
             "#d8576b"
            ],
            [
             0.6666666666666666,
             "#ed7953"
            ],
            [
             0.7777777777777778,
             "#fb9f3a"
            ],
            [
             0.8888888888888888,
             "#fdca26"
            ],
            [
             1.0,
             "#f0f921"
            ]
           ],
           "sequentialminus": [
            [
             0.0,
             "#0d0887"
            ],
            [
             0.1111111111111111,
             "#46039f"
            ],
            [
             0.2222222222222222,
             "#7201a8"
            ],
            [
             0.3333333333333333,
             "#9c179e"
            ],
            [
             0.4444444444444444,
             "#bd3786"
            ],
            [
             0.5555555555555556,
             "#d8576b"
            ],
            [
             0.6666666666666666,
             "#ed7953"
            ],
            [
             0.7777777777777778,
             "#fb9f3a"
            ],
            [
             0.8888888888888888,
             "#fdca26"
            ],
            [
             1.0,
             "#f0f921"
            ]
           ],
           "diverging": [
            [
             0,
             "#8e0152"
            ],
            [
             0.1,
             "#c51b7d"
            ],
            [
             0.2,
             "#de77ae"
            ],
            [
             0.3,
             "#f1b6da"
            ],
            [
             0.4,
             "#fde0ef"
            ],
            [
             0.5,
             "#f7f7f7"
            ],
            [
             0.6,
             "#e6f5d0"
            ],
            [
             0.7,
             "#b8e186"
            ],
            [
             0.8,
             "#7fbc41"
            ],
            [
             0.9,
             "#4d9221"
            ],
            [
             1,
             "#276419"
            ]
           ]
          },
          "xaxis": {
           "gridcolor": "white",
           "linecolor": "white",
           "ticks": "",
           "title": {
            "standoff": 15
           },
           "zerolinecolor": "white",
           "automargin": true,
           "zerolinewidth": 2
          },
          "yaxis": {
           "gridcolor": "white",
           "linecolor": "white",
           "ticks": "",
           "title": {
            "standoff": 15
           },
           "zerolinecolor": "white",
           "automargin": true,
           "zerolinewidth": 2
          },
          "scene": {
           "xaxis": {
            "backgroundcolor": "#E5ECF6",
            "gridcolor": "white",
            "linecolor": "white",
            "showbackground": true,
            "ticks": "",
            "zerolinecolor": "white",
            "gridwidth": 2
           },
           "yaxis": {
            "backgroundcolor": "#E5ECF6",
            "gridcolor": "white",
            "linecolor": "white",
            "showbackground": true,
            "ticks": "",
            "zerolinecolor": "white",
            "gridwidth": 2
           },
           "zaxis": {
            "backgroundcolor": "#E5ECF6",
            "gridcolor": "white",
            "linecolor": "white",
            "showbackground": true,
            "ticks": "",
            "zerolinecolor": "white",
            "gridwidth": 2
           }
          },
          "shapedefaults": {
           "line": {
            "color": "#2a3f5f"
           }
          },
          "annotationdefaults": {
           "arrowcolor": "#2a3f5f",
           "arrowhead": 0,
           "arrowwidth": 1
          },
          "geo": {
           "bgcolor": "white",
           "landcolor": "#E5ECF6",
           "subunitcolor": "white",
           "showland": true,
           "showlakes": true,
           "lakecolor": "white"
          },
          "title": {
           "x": 0.05
          },
          "mapbox": {
           "style": "light"
          }
         }
        },
        "font": {
         "size": 24,
         "family": "serif",
         "weight": "bold",
         "color": "#474647"
        },
        "margin": {
         "t": 25,
         "l": 0,
         "r": 200,
         "b": 25
        },
        "paper_bgcolor": "white",
        "plot_bgcolor": "white",
        "width": 900,
        "height": 400
       },
       "config": {
        "plotlyServerURL": "https://plot.ly"
       }
      },
      "text/html": [
       "<div>                            <div id=\"b758ef4a-5c07-4e84-ac3f-4d1e8e4d5898\" class=\"plotly-graph-div\" style=\"height:400px; width:900px;\"></div>            <script type=\"text/javascript\">                require([\"plotly\"], function(Plotly) {                    window.PLOTLYENV=window.PLOTLYENV || {};                                    if (document.getElementById(\"b758ef4a-5c07-4e84-ac3f-4d1e8e4d5898\")) {                    Plotly.newPlot(                        \"b758ef4a-5c07-4e84-ac3f-4d1e8e4d5898\",                        [{\"arrangement\":\"snap\",\"link\":{\"color\":[\"rgba(186, 176, 172, 0.35)\",\"rgba(225, 87, 89, 0.35)\",\"rgba(151, 204, 4, 0.35)\",\"rgba(186, 176, 172, 0.35)\",\"rgba(186, 176, 172, 0.35)\",\"rgba(225, 87, 89, 0.35)\",\"rgba(225, 87, 89, 0.35)\",\"rgba(255,255,255,0)\",\"rgba(255,255,255,0)\",\"rgba(255,255,255,0)\",\"rgba(255,255,255,0)\"],\"source\":[0,0,0,1,1,2,2,4,5,6,7],\"target\":[1,2,3,4,5,6,7,8,9,10,11],\"value\":[317894600,2265100,33443100,316356700,1537900,1240500,1024600,1,1,1,1]},\"node\":{\"color\":[\"rgba(186, 176, 172, 0.85)\",\"rgba(186, 176, 172, 0.85)\",\"rgba(225, 87, 89, 0.85)\",\"rgba(151, 204, 4, 0.85)\",\"rgba(186, 176, 172, 0.85)\",\"rgba(186, 176, 172, 0.85)\",\"rgba(225, 87, 89, 0.85)\",\"rgba(225, 87, 89, 0.85)\",\"rgba(255, 255, 255, 0.85)\",\"rgba(255, 255, 255, 0.85)\",\"rgba(255, 255, 255, 0.85)\",\"rgba(255, 255, 255, 0.85)\"],\"label\":[\"Remaining Credit 3.5M CZK\",\"Refunded 3.2M CZK\",\"Non-refundable 22.7K CZK\",\"Unclaimed 334.4K CZK\",\"Bank Refunds 3.2M CZK\",\"On-site Refunds 15.4K CZK\",\"VIP Credit 12.4K CZK\",\"Integrity Errors 10.2K CZK\",\"\",\"\",\"\",\"\"],\"line\":{\"color\":\"black\",\"width\":0},\"pad\":25,\"thickness\":15,\"x\":[0.05,0.45,0.45,0.45,0.85,0.85,0.85,0.85,1.0,1.0,1.0,1.0],\"y\":[0.44,0.4,0.6,0.7,0.4,0.5,0.7,0.7,0.75,0.75,0.75,0.75]},\"textfont\":{\"family\":\"serif\",\"size\":18},\"type\":\"sankey\"}],                        {\"template\":{\"data\":{\"histogram2dcontour\":[{\"type\":\"histogram2dcontour\",\"colorbar\":{\"outlinewidth\":0,\"ticks\":\"\"},\"colorscale\":[[0.0,\"#0d0887\"],[0.1111111111111111,\"#46039f\"],[0.2222222222222222,\"#7201a8\"],[0.3333333333333333,\"#9c179e\"],[0.4444444444444444,\"#bd3786\"],[0.5555555555555556,\"#d8576b\"],[0.6666666666666666,\"#ed7953\"],[0.7777777777777778,\"#fb9f3a\"],[0.8888888888888888,\"#fdca26\"],[1.0,\"#f0f921\"]]}],\"choropleth\":[{\"type\":\"choropleth\",\"colorbar\":{\"outlinewidth\":0,\"ticks\":\"\"}}],\"histogram2d\":[{\"type\":\"histogram2d\",\"colorbar\":{\"outlinewidth\":0,\"ticks\":\"\"},\"colorscale\":[[0.0,\"#0d0887\"],[0.1111111111111111,\"#46039f\"],[0.2222222222222222,\"#7201a8\"],[0.3333333333333333,\"#9c179e\"],[0.4444444444444444,\"#bd3786\"],[0.5555555555555556,\"#d8576b\"],[0.6666666666666666,\"#ed7953\"],[0.7777777777777778,\"#fb9f3a\"],[0.8888888888888888,\"#fdca26\"],[1.0,\"#f0f921\"]]}],\"heatmap\":[{\"type\":\"heatmap\",\"colorbar\":{\"outlinewidth\":0,\"ticks\":\"\"},\"colorscale\":[[0.0,\"#0d0887\"],[0.1111111111111111,\"#46039f\"],[0.2222222222222222,\"#7201a8\"],[0.3333333333333333,\"#9c179e\"],[0.4444444444444444,\"#bd3786\"],[0.5555555555555556,\"#d8576b\"],[0.6666666666666666,\"#ed7953\"],[0.7777777777777778,\"#fb9f3a\"],[0.8888888888888888,\"#fdca26\"],[1.0,\"#f0f921\"]]}],\"heatmapgl\":[{\"type\":\"heatmapgl\",\"colorbar\":{\"outlinewidth\":0,\"ticks\":\"\"},\"colorscale\":[[0.0,\"#0d0887\"],[0.1111111111111111,\"#46039f\"],[0.2222222222222222,\"#7201a8\"],[0.3333333333333333,\"#9c179e\"],[0.4444444444444444,\"#bd3786\"],[0.5555555555555556,\"#d8576b\"],[0.6666666666666666,\"#ed7953\"],[0.7777777777777778,\"#fb9f3a\"],[0.8888888888888888,\"#fdca26\"],[1.0,\"#f0f921\"]]}],\"contourcarpet\":[{\"type\":\"contourcarpet\",\"colorbar\":{\"outlinewidth\":0,\"ticks\":\"\"}}],\"contour\":[{\"type\":\"contour\",\"colorbar\":{\"outlinewidth\":0,\"ticks\":\"\"},\"colorscale\":[[0.0,\"#0d0887\"],[0.1111111111111111,\"#46039f\"],[0.2222222222222222,\"#7201a8\"],[0.3333333333333333,\"#9c179e\"],[0.4444444444444444,\"#bd3786\"],[0.5555555555555556,\"#d8576b\"],[0.6666666666666666,\"#ed7953\"],[0.7777777777777778,\"#fb9f3a\"],[0.8888888888888888,\"#fdca26\"],[1.0,\"#f0f921\"]]}],\"surface\":[{\"type\":\"surface\",\"colorbar\":{\"outlinewidth\":0,\"ticks\":\"\"},\"colorscale\":[[0.0,\"#0d0887\"],[0.1111111111111111,\"#46039f\"],[0.2222222222222222,\"#7201a8\"],[0.3333333333333333,\"#9c179e\"],[0.4444444444444444,\"#bd3786\"],[0.5555555555555556,\"#d8576b\"],[0.6666666666666666,\"#ed7953\"],[0.7777777777777778,\"#fb9f3a\"],[0.8888888888888888,\"#fdca26\"],[1.0,\"#f0f921\"]]}],\"mesh3d\":[{\"type\":\"mesh3d\",\"colorbar\":{\"outlinewidth\":0,\"ticks\":\"\"}}],\"scatter\":[{\"fillpattern\":{\"fillmode\":\"overlay\",\"size\":10,\"solidity\":0.2},\"type\":\"scatter\"}],\"parcoords\":[{\"type\":\"parcoords\",\"line\":{\"colorbar\":{\"outlinewidth\":0,\"ticks\":\"\"}}}],\"scatterpolargl\":[{\"type\":\"scatterpolargl\",\"marker\":{\"colorbar\":{\"outlinewidth\":0,\"ticks\":\"\"}}}],\"bar\":[{\"error_x\":{\"color\":\"#2a3f5f\"},\"error_y\":{\"color\":\"#2a3f5f\"},\"marker\":{\"line\":{\"color\":\"#E5ECF6\",\"width\":0.5},\"pattern\":{\"fillmode\":\"overlay\",\"size\":10,\"solidity\":0.2}},\"type\":\"bar\"}],\"scattergeo\":[{\"type\":\"scattergeo\",\"marker\":{\"colorbar\":{\"outlinewidth\":0,\"ticks\":\"\"}}}],\"scatterpolar\":[{\"type\":\"scatterpolar\",\"marker\":{\"colorbar\":{\"outlinewidth\":0,\"ticks\":\"\"}}}],\"histogram\":[{\"marker\":{\"pattern\":{\"fillmode\":\"overlay\",\"size\":10,\"solidity\":0.2}},\"type\":\"histogram\"}],\"scattergl\":[{\"type\":\"scattergl\",\"marker\":{\"colorbar\":{\"outlinewidth\":0,\"ticks\":\"\"}}}],\"scatter3d\":[{\"type\":\"scatter3d\",\"line\":{\"colorbar\":{\"outlinewidth\":0,\"ticks\":\"\"}},\"marker\":{\"colorbar\":{\"outlinewidth\":0,\"ticks\":\"\"}}}],\"scattermapbox\":[{\"type\":\"scattermapbox\",\"marker\":{\"colorbar\":{\"outlinewidth\":0,\"ticks\":\"\"}}}],\"scatterternary\":[{\"type\":\"scatterternary\",\"marker\":{\"colorbar\":{\"outlinewidth\":0,\"ticks\":\"\"}}}],\"scattercarpet\":[{\"type\":\"scattercarpet\",\"marker\":{\"colorbar\":{\"outlinewidth\":0,\"ticks\":\"\"}}}],\"carpet\":[{\"aaxis\":{\"endlinecolor\":\"#2a3f5f\",\"gridcolor\":\"white\",\"linecolor\":\"white\",\"minorgridcolor\":\"white\",\"startlinecolor\":\"#2a3f5f\"},\"baxis\":{\"endlinecolor\":\"#2a3f5f\",\"gridcolor\":\"white\",\"linecolor\":\"white\",\"minorgridcolor\":\"white\",\"startlinecolor\":\"#2a3f5f\"},\"type\":\"carpet\"}],\"table\":[{\"cells\":{\"fill\":{\"color\":\"#EBF0F8\"},\"line\":{\"color\":\"white\"}},\"header\":{\"fill\":{\"color\":\"#C8D4E3\"},\"line\":{\"color\":\"white\"}},\"type\":\"table\"}],\"barpolar\":[{\"marker\":{\"line\":{\"color\":\"#E5ECF6\",\"width\":0.5},\"pattern\":{\"fillmode\":\"overlay\",\"size\":10,\"solidity\":0.2}},\"type\":\"barpolar\"}],\"pie\":[{\"automargin\":true,\"type\":\"pie\"}]},\"layout\":{\"autotypenumbers\":\"strict\",\"colorway\":[\"#636efa\",\"#EF553B\",\"#00cc96\",\"#ab63fa\",\"#FFA15A\",\"#19d3f3\",\"#FF6692\",\"#B6E880\",\"#FF97FF\",\"#FECB52\"],\"font\":{\"color\":\"#2a3f5f\"},\"hovermode\":\"closest\",\"hoverlabel\":{\"align\":\"left\"},\"paper_bgcolor\":\"white\",\"plot_bgcolor\":\"#E5ECF6\",\"polar\":{\"bgcolor\":\"#E5ECF6\",\"angularaxis\":{\"gridcolor\":\"white\",\"linecolor\":\"white\",\"ticks\":\"\"},\"radialaxis\":{\"gridcolor\":\"white\",\"linecolor\":\"white\",\"ticks\":\"\"}},\"ternary\":{\"bgcolor\":\"#E5ECF6\",\"aaxis\":{\"gridcolor\":\"white\",\"linecolor\":\"white\",\"ticks\":\"\"},\"baxis\":{\"gridcolor\":\"white\",\"linecolor\":\"white\",\"ticks\":\"\"},\"caxis\":{\"gridcolor\":\"white\",\"linecolor\":\"white\",\"ticks\":\"\"}},\"coloraxis\":{\"colorbar\":{\"outlinewidth\":0,\"ticks\":\"\"}},\"colorscale\":{\"sequential\":[[0.0,\"#0d0887\"],[0.1111111111111111,\"#46039f\"],[0.2222222222222222,\"#7201a8\"],[0.3333333333333333,\"#9c179e\"],[0.4444444444444444,\"#bd3786\"],[0.5555555555555556,\"#d8576b\"],[0.6666666666666666,\"#ed7953\"],[0.7777777777777778,\"#fb9f3a\"],[0.8888888888888888,\"#fdca26\"],[1.0,\"#f0f921\"]],\"sequentialminus\":[[0.0,\"#0d0887\"],[0.1111111111111111,\"#46039f\"],[0.2222222222222222,\"#7201a8\"],[0.3333333333333333,\"#9c179e\"],[0.4444444444444444,\"#bd3786\"],[0.5555555555555556,\"#d8576b\"],[0.6666666666666666,\"#ed7953\"],[0.7777777777777778,\"#fb9f3a\"],[0.8888888888888888,\"#fdca26\"],[1.0,\"#f0f921\"]],\"diverging\":[[0,\"#8e0152\"],[0.1,\"#c51b7d\"],[0.2,\"#de77ae\"],[0.3,\"#f1b6da\"],[0.4,\"#fde0ef\"],[0.5,\"#f7f7f7\"],[0.6,\"#e6f5d0\"],[0.7,\"#b8e186\"],[0.8,\"#7fbc41\"],[0.9,\"#4d9221\"],[1,\"#276419\"]]},\"xaxis\":{\"gridcolor\":\"white\",\"linecolor\":\"white\",\"ticks\":\"\",\"title\":{\"standoff\":15},\"zerolinecolor\":\"white\",\"automargin\":true,\"zerolinewidth\":2},\"yaxis\":{\"gridcolor\":\"white\",\"linecolor\":\"white\",\"ticks\":\"\",\"title\":{\"standoff\":15},\"zerolinecolor\":\"white\",\"automargin\":true,\"zerolinewidth\":2},\"scene\":{\"xaxis\":{\"backgroundcolor\":\"#E5ECF6\",\"gridcolor\":\"white\",\"linecolor\":\"white\",\"showbackground\":true,\"ticks\":\"\",\"zerolinecolor\":\"white\",\"gridwidth\":2},\"yaxis\":{\"backgroundcolor\":\"#E5ECF6\",\"gridcolor\":\"white\",\"linecolor\":\"white\",\"showbackground\":true,\"ticks\":\"\",\"zerolinecolor\":\"white\",\"gridwidth\":2},\"zaxis\":{\"backgroundcolor\":\"#E5ECF6\",\"gridcolor\":\"white\",\"linecolor\":\"white\",\"showbackground\":true,\"ticks\":\"\",\"zerolinecolor\":\"white\",\"gridwidth\":2}},\"shapedefaults\":{\"line\":{\"color\":\"#2a3f5f\"}},\"annotationdefaults\":{\"arrowcolor\":\"#2a3f5f\",\"arrowhead\":0,\"arrowwidth\":1},\"geo\":{\"bgcolor\":\"white\",\"landcolor\":\"#E5ECF6\",\"subunitcolor\":\"white\",\"showland\":true,\"showlakes\":true,\"lakecolor\":\"white\"},\"title\":{\"x\":0.05},\"mapbox\":{\"style\":\"light\"}}},\"font\":{\"size\":24,\"family\":\"serif\",\"weight\":\"bold\",\"color\":\"#474647\"},\"margin\":{\"t\":25,\"l\":0,\"r\":200,\"b\":25},\"paper_bgcolor\":\"white\",\"plot_bgcolor\":\"white\",\"width\":900,\"height\":400},                        {\"responsive\": true}                    ).then(function(){\n",
       "                            \n",
       "var gd = document.getElementById('b758ef4a-5c07-4e84-ac3f-4d1e8e4d5898');\n",
       "var x = new MutationObserver(function (mutations, observer) {{\n",
       "        var display = window.getComputedStyle(gd).display;\n",
       "        if (!display || display === 'none') {{\n",
       "            console.log([gd, 'removed!']);\n",
       "            Plotly.purge(gd);\n",
       "            observer.disconnect();\n",
       "        }}\n",
       "}});\n",
       "\n",
       "// Listen for the removal of the full notebook cells\n",
       "var notebookContainer = gd.closest('#notebook-container');\n",
       "if (notebookContainer) {{\n",
       "    x.observe(notebookContainer, {childList: true});\n",
       "}}\n",
       "\n",
       "// Listen for the clearing of the current output cell\n",
       "var outputEl = gd.closest('.output');\n",
       "if (outputEl) {{\n",
       "    x.observe(outputEl, {childList: true});\n",
       "}}\n",
       "\n",
       "                        })                };                });            </script>        </div>"
      ]
     },
     "metadata": {},
     "output_type": "display_data"
    }
   ],
   "execution_count": 159
  },
  {
   "metadata": {},
   "cell_type": "code",
   "source": [
    "import pandas as pd\n",
    "import matplotlib.pyplot as plt\n",
    "import squarify  # For treemap visualization\n",
    "\n",
    "# Load data using your function\n",
    "data_non = load_data(\"rq29-product-combos-nonreturnable.csv\")\n",
    "data_with = load_data(\"rq29-product-combos-with-returnable.csv\")\n",
    "\n",
    "\n",
    "def treemap_combos(data):\n",
    "\t# Select top 10 product combinations\n",
    "\ttop_combinations = data.nlargest(7, 'combination_count')\n",
    "\n",
    "\t# Prepare the data for the treemap\n",
    "\tsizes = top_combinations['combination_count']\n",
    "\n",
    "\t# Use custom colors for the treemap\n",
    "\tcolors = [\n",
    "\t\tget_chart_color(i) for i in range(len(sizes))\n",
    "\t]\n",
    "\n",
    "\t# Create the treemap\n",
    "\tplt.figure(figsize=(10, 2))\n",
    "\tsquarify.plot(sizes=sizes, color=colors, bar_kwargs=dict(linewidth=0))\n",
    "\n",
    "\t# Remove labels\n",
    "\tplt.axis('off')\n",
    "\tplt.subplots_adjust(left=0, right=1, top=1, bottom=0)\n",
    "\treturn plt\n",
    "\n",
    "\n",
    "# Show the treemap\n",
    "plt1 = treemap_combos(data_non)\n",
    "plt1.savefig(get_charts_dir(\"rq29-product-combos-nonreturnable.png\"), dpi=300, bbox_inches='tight', pad_inches=0)\n",
    "plt2 = treemap_combos(data_with)\n",
    "plt2.savefig(get_charts_dir(\"rq29-product-combos-with-returnable.png\"), dpi=300, bbox_inches='tight', pad_inches=0)"
   ],
   "id": "ef05b580cb4ab14",
   "outputs": [],
   "execution_count": null
  },
  {
   "metadata": {},
   "cell_type": "code",
   "source": [
    "import matplotlib.pyplot as plt\n",
    "import pandas as pd\n",
    "import numpy as np\n",
    "from matplotlib.gridspec import GridSpec\n",
    "\n",
    "# Load and prepare data\n",
    "df = load_data(\"rq28-beverage-prefs.csv\")\n",
    "df['datetime'] = pd.to_datetime(df['hour'])\n",
    "df['day'] = df['datetime'].apply(lambda x: format_event_datetime(x, include_time=False))\n",
    "df['hour_num'] = df['datetime'].dt.hour\n",
    "\n",
    "# Color scheme\n",
    "colors = {\n",
    "\t# 'Radegast': '#97AA84',\n",
    "\t# 'Pilsner Urquell': '#355935',\n",
    "\t# 'Absolut Vodka': '#78C6F5',\n",
    "\t# 'Lemonade': '#E3E3AA',\n",
    "\t# 'Coffee': '#474647',\n",
    "\t'Pilsner Urquell': get_chart_color(0),\n",
    "\t'Radegast': get_chart_color(1),\n",
    "\t'Absolut Vodka': get_chart_color(2),\n",
    "\t'Lemonade': get_chart_color(3),\n",
    "\t'Coffee': get_chart_color(4),\n",
    "}\n",
    "\n",
    "# Create figure with specific layout\n",
    "plt.rcParams['font.family'] = 'serif'\n",
    "plt.rcParams['font.size'] = 16\n",
    "\n",
    "# Create figure and gridspec\n",
    "fig = plt.figure(figsize=(12, 6), facecolor='white')\n",
    "gs = GridSpec(2, 1, height_ratios=[3, 1], figure=fig)\n",
    "\n",
    "# Create main plot\n",
    "ax = fig.add_subplot(gs[0])\n",
    "ax.set_facecolor('#f5f5f5')\n",
    "\n",
    "# Create heatmap\n",
    "days = ['Day 1', 'Day 2', 'Day 3']\n",
    "hours = range(24)\n",
    "\n",
    "# First add background for all cells\n",
    "for i in range(3):\n",
    "\tfor j in range(24):\n",
    "\t\tax.add_patch(plt.Rectangle((j, 2 - i), 1, 1, facecolor='#f5f5f5', edgecolor='white', linewidth=1))\n",
    "\n",
    "# Then add colored patches for data with two-layer approach\n",
    "for i, day in enumerate(days):\n",
    "\tfor j, hour in enumerate(hours):\n",
    "\t\tmask = (df['day'] == day) & (df['hour_num'] == hour)\n",
    "\t\tif mask.any():\n",
    "\t\t\tdata = df[mask].iloc[0]\n",
    "\t\t\tbase_color = colors[data['category']]\n",
    "\n",
    "\t\t\t# Convert color to RGB for opacity control\n",
    "\t\t\trgb = plt.cm.colors.to_rgb(base_color)\n",
    "\n",
    "\t\t\t# First layer: Full box with low opacity\n",
    "\t\t\tax.add_patch(\n",
    "\t\t\t\tplt.Rectangle(\n",
    "\t\t\t\t\t(j, 2 - i), 1, 1,\n",
    "\t\t\t\t\tfacecolor=base_color,\n",
    "\t\t\t\t\tedgecolor='white',\n",
    "\t\t\t\t\tlinewidth=1,\n",
    "\t\t\t\t\talpha=0.25  # Low opacity for background\n",
    "\t\t\t\t)\n",
    "\t\t\t)\n",
    "\n",
    "\t\t\t# Second layer: Partial box showing dominance\n",
    "\t\t\theight = data['hour_percentage'] / 100  # Convert percentage to decimal\n",
    "\t\t\tax.add_patch(\n",
    "\t\t\t\tplt.Rectangle(\n",
    "\t\t\t\t\t(j, 2 - i),  # Same x, starting from bottom\n",
    "\t\t\t\t\t1,  # Full width\n",
    "\t\t\t\t\theight,  # Height based on percentage\n",
    "\t\t\t\t\tfacecolor=base_color,\n",
    "\t\t\t\t\tedgecolor=None,  # No edge to blend better\n",
    "\t\t\t\t\talpha=1.0  # Full opacity for dominance indicator\n",
    "\t\t\t\t)\n",
    "\t\t\t)\n",
    "\n",
    "# Customize the plot\n",
    "ax.set_xlim(0, 24)\n",
    "ax.set_ylim(0, 3)\n",
    "\n",
    "# Set ticks and labels\n",
    "ax.set_xticks(np.arange(24) + 0.5)\n",
    "ax.set_xticklabels(\n",
    "\t[f'{h:02d}:00' for h in hours],\n",
    "\trotation=45,\n",
    "\tha='right',\n",
    "\tfontsize=16\n",
    ")\n",
    "ax.set_yticks(np.arange(3) + 0.5)\n",
    "ax.set_yticklabels(days[::-1], fontsize=16)\n",
    "\n",
    "# Remove spines\n",
    "for spine in ax.spines.values():\n",
    "\tspine.set_visible(False)\n",
    "\n",
    "# Set labels\n",
    "ax.set_xlabel('Hour of Day', labelpad=16, fontsize=16)\n",
    "ax.set_ylabel('Festival Day', labelpad=16, fontsize=16)\n",
    "\n",
    "# Create legend elements\n",
    "alcoholic_products = [p for p in df[df['is_alcoholic']]['category'].unique()]\n",
    "non_alcoholic_products = [p for p in df[~df['is_alcoholic']]['category'].unique()]\n",
    "\n",
    "# Create simple legend elements\n",
    "legend_elements = [\n",
    "\tplt.Rectangle((0, 0), 1, 1, facecolor=colors[product])\n",
    "\tfor product in ['Pilsner Urquell', 'Absolut Vodka', 'Radegast', 'Coffee', 'Lemonade']\n",
    "]\n",
    "\n",
    "legend_labels = ['Pilsner Urquell', 'Absolut Vodka', 'Radegast', 'Coffee (Alc. free)', 'Lemonade (Alc. free)']\n",
    "\n",
    "# Create legend with wide span\n",
    "legend = ax.legend(\n",
    "\tlegend_elements,\n",
    "\tlegend_labels,\n",
    "\tbbox_to_anchor=(0.5, -1),  # Centered, closer to plot\n",
    "\tloc='upper center',\n",
    "\tncol=4,  # All items in one row\n",
    "\tfontsize=14,\n",
    "\tframeon=True,\n",
    "\tedgecolor='#cccccc',\n",
    "\tborderpad=0.8,\n",
    "\tcolumnspacing=1.5,  # Space between columns\n",
    "\thandletextpad=0.5,  # Space between square and text\n",
    "\thandlelength=1.5,  # Square size\n",
    ")\n",
    "\n",
    "# After the legend creation, add an annotation\n",
    "fig.text(\n",
    "\t0.5, 0.33,\n",
    "\t'Note: The fill height in each cell represents the product\\'s dominance (%) in that hour.',\n",
    "\tha='center',\n",
    "\tfontsize=14,\n",
    "\tcolor='#666666',\n",
    "\tstyle='italic'\n",
    ")\n",
    "\n",
    "# Adjust layout\n",
    "plt.subplots_adjust(bottom=0.45)\n",
    "\n",
    "plt.savefig(get_charts_dir(\"rq28-beverage-preferences.png\"), dpi=300, bbox_inches='tight', pad_inches=0.1)\n"
   ],
   "id": "4a2f488f11e37c06",
   "outputs": [],
   "execution_count": null
  },
  {
   "metadata": {},
   "cell_type": "code",
   "source": [
    "import pandas as pd\n",
    "import matplotlib.pyplot as plt\n",
    "import numpy as np\n",
    "import matplotlib.dates as mdates\n",
    "from matplotlib.ticker import AutoMinorLocator\n",
    "\n",
    "# Set up the figure with specific size\n",
    "df = load_data(\"rq26-topup-patterns.csv\")\n",
    "df['hour'] = pd.to_datetime(df['hour'])\n",
    "\n",
    "plt.figure(figsize=(12, 6))\n",
    "ax1 = plt.gca()\n",
    "ax2 = ax1.twinx()\n",
    "\n",
    "# Set y-axis limits with padding to prevent overflow\n",
    "max_topups = df['topup_count'].max()\n",
    "y_max = max_topups * 1.15  # Add 15% padding\n",
    "ax1.set_ylim(0, y_max)\n",
    "ax2.set_ylim(0, df['total_topup_count'].max() * 1.05)  # 5% padding for cumulative\n",
    "\n",
    "# Create bar chart for hourly top-ups\n",
    "x = mdates.date2num(df['hour'])\n",
    "width = (x[1] - x[0]) * 0.8\n",
    "\n",
    "bars = ax1.bar(\n",
    "\tx,\n",
    "\tdf['topup_count'],\n",
    "\twidth=width,\n",
    "\tcolor=get_chart_color(2),\n",
    ")\n",
    "\n",
    "# Plot cumulative line\n",
    "line = ax2.plot(\n",
    "\tx,\n",
    "\tdf['total_topup_count'],\n",
    "\tcolor=get_chart_color(3),\n",
    "\tlinewidth=2,\n",
    "\tlabel='Cumulative Total'\n",
    ")\n",
    "\n",
    "# Improve grid styling\n",
    "ax1.set_axisbelow(True)\n",
    "ax2.set_axisbelow(True)\n",
    "ax1.grid(axis='y', linestyle='--', alpha=0.5)\n",
    "ax2.grid(axis='y', linestyle='--', alpha=0)\n",
    "\n",
    "peak_positions = []\n",
    "peak_times = []\n",
    "\n",
    "# Find daily peaks and highlight them\n",
    "for day in pd.date_range('2024-07-04', '2024-07-06'):\n",
    "\tday_data = df[df['hour'].dt.strftime('%Y-%m-%d') == day.strftime('%Y-%m-%d')]\n",
    "\tif len(day_data) > 0:\n",
    "\t\tpeak_hour = day_data.nlargest(1, 'topup_count').iloc[0]\n",
    "\t\tidx = df.index[df['hour'] == peak_hour['hour']][0]\n",
    "\t\tbars[idx].set_color(get_chart_color(0))\n",
    "\t\tbars[idx].set_alpha(1.0)\n",
    "\n",
    "\t\tpeak_positions.append(x[idx])\n",
    "\t\tpeak_times.append(peak_hour['hour'])\n",
    "\n",
    "\t\t# Improve peak annotations\n",
    "\t\tax1.annotate(\n",
    "\t\t\tf'{int(peak_hour[\"topup_count\"]):,}',\n",
    "\t\t\txy=(x[idx], peak_hour['topup_count']),\n",
    "\t\t\txytext=(0, 15),  # Increased vertical offset\n",
    "\t\t\ttextcoords='offset points',\n",
    "\t\t\tha='center',\n",
    "\t\t\tva='bottom',\n",
    "\t\t\tfontweight='bold',\n",
    "\t\t\tfontsize=16,\n",
    "\t\t\tbbox=dict(facecolor='white', edgecolor='none', alpha=0.7, pad=1)\n",
    "\t\t)\n",
    "\n",
    "# Format axes with improved spacing\n",
    "ax1.set_ylabel('New Top-ups per Hour', fontsize=16, labelpad=24, color=get_chart_color('text'))\n",
    "ax2.set_ylabel('Cumulative Total', fontsize=16, labelpad=24, color=get_chart_color('text'))\n",
    "ax1.tick_params(axis='both', labelsize=16)\n",
    "ax2.tick_params(axis='y', labelsize=16)\n",
    "\n",
    "# Format x-axis\n",
    "ax1.set_xticks(peak_positions)\n",
    "ax1.xaxis.set_major_formatter(\n",
    "\tplt.FuncFormatter(\n",
    "\t\tlambda x, p: format_event_datetime(mdates.num2date(x))\n",
    "\t)\n",
    ")\n",
    "plt.xticks(rotation=45, ha='right')\n",
    "\n",
    "# Format y-axis numbers\n",
    "ax1.yaxis.set_major_formatter(plt.FuncFormatter(lambda x, p: format_number_short(x)))\n",
    "ax2.yaxis.set_major_formatter(plt.FuncFormatter(lambda x, p: format_number_short(x)))\n",
    "\n",
    "# Improved legend - moved below the chart\n",
    "legend_elements = [\n",
    "\tplt.Rectangle((0, 0), 1, 1, color=get_chart_color(2), alpha=0.8, label='Hourly Top-ups'),\n",
    "\tplt.Rectangle((0, 0), 1, 1, color=get_chart_color(0), label='Peak Hours'),\n",
    "\tplt.Line2D([0], [0], color=get_chart_color(3), label='Cumulative Total')\n",
    "]\n",
    "ax1.legend(\n",
    "\thandles=legend_elements,\n",
    "\tloc='upper center',\n",
    "\tfontsize=16,\n",
    "\tbbox_to_anchor=(0.5, -0.15),  # Moved below by adjusting y coordinate\n",
    "\tncol=3\n",
    ")\n",
    "\n",
    "# Adjust layout with more bottom padding to accommodate legend\n",
    "plt.tight_layout(rect=[0, 0.1, 1, 1])  # Added padding at bottom [left, bottom, right, top]\n",
    "\n",
    "plt.savefig(get_charts_dir(\"rq26-topup-patterns.png\"), dpi=300, bbox_inches='tight', pad_inches=0.1)"
   ],
   "id": "cad563686eaa3218",
   "outputs": [],
   "execution_count": null
  },
  {
   "metadata": {},
   "cell_type": "code",
   "source": [
    "import pandas as pd\n",
    "import matplotlib.pyplot as plt\n",
    "import numpy as np\n",
    "import matplotlib.dates as mdates\n",
    "from matplotlib.ticker import AutoMinorLocator\n",
    "\n",
    "# Set up the figure with specific size\n",
    "df = load_data(\"rq24-arrival-patterns.csv\")\n",
    "df['hour'] = pd.to_datetime(df['hour'])\n",
    "\n",
    "plt.figure(figsize=(12, 6))\n",
    "ax1 = plt.gca()\n",
    "ax2 = ax1.twinx()\n",
    "\n",
    "# Set y-axis limits with padding to prevent overflow\n",
    "max_registrations = df['register_count'].max()\n",
    "y_max = max_registrations * 1.15  # Add 15% padding\n",
    "ax1.set_ylim(0, y_max)\n",
    "ax2.set_ylim(0, df['total_register_count'].max() * 1.05)  # 5% padding for cumulative\n",
    "\n",
    "# Create bar chart for hourly top-ups\n",
    "x = mdates.date2num(df['hour'])\n",
    "width = (x[1] - x[0]) * 0.8\n",
    "\n",
    "bars = ax1.bar(\n",
    "\tx,\n",
    "\tdf['register_count'],\n",
    "\twidth=width,\n",
    "\tcolor=get_chart_color(2),\n",
    ")\n",
    "\n",
    "# Plot cumulative line\n",
    "line = ax2.plot(\n",
    "\tx,\n",
    "\tdf['total_register_count'],\n",
    "\tcolor=get_chart_color(3),\n",
    "\tlinewidth=2,\n",
    "\tlabel='Cumulative Total'\n",
    ")\n",
    "\n",
    "# Improve grid styling\n",
    "ax1.set_axisbelow(True)\n",
    "ax2.set_axisbelow(True)\n",
    "ax1.grid(axis='y', linestyle='--', alpha=0.5)\n",
    "ax2.grid(axis='y', linestyle='--', alpha=0)\n",
    "\n",
    "peak_positions = []\n",
    "peak_times = []\n",
    "\n",
    "# Find daily peaks and highlight them\n",
    "for day in pd.date_range('2024-07-04', '2024-07-06'):\n",
    "\tday_data = df[df['hour'].dt.strftime('%Y-%m-%d') == day.strftime('%Y-%m-%d')]\n",
    "\tif len(day_data) > 0:\n",
    "\t\tpeak_hour = day_data.nlargest(1, 'register_count').iloc[0]\n",
    "\t\tidx = df.index[df['hour'] == peak_hour['hour']][0]\n",
    "\t\tbars[idx].set_color(get_chart_color(0))\n",
    "\t\tbars[idx].set_alpha(1.0)\n",
    "\n",
    "\t\tpeak_positions.append(x[idx])\n",
    "\t\tpeak_times.append(peak_hour['hour'])\n",
    "\n",
    "\t\t# Improve peak annotations\n",
    "\t\tax1.annotate(\n",
    "\t\t\tf'{int(peak_hour[\"register_count\"]):,}',\n",
    "\t\t\txy=(x[idx], peak_hour['register_count']),\n",
    "\t\t\txytext=(0, 15),  # Increased vertical offset\n",
    "\t\t\ttextcoords='offset points',\n",
    "\t\t\tha='center',\n",
    "\t\t\tva='bottom',\n",
    "\t\t\tfontweight='bold',\n",
    "\t\t\tfontsize=16,\n",
    "\t\t\tbbox=dict(facecolor='white', edgecolor='none', alpha=0.7, pad=1)\n",
    "\t\t)\n",
    "\n",
    "# Format axes with improved spacing\n",
    "ax1.set_ylabel('New Arrivals per Hour', fontsize=16, labelpad=24, color=get_chart_color('text'))\n",
    "ax2.set_ylabel('Cumulative Total', fontsize=16, labelpad=24, color=get_chart_color('text'))\n",
    "ax1.tick_params(axis='both', labelsize=16)\n",
    "ax2.tick_params(axis='y', labelsize=16)\n",
    "\n",
    "# Format x-axis\n",
    "ax1.set_xticks(peak_positions)\n",
    "ax1.xaxis.set_major_formatter(\n",
    "\tplt.FuncFormatter(\n",
    "\t\tlambda x, p: format_event_datetime(mdates.num2date(x))\n",
    "\t)\n",
    ")\n",
    "plt.xticks(rotation=45, ha='right')\n",
    "\n",
    "# Format y-axis numbers\n",
    "ax1.yaxis.set_major_formatter(plt.FuncFormatter(lambda x, p: format_number_short(x)))\n",
    "ax2.yaxis.set_major_formatter(plt.FuncFormatter(lambda x, p: format_number_short(x)))\n",
    "\n",
    "# Improved legend - moved below the chart\n",
    "legend_elements = [\n",
    "\tplt.Rectangle((0, 0), 1, 1, color=get_chart_color(2), alpha=0.8, label='Hourly Arrivals'),\n",
    "\tplt.Rectangle((0, 0), 1, 1, color=get_chart_color(0), label='Peak Hours'),\n",
    "\tplt.Line2D([0], [0], color=get_chart_color(3), label='Cumulative Total')\n",
    "]\n",
    "ax1.legend(\n",
    "\thandles=legend_elements,\n",
    "\tloc='upper center',\n",
    "\tfontsize=16,\n",
    "\tbbox_to_anchor=(0.5, -0.15),  # Moved below by adjusting y coordinate\n",
    "\tncol=3\n",
    ")\n",
    "\n",
    "# Adjust layout with more bottom padding to accommodate legend\n",
    "plt.tight_layout(rect=[0, 0.1, 1, 1])  # Added padding at bottom [left, bottom, right, top]\n",
    "\n",
    "plt.savefig(get_charts_dir(\"rq24-arrival-patterns.png\"), dpi=300, bbox_inches='tight', pad_inches=0.1)"
   ],
   "id": "3daaeb0991093acb",
   "outputs": [],
   "execution_count": null
  },
  {
   "metadata": {},
   "cell_type": "code",
   "source": [
    "import pandas as pd\n",
    "import matplotlib.pyplot as plt\n",
    "import numpy as np\n",
    "\n",
    "# Read and prepare data\n",
    "df = load_data(\"rq27-topup-frequency.csv\")\n",
    "\n",
    "# Create categories for number of topups\n",
    "categories = ['0 top-ups', '1 top-up', '2 top-ups', '3 top-ups', '4+ top-ups']\n",
    "chip_types = ['Pass', 'POS', 'Guest', 'Staff', 'POS VIP']\n",
    "\n",
    "# Process data\n",
    "data_matrix = np.zeros((len(categories), len(chip_types)))\n",
    "\n",
    "for i, cat_idx in enumerate(range(5)):  # 0 through 4+\n",
    "\tfor j, chip in enumerate(chip_types):\n",
    "\t\tchip_data = df[df['chip_type'] == chip]\n",
    "\t\tif cat_idx == 4:  # 4+ category\n",
    "\t\t\tcount = chip_data[chip_data['onsite_topup_count'] >= 4]['count'].sum()\n",
    "\t\telse:\n",
    "\t\t\tcount = chip_data[chip_data['onsite_topup_count'] == cat_idx]['count'].sum()\n",
    "\t\tdata_matrix[i, j] = count\n",
    "\n",
    "# Create horizontal stacked bar chart\n",
    "fig, ax = plt.subplots(figsize=(12, 6))\n",
    "\n",
    "left = np.zeros(len(categories))\n",
    "bars = []\n",
    "colors = [get_chart_color(i) for i in range(len(chip_types))]\n",
    "\n",
    "# Calculate row sums for totals\n",
    "row_sums = data_matrix.sum(axis=1)\n",
    "\n",
    "for i, chip in enumerate(chip_types):\n",
    "\tlabels = {\n",
    "\t\t'Pass': 'Online',\n",
    "\t\t'POS': 'Regular',\n",
    "\t\t'Guest': 'Guest',\n",
    "\t\t'Staff': 'Staff',\n",
    "\t\t'POS VIP': 'VIP',\n",
    "\t}\n",
    "\tbar = ax.barh(\n",
    "\t\tcategories, data_matrix[:, i], left=left,\n",
    "\t\tcolor=colors[i],\n",
    "\t\tlabel=labels[chip],\n",
    "\t\tedgecolor='white',\n",
    "\t)\n",
    "\tleft += data_matrix[:, i]\n",
    "\tbars.append(bar)\n",
    "\n",
    "# Add total values to the left of bars\n",
    "for idx, total in enumerate(row_sums):\n",
    "\tax.text(\n",
    "\t\ttotal + 42,\n",
    "\t\tidx,\n",
    "\t\tf\"{format_number(total, 0)} ({format_percent(total / row_sums.sum() * 100)})\",\n",
    "\t\tha='left',\n",
    "\t\tva='center',\n",
    "\t\tcolor=get_chart_color('text'),\n",
    "\t\tfontsize=16,\n",
    "\t\tfontweight='bold'\n",
    "\t)\n",
    "\n",
    "ax.set_xlabel('Number of Customers', fontsize=16, labelpad=24, color=get_chart_color('text'))\n",
    "ax.tick_params(axis='both', labelsize=16)\n",
    "\n",
    "# Add legend below the chart\n",
    "ax.legend(\n",
    "\tloc='upper center',\n",
    "\tbbox_to_anchor=(0.5, -0.25),\n",
    "\tncol=len(chip_types),\n",
    "\tfontsize=16\n",
    ")\n",
    "\n",
    "# Format axis\n",
    "ax.grid(False)\n",
    "# ax.spines['top'].set_visible(False)\n",
    "# ax.spines['right'].set_visible(False)\n",
    "\n",
    "x_max = data_matrix.sum(axis=1).max() * 1.3\n",
    "ax.set_xlim(0, x_max)\n",
    "\n",
    "# Adjust layout and margins to accommodate the totals\n",
    "plt.tight_layout(rect=[0.1, 0, 1, 1])  # Increased left margin\n",
    "\n",
    "plt.savefig(get_charts_dir(\"rq27-topup-frequency.png\"), dpi=300, bbox_inches='tight', pad_inches=0.1)"
   ],
   "id": "8dba042860e15b9b",
   "outputs": [],
   "execution_count": null
  },
  {
   "metadata": {},
   "cell_type": "code",
   "source": [
    "import pandas as pd\n",
    "import matplotlib.pyplot as plt\n",
    "import numpy as np\n",
    "\n",
    "# Data preparation\n",
    "data = {\n",
    "\t'count': [2537, 1505, 5340, 3247],\n",
    "\t'payment_type': ['online', 'online', 'onsite', 'onsite'],\n",
    "\t'card': ['VISA', 'MC', 'VISA', 'MC']\n",
    "}\n",
    "df = pd.DataFrame(data)\n",
    "\n",
    "# Group data by payment type and card\n",
    "grouped = df.groupby(['payment_type', 'card'])['count'].sum().unstack()\n",
    "\n",
    "# Extract data for each payment type\n",
    "onsite = grouped.loc['onsite'][::-1]\n",
    "online = grouped.loc['online'][::-1]\n",
    "\n",
    "# Shared settings\n",
    "colors = ['#1A1F71', '#F79E1B']  # VISA blue, MC orange\n",
    "labels = ['VISA', 'Mastercard']\n",
    "\n",
    "\n",
    "def plot_donut(ax, values, title, cls, labels):\n",
    "\t# Calculate total and percentages\n",
    "\ttotal = sum(values)\n",
    "\tpercentages = [v / total * 100 for v in values]\n",
    "\n",
    "\t# Create donut chart\n",
    "\twedges, texts = ax.pie(\n",
    "\t\tvalues,\n",
    "\t\tcolors=cls,\n",
    "\t\tlabels=None,\n",
    "\t\tautopct=None,\n",
    "\t\twedgeprops={\n",
    "\t\t\t'width': 0.5,\n",
    "\t\t\t'edgecolor': 'white',\n",
    "\t\t\t'linewidth': 2\n",
    "\t\t}\n",
    "\t)\n",
    "\n",
    "\t# Add percentages to the wedges\n",
    "\tfor i, p in enumerate(percentages):\n",
    "\t\tangle = (wedges[i].theta2 + wedges[i].theta1) / 2\n",
    "\t\tx = 0.85 * wedges[i].r * np.cos(np.radians(angle))\n",
    "\t\ty = 0.7 * wedges[i].r * np.sin(np.radians(angle))\n",
    "\t\tax.text(\n",
    "\t\t\tx, y, f'{p:.1f}%', ha='center', va='center',\n",
    "\t\t\tfontsize=16, color='white', fontweight='bold'\n",
    "\t\t)\n",
    "\n",
    "\t# Add white circle in center\n",
    "\tcentre_circle = plt.Circle((0, 0), 0.5, color='white', linewidth=0)\n",
    "\tax.add_artist(centre_circle)\n",
    "\n",
    "\t# Add center text\n",
    "\tax.text(0, 0.18, 'Total', ha='center', va='center', fontsize=14, fontweight='normal', color='black')\n",
    "\tax.text(0, -0.02, f'{format_number(total, 0)}', ha='center', va='center', fontsize=28, fontweight='bold', color='black')\n",
    "\tax.text(0, -0.18, 'transactions', ha='center', va='center', fontsize=14, fontweight='normal', color='black')\n",
    "\tax.set_title(title, fontsize=20, pad=24, fontweight=\"bold\")\n",
    "\n",
    "\n",
    "# Create figure and axes\n",
    "fig, axs = plt.subplots(1, 2, figsize=(12, 6))\n",
    "\n",
    "# Plot donuts\n",
    "plot_donut(axs[0], onsite.values, 'Onsite Transactions', colors, labels)\n",
    "plot_donut(axs[1], online.values, 'Online Transactions', colors, labels)\n",
    "\n",
    "# Add legend\n",
    "fig.legend(\n",
    "\tlabels=[\n",
    "\t\tf\"VISA: {format_number(onsite['VISA'] + online['VISA'], 0)} ({format_percent((onsite['VISA'] + online['VISA']) / df['count'].sum() * 100)})\",\n",
    "\t\tf\"Mastercard: {format_number(onsite['MC'] + online['MC'], 0)} ({format_percent((onsite['MC'] + online['MC']) / df['count'].sum() * 100)})\"\n",
    "\t],\n",
    "\tloc='lower center',\n",
    "\tbbox_to_anchor=(0.5, -0.05),\n",
    "\tncol=2,\n",
    "\tfontsize=16,  # Increased font size for legend,\n",
    "\tframeon=True,\n",
    "\tedgecolor='#cccccc',\n",
    "\tborderpad=0.8,\n",
    ")\n",
    "\n",
    "# add text above the legend stating the colors represent brand colors of the card schemes\n",
    "fig.text(\n",
    "\t0.5, 0.1,\n",
    "\t# FIXME\n",
    "\t'Note: Colors used are based on each card scheme\\'s brand guidelines.',\n",
    "\tha='center',\n",
    "\tfontsize=14,\n",
    "\tcolor='#666666',\n",
    "\tstyle='italic'\n",
    ")\n",
    "\n",
    "# Set aspect ratio and layout\n",
    "plt.tight_layout(rect=[0, 0.1, 1, 1])\n",
    "\n",
    "plt.savefig(get_charts_dir(\"rq23-card-schemes.png\"), dpi=300, bbox_inches='tight', pad_inches=0.1)\n"
   ],
   "id": "8b1245182bd2cf32",
   "outputs": [],
   "execution_count": null
  },
  {
   "metadata": {},
   "cell_type": "code",
   "source": [
    "import pandas as pd\n",
    "import matplotlib.pyplot as plt\n",
    "import numpy as np\n",
    "\n",
    "# Read and prepare data\n",
    "df = load_data(\"rq22-bank-refunds.csv\")\n",
    "# Omit null values\n",
    "df = df.dropna(subset=['bank_name'])\n",
    "df = df.sort_values('count', ascending=True)  # Sort for better visualization\n",
    "\n",
    "# Group smaller banks together\n",
    "threshold = 300\n",
    "main_banks = df[df['count'] >= threshold].copy()\n",
    "others = df[df['count'] < threshold]\n",
    "others_sum = pd.DataFrame(\n",
    "\t{\n",
    "\t\t'bank_name': ['Others'],\n",
    "\t\t'count': [others['count'].sum()]\n",
    "\t}\n",
    ")\n",
    "\n",
    "# Combine main banks and others\n",
    "df_plot = pd.concat([main_banks, others_sum])\n",
    "df_plot = df_plot.sort_values('count', ascending=True)\n",
    "\n",
    "# Create figure and axis\n",
    "fig, ax = plt.subplots(figsize=(12, 8))\n",
    "\n",
    "# Create horizontal bars\n",
    "bars = []\n",
    "for i, bank in enumerate(df_plot['bank_name']):\n",
    "\treversed_i = len(df_plot) - i - 1  # Reverse order for better visualization\n",
    "\tbar = ax.barh(\n",
    "\t\tbank,\n",
    "\t\tdf_plot['count'].iloc[i],\n",
    "\t\tcolor=get_chart_color(0 if reversed_i <= 3 else 2 if bank == 'Others' else 1),\n",
    "\t)\n",
    "\tbars.append(bar[0])\n",
    "\n",
    "# Add value labels on the bars\n",
    "for bar in bars:\n",
    "\twidth = bar.get_width()\n",
    "\tpercentage = (width / df['count'].sum()) * 100\n",
    "\n",
    "\tlabel = f'{int(width):,} ({percentage:.1f}%)'\n",
    "\n",
    "\tax.text(\n",
    "\t\twidth + 32,  # Slight padding\n",
    "\t\tbar.get_y() + bar.get_height() / 2,\n",
    "\t\tlabel,\n",
    "\t\tva='center',\n",
    "\t\tfontsize=16,\n",
    "\t\tcolor=get_chart_color('text'),\n",
    "\t\tfontweight='bold'\n",
    "\t)\n",
    "\n",
    "# Customize chart\n",
    "ax.set_xlabel('Number of Refunds', fontsize=16, labelpad=24, color=get_chart_color('text'))\n",
    "ax.tick_params(axis='both', labelsize=16)\n",
    "\n",
    "# Format axis\n",
    "ax.grid(True, axis='x', alpha=0.2)\n",
    "ax.set_axisbelow(True)\n",
    "ax.spines['top'].set_visible(False)\n",
    "ax.spines['right'].set_visible(False)\n",
    "\n",
    "# Add padding to x-axis for labels\n",
    "x_max = df_plot['count'].max()\n",
    "ax.set_xlim(0, x_max * 1.3)  # Add 25% padding for labels\n",
    "\n",
    "# hide grid y-axis\n",
    "ax.grid(axis='y', linestyle='--', alpha=0)\n",
    "ax.grid(axis='x', linestyle='--', alpha=0.5)\n",
    "\n",
    "# Adjust layout\n",
    "plt.tight_layout()\n",
    "\n",
    "plt.savefig(get_charts_dir(\"rq22-bank-refunds.png\"), dpi=300, bbox_inches='tight', pad_inches=0.1)"
   ],
   "id": "a7ea2be3c3c463cf",
   "outputs": [],
   "execution_count": null
  },
  {
   "metadata": {},
   "cell_type": "code",
   "source": [
    "import pandas as pd\n",
    "import matplotlib.pyplot as plt\n",
    "import numpy as np\n",
    "\n",
    "# Read and prepare data\n",
    "df = load_data(\"rq20-customer-distribution.csv\")\n",
    "\n",
    "# Calculate total for percentages\n",
    "total = df['count'].sum()\n",
    "\n",
    "# Create type mapping for better labels\n",
    "type_labels = {\n",
    "\t'Pass': 'Online (Web)',\n",
    "\t'iOS': 'Online (Mobile)',\n",
    "\t'Android': 'Android App',\n",
    "\t'POS': 'Regular',\n",
    "\t'POS VIP': 'VIP',\n",
    "\t'Staff': 'Staff',\n",
    "\t'Guest': 'Guest'\n",
    "}\n",
    "\n",
    "# Create figure and axis\n",
    "fig, ax = plt.subplots(figsize=(12, 8))\n",
    "\n",
    "# Create y-positions\n",
    "positions = np.arange(len(df))\n",
    "\n",
    "# Plot horizontal bars\n",
    "bars = ax.barh(\n",
    "\tpositions,\n",
    "\tdf['count'],\n",
    "\theight=0.6,  # Adjust bar height\n",
    "\tcolor=[get_chart_color(i) for i in range(len(df))],\n",
    "\tzorder=2\n",
    ")\n",
    "\n",
    "# Add value labels\n",
    "for i, count in enumerate(df['count']):\n",
    "\tpercentage = (count / total) * 100\n",
    "\tax.text(\n",
    "\t\tcount + (df['count'].max() * 0.02),  # Adjust padding proportionally\n",
    "\t\tpositions[i],\n",
    "\t\tf\"{format_number(count, 0)} ({format_percent(percentage)})\",\n",
    "\t\tva='center',\n",
    "\t\tfontsize=16,\n",
    "\t\tfontweight='bold',\n",
    "\t\tcolor=get_chart_color('text')\n",
    "\t)\n",
    "\n",
    "# Customize axes\n",
    "ax.set_yticks(positions)\n",
    "ax.set_yticklabels([type_labels[t] for t in df['customer_type']], fontsize=16)\n",
    "ax.set_xlabel('Number of Customers', fontsize=16, labelpad=24)\n",
    "\n",
    "# Customize grid and spines\n",
    "ax.grid(True, axis='x', linestyle='--', alpha=0.2)\n",
    "ax.spines['top'].set_visible(False)\n",
    "ax.spines['right'].set_visible(False)\n",
    "x_max = df['count'].max()\n",
    "ax.set_xlim(0, x_max * 1.2)  # Add 20% padding for labels\n",
    "ax.tick_params(axis='x', which='major', labelsize=16, pad=16)\n",
    "\n",
    "# Grid customization\n",
    "ax.grid(axis='y', linestyle='--', alpha=0)\n",
    "ax.grid(axis='x', linestyle='--', alpha=0.5)\n",
    "\n",
    "# Format x-axis with thousands separator\n",
    "ax.xaxis.set_major_formatter(plt.FuncFormatter(lambda x, p: format_number(x, 0)))\n",
    "\n",
    "# Adjust layout\n",
    "plt.tight_layout()\n",
    "\n",
    "plt.savefig(get_charts_dir(\"rq20-customer-distribution.png\"), dpi=300, bbox_inches='tight', pad_inches=0.1)"
   ],
   "id": "77645e6d03b32168",
   "outputs": [],
   "execution_count": null
  },
  {
   "metadata": {},
   "cell_type": "code",
   "source": [
    "import pandas as pd\n",
    "import matplotlib.pyplot as plt\n",
    "import numpy as np\n",
    "\n",
    "# Read and prepare data\n",
    "df = load_data(\"rq21-customer-app-usage.csv\")\n",
    "# Sort dataframe by count descending\n",
    "df = df.sort_values('customer_count', ascending=False)\n",
    "\n",
    "# Type mapping for better labels\n",
    "category_config = {\n",
    "\t'Web': { 'color': get_chart_color(0), 'label': 'Web Platform' },\n",
    "\t'iOS': { 'color': '#000000', 'label': 'iOS App' },\n",
    "\t'Android': { 'color': get_chart_color(3), 'label': 'Android App' },\n",
    "\t'': { 'color': get_chart_color(2), 'label': 'Not Available' }\n",
    "}\n",
    "\n",
    "\n",
    "def get_config(row):\n",
    "\treturn category_config[row['source']] if row['source'] in category_config else category_config['']\n",
    "\n",
    "\n",
    "# Calculate total for percentages\n",
    "total = df['customer_count'].sum()\n",
    "\n",
    "# Create figure\n",
    "fig, ax = plt.subplots(figsize=(12, 6))\n",
    "\n",
    "# Create bars\n",
    "bars = []\n",
    "for i, (_, row) in enumerate(df[::-1].iterrows()):\n",
    "\treversed_i = len(df) - i - 1  # Reverse order for better visualization\n",
    "\tbar = ax.barh(\n",
    "\t\tget_config(row)['label'],\n",
    "\t\trow['customer_count'],\n",
    "\t\tcolor=get_config(row)['color'],\n",
    "\t)\n",
    "\tbars.append(bar[0])\n",
    "\n",
    "\t# Add value labels\n",
    "\twidth = row['customer_count']\n",
    "\tpercentage = (width / total) * 100\n",
    "\tax.text(\n",
    "\t\twidth + 42,  # Slight padding\n",
    "\t\tbar[0].get_y() + bar[0].get_height() / 2,\n",
    "\t\tf\"{format_number(width, 0)} ({format_percent(percentage)})\",\n",
    "\t\tva='center',\n",
    "\t\tfontsize=16,\n",
    "\t\tcolor=get_chart_color('text'),\n",
    "\t\tfontweight='bold'\n",
    "\t)\n",
    "\n",
    "# Customize chart\n",
    "ax.set_xlabel('Number of Customers', fontsize=16, labelpad=24, color=get_chart_color('text'))\n",
    "ax.tick_params(axis='both', labelsize=16)\n",
    "\n",
    "# Format axis\n",
    "ax.grid(True, axis='x', alpha=0.2)\n",
    "ax.set_axisbelow(True)\n",
    "ax.spines['top'].set_visible(False)\n",
    "ax.spines['right'].set_visible(False)\n",
    "# x-axis formatter\n",
    "ax.xaxis.set_major_formatter(plt.FuncFormatter(lambda x, p: format_number(x, 0)))\n",
    "\n",
    "# Add padding to x-axis for labels\n",
    "x_max = df['customer_count'].max()\n",
    "ax.set_xlim(0, x_max * 1.25)\n",
    "\n",
    "# hide grid y-axis\n",
    "ax.grid(axis='y', linestyle='--', alpha=0)\n",
    "ax.grid(axis='x', linestyle='--', alpha=0.5)\n",
    "\n",
    "# Adjust layout\n",
    "plt.tight_layout()\n",
    "\n",
    "plt.savefig(get_charts_dir(\"rq21-customer-app-usage.png\"), dpi=300, bbox_inches='tight', pad_inches=0.1)"
   ],
   "id": "a67ed98bea0d102f",
   "outputs": [],
   "execution_count": null
  },
  {
   "metadata": {},
   "cell_type": "code",
   "source": [
    "class BubbleChart:\n",
    "\tdef __init__(self, area, bubble_spacing=0):\n",
    "\t\t\"\"\"\n",
    "        Setup for bubble collapse.\n",
    "\n",
    "        Parameters\n",
    "        ----------\n",
    "        area : array-like\n",
    "            Area of the bubbles.\n",
    "        bubble_spacing : float, default: 0\n",
    "            Minimal spacing between bubbles after collapsing.\n",
    "\n",
    "        Notes\n",
    "        -----\n",
    "        If \"area\" is sorted, the results might look weird.\n",
    "        \"\"\"\n",
    "\t\tarea = np.asarray(area)\n",
    "\t\tr = np.sqrt(area / np.pi)\n",
    "\n",
    "\t\tself.bubble_spacing = bubble_spacing\n",
    "\t\tself.bubbles = np.ones((len(area), 4))\n",
    "\t\tself.bubbles[:, 2] = r\n",
    "\t\tself.bubbles[:, 3] = area\n",
    "\t\tself.maxstep = 2 * self.bubbles[:, 2].max() + self.bubble_spacing\n",
    "\t\tself.step_dist = self.maxstep / 2\n",
    "\n",
    "\t\t# calculate initial grid layout for bubbles\n",
    "\t\tlength = np.ceil(np.sqrt(len(self.bubbles)))\n",
    "\t\tgrid = np.arange(length) * self.maxstep\n",
    "\t\tgx, gy = np.meshgrid(grid, grid)\n",
    "\t\tself.bubbles[:, 0] = gx.flatten()[:len(self.bubbles)]\n",
    "\t\tself.bubbles[:, 1] = gy.flatten()[:len(self.bubbles)]\n",
    "\n",
    "\t\tself.com = self.center_of_mass()\n",
    "\n",
    "\tdef center_of_mass(self):\n",
    "\t\treturn np.average(\n",
    "\t\t\tself.bubbles[:, :2], axis=0, weights=self.bubbles[:, 3]\n",
    "\t\t)\n",
    "\n",
    "\tdef center_distance(self, bubble, bubbles):\n",
    "\t\treturn np.hypot(\n",
    "\t\t\tbubble[0] - bubbles[:, 0],\n",
    "\t\t\tbubble[1] - bubbles[:, 1]\n",
    "\t\t)\n",
    "\n",
    "\tdef outline_distance(self, bubble, bubbles):\n",
    "\t\tcenter_distance = self.center_distance(bubble, bubbles)\n",
    "\t\treturn center_distance - bubble[2] - \\\n",
    "\t\t\tbubbles[:, 2] - self.bubble_spacing\n",
    "\n",
    "\tdef check_collisions(self, bubble, bubbles):\n",
    "\t\tdistance = self.outline_distance(bubble, bubbles)\n",
    "\t\treturn len(distance[distance < 0])\n",
    "\n",
    "\tdef collides_with(self, bubble, bubbles):\n",
    "\t\tdistance = self.outline_distance(bubble, bubbles)\n",
    "\t\treturn np.argmin(distance, keepdims=True)\n",
    "\n",
    "\tdef collapse(self, n_iterations=50):\n",
    "\t\t\"\"\"\n",
    "        Move bubbles to the center of mass.\n",
    "\n",
    "        Parameters\n",
    "        ----------\n",
    "        n_iterations : int, default: 50\n",
    "            Number of moves to perform.\n",
    "        \"\"\"\n",
    "\t\tfor _i in range(n_iterations):\n",
    "\t\t\tmoves = 0\n",
    "\t\t\tfor i in range(len(self.bubbles)):\n",
    "\t\t\t\trest_bub = np.delete(self.bubbles, i, 0)\n",
    "\t\t\t\t# try to move directly towards the center of mass\n",
    "\t\t\t\t# direction vector from bubble to the center of mass\n",
    "\t\t\t\tdir_vec = self.com - self.bubbles[i, :2]\n",
    "\n",
    "\t\t\t\t# shorten direction vector to have length of 1\n",
    "\t\t\t\tdir_vec = dir_vec / np.sqrt(dir_vec.dot(dir_vec))\n",
    "\n",
    "\t\t\t\t# calculate new bubble position\n",
    "\t\t\t\tnew_point = self.bubbles[i, :2] + dir_vec * self.step_dist\n",
    "\t\t\t\tnew_bubble = np.append(new_point, self.bubbles[i, 2:4])\n",
    "\n",
    "\t\t\t\t# check whether new bubble collides with other bubbles\n",
    "\t\t\t\tif not self.check_collisions(new_bubble, rest_bub):\n",
    "\t\t\t\t\tself.bubbles[i, :] = new_bubble\n",
    "\t\t\t\t\tself.com = self.center_of_mass()\n",
    "\t\t\t\t\tmoves += 1\n",
    "\t\t\t\telse:\n",
    "\t\t\t\t\t# try to move around a bubble that you collide with\n",
    "\t\t\t\t\t# find colliding bubble\n",
    "\t\t\t\t\tfor colliding in self.collides_with(new_bubble, rest_bub):\n",
    "\t\t\t\t\t\t# calculate direction vector\n",
    "\t\t\t\t\t\tdir_vec = rest_bub[colliding, :2] - self.bubbles[i, :2]\n",
    "\t\t\t\t\t\tdir_vec = dir_vec / np.sqrt(dir_vec.dot(dir_vec))\n",
    "\t\t\t\t\t\t# calculate orthogonal vector\n",
    "\t\t\t\t\t\torth = np.array([dir_vec[1], -dir_vec[0]])\n",
    "\t\t\t\t\t\t# test which direction to go\n",
    "\t\t\t\t\t\tnew_point1 = (self.bubbles[i, :2] + orth *\n",
    "\t\t\t\t\t\t              self.step_dist)\n",
    "\t\t\t\t\t\tnew_point2 = (self.bubbles[i, :2] - orth *\n",
    "\t\t\t\t\t\t              self.step_dist)\n",
    "\t\t\t\t\t\tdist1 = self.center_distance(\n",
    "\t\t\t\t\t\t\tself.com, np.array([new_point1])\n",
    "\t\t\t\t\t\t)\n",
    "\t\t\t\t\t\tdist2 = self.center_distance(\n",
    "\t\t\t\t\t\t\tself.com, np.array([new_point2])\n",
    "\t\t\t\t\t\t)\n",
    "\t\t\t\t\t\tnew_point = new_point1 if dist1 < dist2 else new_point2\n",
    "\t\t\t\t\t\tnew_bubble = np.append(new_point, self.bubbles[i, 2:4])\n",
    "\t\t\t\t\t\tif not self.check_collisions(new_bubble, rest_bub):\n",
    "\t\t\t\t\t\t\tself.bubbles[i, :] = new_bubble\n",
    "\t\t\t\t\t\t\tself.com = self.center_of_mass()\n",
    "\n",
    "\t\t\tif moves / len(self.bubbles) < 0.1:\n",
    "\t\t\t\tself.step_dist = self.step_dist / 2\n",
    "\n",
    "\tdef plot(self, ax, labels, colors):\n",
    "\t\t\"\"\"\n",
    "        Draw the bubble plot.\n",
    "\n",
    "        Parameters\n",
    "        ----------\n",
    "        ax : matplotlib.axes.Axes\n",
    "        labels : list\n",
    "            Labels of the bubbles.\n",
    "        colors : list\n",
    "            Colors of the bubbles.\n",
    "        \"\"\"\n",
    "\t\tfor i in range(len(self.bubbles)):\n",
    "\t\t\tcirc = plt.Circle(\n",
    "\t\t\t\tself.bubbles[i, :2], self.bubbles[i, 2], color=colors[i]\n",
    "\t\t\t)\n",
    "\t\t\tax.add_patch(circ)\n",
    "\n",
    "# ax.text(\n",
    "#     *self.bubbles[i, :2], labels[i],\n",
    "#     horizontalalignment='center', verticalalignment='center',\n",
    "#     fontsize=14\n",
    "# )"
   ],
   "id": "8dc68826741987ff",
   "outputs": [],
   "execution_count": null
  },
  {
   "metadata": {},
   "cell_type": "code",
   "source": [
    "import matplotlib.pyplot as plt\n",
    "import numpy as np\n",
    "\n",
    "# Define your data\n",
    "df = load_data(\"rq1-total-revenue-breakdown.csv\")\n",
    "grouped_data = df.groupby('grouped').apply(lambda g: g.nlargest(5, 'value', 'all')).reset_index(drop=True)\n",
    "\n",
    "# Normalize Sizes for Bubble Chart\n",
    "max_bubble_size = 15000  # Adjust for scaling\n",
    "max_value = grouped_data['value'].max()\n",
    "grouped_data['size'] = grouped_data['value'] / max_value * max_bubble_size\n",
    "\n",
    "# Define colors for each bubble\n",
    "grouped_colors = {\n",
    "\t\"commission\": get_chart_color(2),\n",
    "\t\"unclaimed_balance\": get_chart_color(3),\n",
    "\t\"ticket_sales\": get_chart_color(1),\n",
    "\t\"direct_sales\": get_chart_color(0),\n",
    "}\n",
    "colors = [grouped_colors[group] for group in grouped_data['grouped']]\n",
    "\n",
    "\n",
    "# Function to truncate labels\n",
    "def truncate_label(label, max_length=16):\n",
    "\tif len(label) > max_length:\n",
    "\t\treturn label[:max_length - 3] + \"…\"\n",
    "\treturn label\n",
    "\n",
    "\n",
    "# Adjust labels based on bubble size\n",
    "labels = []\n",
    "for _, row in grouped_data.iterrows():\n",
    "\tsize = row['size']\n",
    "\tcategory = row['category']\n",
    "\tlabels.append(\"\")\n",
    "\n",
    "# Load data and process it\n",
    "bubble_chart = BubbleChart(grouped_data['size'], bubble_spacing=1)\n",
    "bubble_chart.collapse()\n",
    "\n",
    "# Plot the chart\n",
    "fig, ax = plt.subplots(figsize=(12, 8), subplot_kw=dict(aspect=\"equal\"))\n",
    "bubble_chart.plot(ax, labels, colors)\n",
    "\n",
    "# Add labels manually\n",
    "for i, (x, y, r) in enumerate(bubble_chart.bubbles[:, :3]):\n",
    "\tsize = grouped_data.loc[i, 'size']\n",
    "\tcategory = grouped_data.loc[i, 'category']\n",
    "\n",
    "\t# Determine label visibility and text\n",
    "\tif size > 3000:  # Larger bubbles show full labels\n",
    "\t\tlabel = truncate_label(category, max_length=16)\n",
    "\t\tfont_size = 16 if size > 5000 else 14  # Adjust font size based on bubble size\n",
    "\t\tax.text(\n",
    "\t\t\tx, y, label,\n",
    "\t\t\tha=\"center\", va=\"center\",\n",
    "\t\t\tfontsize=font_size, fontname=\"serif\", color=\"white\"\n",
    "\t\t)\n",
    "\telif size > 1000:  # Medium bubbles show truncated labels\n",
    "\t\tlabel = truncate_label(category, max_length=8)\n",
    "\t\tax.text(\n",
    "\t\t\tx, y, label,\n",
    "\t\t\tha=\"center\", va=\"center\",\n",
    "\t\t\tfontsize=10, fontname=\"serif\", color=\"white\"\n",
    "\t\t)\n",
    "\telif size > 200:\n",
    "\t\t# label = truncate_label(category, max_length=6)\n",
    "\t\tlabel = ''\n",
    "\t\tax.text(\n",
    "\t\t\tx, y, label,\n",
    "\t\t\tha=\"center\", va=\"center\",\n",
    "\t\t\tfontsize=10, fontname=\"serif\", color=\"white\"\n",
    "\t\t)\n",
    "\n",
    "# Styling\n",
    "ax.axis('off')  # Hide axes\n",
    "ax.relim()\n",
    "ax.autoscale_view()\n",
    "plt.tight_layout()\n",
    "\n",
    "plt.savefig(get_charts_dir(\"rq1-total-revenue-breakdown.png\"), dpi=300, bbox_inches='tight', pad_inches=0.1)"
   ],
   "id": "c5611220ae477214",
   "outputs": [],
   "execution_count": null
  },
  {
   "metadata": {},
   "cell_type": "code",
   "source": [
    "import pandas as pd\n",
    "import matplotlib.pyplot as plt\n",
    "import numpy as np\n",
    "\n",
    "# Read and prepare data\n",
    "df = load_data(\"rq11-best-product-category.csv\")\n",
    "\n",
    "# Group by category and calculate mean sales\n",
    "category_sales = df.groupby('category')['sales_count'].mean().sort_values(ascending=True)\n",
    "\n",
    "# Create figure\n",
    "fig, ax = plt.subplots(figsize=(12, 6))\n",
    "\n",
    "# Type mapping for better labels\n",
    "category_config = {\n",
    "\t# 'Web': { 'color': get_chart_color(0), 'label': 'Web Platform' },\n",
    "\t'Beer': { 'color': get_chart_color(0) },\n",
    "\t'Spirits': { 'color': get_chart_color(1) },\n",
    "\t'Wine': { 'color': get_chart_color(2) },\n",
    "\t'Non-Alcoholic': { 'color': get_chart_color(0) },\n",
    "\t'Salty Snacks': { 'color': get_chart_color(1) },\n",
    "\t'Sweet Snacks': { 'color': get_chart_color(2) },\n",
    "\t'Complimentary': { 'color': get_chart_color(2) },\n",
    "}\n",
    "\n",
    "# Create horizontal bars\n",
    "bars = []\n",
    "for i, (cat, value) in enumerate(category_sales.items()):\n",
    "\tconf = category_config[cat]\n",
    "\tbar = ax.barh(\n",
    "\t\tcat,\n",
    "\t\tvalue,\n",
    "\t\tcolor=conf['color']\n",
    "\t)\n",
    "\tbars.append(bar[0])\n",
    "\n",
    "\t# Add value labels\n",
    "\tax.text(\n",
    "\t\tvalue + 200,  # Slight padding\n",
    "\t\tbar[0].get_y() + bar[0].get_height() / 2,\n",
    "\t\tf'{int(value):,}',\n",
    "\t\tva='center',\n",
    "\t\tfontsize=16,\n",
    "\t\tcolor=get_chart_color('text'),\n",
    "\t\tfontweight='bold'\n",
    "\t)\n",
    "\n",
    "# Customize chart\n",
    "ax.set_xlabel('Total Products Sold', fontsize=16, labelpad=24, color=get_chart_color('text'))\n",
    "ax.tick_params(axis='both', labelsize=16)\n",
    "\n",
    "# x-tick formatter\n",
    "ax.xaxis.set_major_formatter(ticker.FuncFormatter(lambda x, _: format_number_short(x)))\n",
    "\n",
    "# Format axis\n",
    "ax.grid(True, axis='x', alpha=0.2)\n",
    "ax.set_axisbelow(True)\n",
    "ax.spines['top'].set_visible(False)\n",
    "ax.spines['right'].set_visible(False)\n",
    "\n",
    "# Format y-axis labels\n",
    "ax.set_yticklabels(category_sales.index, fontsize=14)\n",
    "\n",
    "# Add padding to x-axis for labels\n",
    "x_max = category_sales.max()\n",
    "ax.set_xlim(0, x_max * 1.15)  # Add 15% padding for labels\n",
    "\n",
    "# hide grid y-axis\n",
    "ax.grid(axis='y', linestyle='--', alpha=0)\n",
    "ax.grid(axis='x', linestyle='--', alpha=0.5)\n",
    "\n",
    "# Adjust layout\n",
    "plt.tight_layout()\n",
    "\n",
    "plt.savefig(get_charts_dir(\"rq11-best-product-category.png\"), dpi=300, bbox_inches='tight', pad_inches=0.1)"
   ],
   "id": "1f4889d1648d0599",
   "outputs": [],
   "execution_count": null
  },
  {
   "metadata": {},
   "cell_type": "code",
   "source": [
    "import pandas as pd\n",
    "import matplotlib.pyplot as plt\n",
    "import numpy as np\n",
    "from matplotlib import ticker\n",
    "\n",
    "# Read and prepare data\n",
    "df = load_data(\"rq15-top-beer-brands.csv\")\n",
    "# Sort by consumption\n",
    "df = df.sort_values('total_consumption_ml', ascending=True)\n",
    "\n",
    "# Create figure\n",
    "fig, ax = plt.subplots(figsize=(12, 6))\n",
    "\n",
    "# Create horizontal bars\n",
    "bars = []\n",
    "for i, row in df.iterrows():\n",
    "\tcolors = [0, 0, 1, 1, 1, 1]\n",
    "\tbar = ax.barh(\n",
    "\t\trow['subcategory'],\n",
    "\t\trow['total_consumption_ml'],\n",
    "\t\tcolor=get_chart_color(colors[i] if i < len(colors) else 2),\n",
    "\t)\n",
    "\tbars.append(bar[0])\n",
    "\n",
    "\t# Add value labels\n",
    "\tax.text(\n",
    "\t\trow['total_consumption_ml'] + 200,  # Slight padding\n",
    "\t\tbar[0].get_y() + bar[0].get_height() / 2,\n",
    "\t\tformat_volume(row[\"total_consumption_ml\"] * 1000),\n",
    "\t\tva='center',\n",
    "\t\tfontsize=16,\n",
    "\t\tcolor=get_chart_color('text'),\n",
    "\t\tfontweight='bold'\n",
    "\t)\n",
    "\n",
    "# Customize chart\n",
    "ax.set_xlabel('Total Consumption (ml)', fontsize=16, labelpad=24, color=get_chart_color('text'))\n",
    "ax.tick_params(axis='both', labelsize=16)\n",
    "\n",
    "# x-tick formatter\n",
    "ax.xaxis.set_major_formatter(ticker.FuncFormatter(lambda x, _: f\"{format_number_short(x)} litres\"))\n",
    "\n",
    "# Format axis\n",
    "ax.grid(True, axis='x', alpha=0.2)\n",
    "ax.set_axisbelow(True)\n",
    "ax.spines['top'].set_visible(False)\n",
    "ax.spines['right'].set_visible(False)\n",
    "\n",
    "# Add padding to x-axis for labels\n",
    "x_max = df['total_consumption_ml'].max()\n",
    "ax.set_xlim(0, x_max * 1.25)  # Add 15% padding for labels\n",
    "\n",
    "# hide grid y-axis\n",
    "ax.grid(axis='y', linestyle='--', alpha=0)\n",
    "ax.grid(axis='x', linestyle='--', alpha=0.5)\n",
    "\n",
    "# Adjust layout\n",
    "plt.tight_layout()\n",
    "\n",
    "# Save the figure\n",
    "plt.savefig(get_charts_dir(\"rq15-top-beer-brands.png\"), dpi=300, bbox_inches='tight', pad_inches=0.1)\n",
    "plt.show()"
   ],
   "id": "d2af9538f5608f51",
   "outputs": [],
   "execution_count": null
  },
  {
   "metadata": {},
   "cell_type": "code",
   "source": "",
   "id": "a60f8455159a271c",
   "outputs": [],
   "execution_count": null
  },
  {
   "metadata": {},
   "cell_type": "code",
   "source": [
    "import pandas as pd\n",
    "import matplotlib.pyplot as plt\n",
    "import numpy as np\n",
    "from matplotlib import ticker\n",
    "\n",
    "# Read and prepare data\n",
    "df = load_data(\"rq6-transaction-peaks.csv\")\n",
    "df['hour'] = pd.to_datetime(df['day'])\n",
    "\n",
    "# Label mappings\n",
    "type_labels = {\n",
    "\t'chip_register': 'Chip Register',\n",
    "\t'order': 'Order',\n",
    "\t'topup': 'Top-Up'\n",
    "}\n",
    "\n",
    "# Pivot the data for stacking\n",
    "df_pivot = df.pivot(index='hour', columns='type', values='count').fillna(0)\n",
    "df_pivot.columns = [type_labels[col] for col in df_pivot.columns]\n",
    "\n",
    "# Create figure\n",
    "fig, ax = plt.subplots(figsize=(12, 8))\n",
    "\n",
    "# Create stacked bars\n",
    "colors = {\n",
    "\t'Chip Register': get_chart_color(1),\n",
    "\t'Order': get_chart_color(0),\n",
    "\t'Top-Up': get_chart_color(2)\n",
    "}\n",
    "\n",
    "# Plot stacked bars with lower opacity for all bars\n",
    "bars = df_pivot.plot(\n",
    "\tkind='bar',\n",
    "\tstacked=True,\n",
    "\tax=ax,\n",
    "\tcolor=[colors[col] for col in df_pivot.columns],\n",
    "\talpha=0.25,\n",
    "\twidth=0.8\n",
    ")\n",
    "\n",
    "# Define peak times and values\n",
    "peaks = {\n",
    "\tpd.to_datetime(\"2024-07-04 16:00\"): 8477,\n",
    "\tpd.to_datetime(\"2024-07-05 17:00\"): 6330,\n",
    "\tpd.to_datetime(\"2024-07-06 18:00\"): 8986,\n",
    "}\n",
    "\n",
    "# Add peak lines and annotations\n",
    "limited_peaks = dict(sorted(peaks.items(), key=lambda item: item[1], reverse=True)[:1])\n",
    "for peak_time, peak_value in limited_peaks.items():\n",
    "\tax.axhline(y=peak_value, color='red', linestyle='--', alpha=0.5)\n",
    "\tax.text(\n",
    "\t\t0,\n",
    "\t\tpeak_value * 1.02,\n",
    "\t\tf'Peak: {format_number(peak_value)}',\n",
    "\t\tcolor='red',\n",
    "\t\tfontsize=14\n",
    "\t)\n",
    "\n",
    "# Make peak bars full opacity\n",
    "for peak_time in peaks.keys():\n",
    "\tif peak_time in df_pivot.index:\n",
    "\t\tpeak_idx = df_pivot.index.get_loc(peak_time)\n",
    "\t\tfor container in ax.containers:\n",
    "\t\t\tcontainer[peak_idx].set_alpha(1.0)\n",
    "\n",
    "# Customize chart\n",
    "ax.set_ylabel('Transaction Count per hour', fontsize=16, labelpad=24, color=get_chart_color('text'))\n",
    "ax.set_xlabel('')\n",
    "ax.tick_params(axis='both', labelsize=16)\n",
    "\n",
    "# Format x-axis with highlighted peaks\n",
    "tick_interval = 6\n",
    "# xticks = np.arange(0, len(df_pivot.index), step=tick_interval)\n",
    "xticks = np.arange(0, 0)\n",
    "\n",
    "# Add peak times to xticks if not already included\n",
    "for peak_time in peaks.keys():\n",
    "\tif peak_time in df_pivot.index:\n",
    "\t\tpeak_idx = df_pivot.index.get_loc(peak_time)\n",
    "\t\tif peak_idx not in xticks:\n",
    "\t\t\txticks = np.sort(np.append(xticks, peak_idx))\n",
    "\n",
    "ax.set_xticks(xticks)\n",
    "tick_labels = [format_event_datetime(df_pivot.index[i]) for i in xticks]\n",
    "ax.set_xticklabels(\n",
    "\ttick_labels,\n",
    "\trotation=60,\n",
    "\tha='center',\n",
    "\tfontsize=14\n",
    ")\n",
    "\n",
    "# Color the peak tick labels red\n",
    "for i, tick in enumerate(ax.get_xticklabels()):\n",
    "\ttick_datetime = df_pivot.index[xticks[i]]\n",
    "\tif tick_datetime in peaks:\n",
    "\t\ttick.set_color(get_chart_color('text'))\n",
    "\t\ttick.set_fontsize(16)\n",
    "\t\ttick.set_rotation(0)\n",
    "\telse:\n",
    "\t\ttick.set_color('white')\n",
    "\n",
    "# Format y-axis\n",
    "ax.yaxis.set_major_formatter(ticker.FuncFormatter(lambda x, p: format_number_short(x)))\n",
    "\n",
    "# Add gridlines\n",
    "ax.grid(True, axis='y', alpha=0.5)\n",
    "ax.set_axisbelow(True)\n",
    "\n",
    "# Remove spines\n",
    "ax.spines['top'].set_visible(False)\n",
    "ax.spines['right'].set_visible(False)\n",
    "\n",
    "# Create custom legend elements with full opacity\n",
    "legend_elements = [\n",
    "\tplt.Rectangle(\n",
    "\t\t(0, 0),\n",
    "\t\t1,\n",
    "\t\t1,\n",
    "\t\tfacecolor=colors[label],\n",
    "\t\talpha=1.0,  # Full opacity for legend\n",
    "\t\tlabel=label\n",
    "\t) for label in df_pivot.columns\n",
    "]\n",
    "\n",
    "# Add legend with custom elements\n",
    "ax.legend(\n",
    "\thandles=legend_elements,\n",
    "\tloc='upper center',\n",
    "\tbbox_to_anchor=(0.5, -0.1),\n",
    "\tncol=len(df_pivot.columns),\n",
    "\tfontsize=16,\n",
    "\ttitle='Transaction Type',\n",
    "\ttitle_fontsize=16\n",
    ")\n",
    "\n",
    "# Adjust layout\n",
    "plt.tight_layout(rect=[0, 0, 1, 0.95])\n",
    "\n",
    "# Save the figure\n",
    "plt.savefig(get_charts_dir(\"rq5-transaction-peaks.png\"), dpi=300, bbox_inches='tight', pad_inches=0.1)\n",
    "plt.show()"
   ],
   "id": "baf53bda336fd07e",
   "outputs": [],
   "execution_count": null
  },
  {
   "metadata": {},
   "cell_type": "code",
   "source": [
    "import pandas as pd\n",
    "import matplotlib.pyplot as plt\n",
    "import numpy as np\n",
    "from matplotlib import ticker\n",
    "import matplotlib.dates as mdates\n",
    "\n",
    "# Read and prepare data\n",
    "df = load_data(\"rq6-transaction-peaks.csv\")\n",
    "df['hour'] = pd.to_datetime(df['day'])\n",
    "\n",
    "# Label mappings and colors\n",
    "type_config = {\n",
    "\t'chip_register': { 'label': 'Chip Register', 'color': get_chart_color(1) },\n",
    "\t'order': { 'label': 'Order', 'color': get_chart_color(0) },\n",
    "\t'topup': { 'label': 'Top-Up', 'color': get_chart_color(2) }\n",
    "}\n",
    "\n",
    "# Create figure with more height for better readability\n",
    "fig, ax = plt.subplots(figsize=(12, 7))\n",
    "\n",
    "# Plot lines for each transaction type\n",
    "for type_original, config in type_config.items():\n",
    "\ttype_data = df[df['type'] == type_original].copy()\n",
    "\ttype_data = type_data.sort_values('hour')\n",
    "\n",
    "\tax.plot(\n",
    "\t\ttype_data['hour'],\n",
    "\t\ttype_data['avg_processing_time'],\n",
    "\t\tlabel=config['label'],\n",
    "\t\tcolor=config['color'],\n",
    "\t\talpha=0.8,\n",
    "\t\tlinewidth=2.5  # Slightly thicker lines\n",
    "\t)\n",
    "\n",
    "# Find peak\n",
    "peak_mask = df['avg_processing_time'] == df['avg_processing_time'].max()\n",
    "peak_data = df[peak_mask].iloc[0]\n",
    "peak_time = peak_data['hour']\n",
    "peak_value = peak_data['avg_processing_time']\n",
    "\n",
    "# Calculate average\n",
    "avg_value = df['avg_processing_time'].mean()\n",
    "\n",
    "# Add peak line and annotation\n",
    "ax.axhline(y=peak_value, color='#ff0000', linestyle='--', alpha=0.3, zorder=1)\n",
    "\n",
    "# Create background for text annotations\n",
    "peak_text = f\"Peak: {format_duration(peak_value)}\"\n",
    "avg_text = f\"Average: {format_duration(avg_value)}\"\n",
    "\n",
    "# Add text annotations with white background for better readability\n",
    "bbox_props = dict(\n",
    "\tboxstyle=\"round,pad=0.5\",\n",
    "\tfc=\"white\",\n",
    "\tec=\"#DDDDDD\",\n",
    ")\n",
    "\n",
    "ax.text(\n",
    "\tdf['hour'].min(),\n",
    "\tpeak_value * 1.02,\n",
    "\tpeak_text,\n",
    "\tcolor='red',\n",
    "\tfontsize=14,\n",
    "\tfontweight='bold',\n",
    "\tbbox=bbox_props\n",
    ")\n",
    "\n",
    "# Position average text below peak text to avoid overlap\n",
    "ax.text(\n",
    "\tdf['hour'].min(),\n",
    "\tavg_value * 0.85,  # Position below the line\n",
    "\tavg_text,\n",
    "\tcolor='gray',\n",
    "\tfontsize=14,\n",
    "\tbbox=bbox_props\n",
    ")\n",
    "\n",
    "# Add dashed line for average\n",
    "ax.axhline(y=avg_value, color='gray', linestyle='--', alpha=0.3, zorder=1)\n",
    "\n",
    "# Customize chart\n",
    "ax.set_ylabel('Processing Time', fontsize=16, labelpad=24, color=get_chart_color('text'))\n",
    "ax.tick_params(axis='both', labelsize=14)\n",
    "\n",
    "# Format x-axis with more frequent labels\n",
    "ax.xaxis.set_major_locator(mdates.HourLocator(interval=4))  # Show every 4 hours\n",
    "ax.xaxis.set_major_formatter(plt.FuncFormatter(lambda x, p: format_event_datetime(x)))\n",
    "\n",
    "# Rotate and align x-axis labels\n",
    "plt.xticks(rotation=45, ha='right')\n",
    "\n",
    "# Style x-tick labels\n",
    "for tick in ax.get_xticklabels():\n",
    "\ttick_time = mdates.num2date(tick.get_position()[0])\n",
    "\tif tick_time.strftime('%Y-%m-%d %H:00') == peak_time.strftime('%Y-%m-%d %H:00'):\n",
    "\t\ttick.set_color('#ff0000')\n",
    "\t\ttick.set_fontweight('bold')\n",
    "\t\t# Add a subtle marker for the peak time\n",
    "\t\tax.scatter(tick_time, peak_value, color='#ff0000', s=100, alpha=0.3, zorder=3)\n",
    "\n",
    "# Format y-axis with more readable intervals\n",
    "ax.yaxis.set_major_formatter(ticker.FuncFormatter(lambda x, p: format_duration(x)))\n",
    "\n",
    "# Enhance gridlines\n",
    "ax.grid(True, axis='y', linestyle='--', alpha=0.2)\n",
    "ax.grid(True, axis='x', linestyle='--', alpha=0.1)\n",
    "ax.set_axisbelow(True)\n",
    "\n",
    "# Remove spines\n",
    "ax.spines['top'].set_visible(False)\n",
    "ax.spines['right'].set_visible(False)\n",
    "\n",
    "# Add legend with improved positioning and style\n",
    "legend = ax.legend(\n",
    "\tloc='upper center',\n",
    "\tbbox_to_anchor=(0.5, -0.35),\n",
    "\tncol=len(type_config),\n",
    "\tfontsize=14,\n",
    "\tframeon=True,\n",
    "\ttitle='Transaction Type',\n",
    "\ttitle_fontsize=16,\n",
    "\tedgecolor='#cccccc'\n",
    ")\n",
    "\n",
    "# Adjust layout with more space for legend\n",
    "plt.tight_layout(rect=[0, 0.1, 1, 1.05])\n",
    "\n",
    "# Save the figure\n",
    "plt.savefig(get_charts_dir(\"rq7-processing-times.png\"), dpi=300, bbox_inches='tight', pad_inches=0.1)"
   ],
   "id": "a03eaaac5525f63a",
   "outputs": [],
   "execution_count": null
  },
  {
   "metadata": {},
   "cell_type": "code",
   "source": [
    "import matplotlib.pyplot as plt\n",
    "import numpy as np\n",
    "\n",
    "# Data\n",
    "labels = ['Issued', 'Returned', 'Not Returned']\n",
    "values = [22045, 17322, 4723]\n",
    "colors = [\n",
    "\tget_chart_color(0),\n",
    "\tget_chart_color(1),\n",
    "\tget_chart_color(2),\n",
    "]  # Blue, Green, Red\n",
    "\n",
    "# Create figure and axes\n",
    "fig, ax = plt.subplots(figsize=(12, 6))\n",
    "\n",
    "# Calculate bottom positions for each bar\n",
    "bottom_positions = [0, values[0] - values[1], 0]\n",
    "\n",
    "# Plot bars\n",
    "bars = []\n",
    "for i in range(len(values)):\n",
    "\tbar = ax.bar(\n",
    "\t\tlabels[i],  # X-axis label\n",
    "\t\tvalues[i],  # Bar height\n",
    "\t\tcolor=colors[i],  # Bar color\n",
    "\t\twidth=0.5,  # Bar width\n",
    "\t\tbottom=bottom_positions[i],  # Start position\n",
    "\t\talign='center'\n",
    "\t)\n",
    "\tbars.append(bar[0])\n",
    "\n",
    "# Add text labels to bars\n",
    "for i, bar in enumerate(bars):\n",
    "\theight = bar.get_height()\n",
    "\tpercentage = (height / values[0]) * 100\n",
    "\n",
    "\t# Add formatted labels\n",
    "\tax.text(\n",
    "\t\tbar.get_x() + bar.get_width() / 2,\n",
    "\t\tbottom_positions[i] + height + 2000,\n",
    "\t\tf\"{format_number(height)} ({format_percent(percentage)})\",\n",
    "\t\tha='center', va='center',\n",
    "\t\tfontsize=16, fontweight='bold', color=get_chart_color('text')\n",
    "\t)\n",
    "\n",
    "# Add connecting lines\n",
    "ax.plot(\n",
    "\t[-0.25, 1.25], [values[0], values[0]], 'k:', alpha=0.15\n",
    ")\n",
    "ax.plot(\n",
    "\t[0.75, 2.25], [bottom_positions[1], bottom_positions[1]], 'k:', alpha=0.15\n",
    ")\n",
    "\n",
    "# Customize the plot\n",
    "ax.set_ylabel('Number of Cups', fontsize=16, labelpad=20)\n",
    "ax.set_ylim(0, sum(values) + 2000)\n",
    "ax.set_xticks(range(len(labels)))\n",
    "ax.set_xticklabels(labels, fontsize=16)\n",
    "\n",
    "# Format y-axis with thousands separator\n",
    "ax.yaxis.set_major_formatter(plt.FuncFormatter(lambda x, p: format_number_short(x)))\n",
    "ax.tick_params(axis='y', labelsize=16)\n",
    "\n",
    "# Add legend below the chart with a box\n",
    "ax.legend(\n",
    "\tbars,\n",
    "\tlabels,\n",
    "\tloc='upper center',\n",
    "\tbbox_to_anchor=(0.5, -0.1),\n",
    "\tfontsize=14,\n",
    "\tncol=3,\n",
    "\tframeon=True,  # Add box around legend\n",
    "\tedgecolor='#cccccc'\n",
    ")\n",
    "\n",
    "# Add box with return rate in a nice box centered top\n",
    "return_rate = (values[1] / values[0]) * 100\n",
    "return_rate_text = f'Return Rate: {format_percent(return_rate)}'\n",
    "ax.text(\n",
    "\t1, 27500,\n",
    "\treturn_rate_text,\n",
    "\tfontsize=16,\n",
    "\tcolor=get_chart_color('text'),\n",
    "\tha='center',\n",
    "\tfontweight=\"bold\",\n",
    "\tbbox=dict(\n",
    "\t\tboxstyle='round,pad=0.5',\n",
    "\t\tfc='white',\n",
    "\t\tec='#cccccc'\n",
    "\t)\n",
    ")\n",
    "\n",
    "# set y-axis range 0 to 30000\n",
    "plt.ylim(0, 30000)\n",
    "\n",
    "# Remove unnecessary spines\n",
    "ax.spines['top'].set_visible(False)\n",
    "ax.spines['right'].set_visible(False)\n",
    "\n",
    "# Adjust layout\n",
    "plt.tight_layout()\n",
    "\n",
    "# Show the plot\n",
    "plt.savefig(get_charts_dir(\"rq13-returnable-cups.png\"), dpi=300, bbox_inches='tight', pad_inches=0.1)\n"
   ],
   "id": "b8e0f48e6ca2b173",
   "outputs": [],
   "execution_count": null
  },
  {
   "metadata": {},
   "cell_type": "code",
   "source": [
    "import pandas as pd\n",
    "import matplotlib.pyplot as plt\n",
    "import numpy as np\n",
    "\n",
    "# Load the provided data\n",
    "data = load_data(\"rq9-best-topup-points.csv\")\n",
    "\n",
    "# Sort the data for better visualization (by Transactions)\n",
    "data = data.sort_values(by=\"transaction_count\", ascending=False)\n",
    "\n",
    "# Define colors for better distinction\n",
    "colors = ['#2563EB' if \"Pokladna\" in x else '#22C55E' if \"Odbavení\" in x else '#EF4444' for x in data[\"entity\"]]\n",
    "\n",
    "# Create a grouped bar chart\n",
    "x = np.arange(len(data))  # the label locations\n",
    "bar_width = 0.8\n",
    "\n",
    "fig, ax = plt.subplots(figsize=(14, 8))\n",
    "\n",
    "# Bar plots for each metric\n",
    "# bar1 = ax.bar(x - bar_width, data['customer_count'], bar_width, label='Customers', color='#1D4ED8', alpha=0.8)\n",
    "bar2 = ax.bar(x, data['transaction_count'], bar_width, label='Transactions', color=get_chart_color(2))\n",
    "# bar3 = ax.bar(x + bar_width, data['max_hourly_peak'], bar_width, label='Max Transactions/Hour', color='#93C5FD', alpha=0.8)\n",
    "\n",
    "# Add labels on the bars\n",
    "show_max = 3\n",
    "# index of \"Odbavení\"\n",
    "odbaveni_index = data[data['entity'].str.contains(\"Odbavení\")].index[0]\n",
    "for bars, metric in zip([bar2], ['transaction_count']):\n",
    "\tfor i, bar in enumerate(bars):\n",
    "\t\tif (i < 1 or i > len(data) - show_max - 1 or i == odbaveni_index):\n",
    "\t\t\tbar.set_color(get_chart_color(0))\n",
    "\t\t\theight = bar.get_height()\n",
    "\t\t\tax.text(\n",
    "\t\t\t\tbar.get_x() + bar.get_width() / 2,\n",
    "\t\t\t\theight + 25,\n",
    "\t\t\t\tf\"{format_number_short(height)}\",\n",
    "\t\t\t\tha='center',\n",
    "\t\t\t\tva='bottom',\n",
    "\t\t\t\tfontsize=14,\n",
    "\t\t\t\tfontweight=\"bold\",\n",
    "\t\t\t\tcolor=get_chart_color('text')\n",
    "\t\t\t)\n",
    "\t\telse:\n",
    "\t\t\tbar.set_alpha(0.25)\n",
    "\n",
    "# Customize the chart\n",
    "ax.set_xlabel('Top-Up Points', fontsize=16, labelpad=24)\n",
    "ax.set_ylabel('Transactions Processed', fontsize=16, labelpad=24)\n",
    "ax.set_xticks(x)\n",
    "ax.set_xticklabels(data['entity'], rotation=90, ha='right', fontsize=14)\n",
    "ax.grid(axis='y', linestyle='--', alpha=0.6)\n",
    "\n",
    "# y-lim\n",
    "ax.set_ylim(0, data['transaction_count'].max() * 1.15)\n",
    "\n",
    "# Adjust layout\n",
    "plt.tight_layout()\n",
    "\n",
    "plt.savefig(get_charts_dir(\"rq9-best-topup-points.png\"), dpi=300, bbox_inches='tight', pad_inches=0.1)"
   ],
   "id": "9cc1101dfd73f4de",
   "outputs": [],
   "execution_count": null
  },
  {
   "metadata": {
    "ExecuteTime": {
     "end_time": "2025-01-02T18:10:22.951645Z",
     "start_time": "2025-01-02T18:10:22.920612Z"
    }
   },
   "cell_type": "code",
   "source": [
    "import plotly.graph_objects as go\n",
    "import pandas as pd\n",
    "\n",
    "# Read the CSV file\n",
    "df = load_data(\"rq29-product-combos-with-returnable.csv\")\n",
    "# df = load_data(\"rq29-product-combos-without-returnable.csv\")\n",
    "df = df.head(7)\n",
    "\n",
    "scale = 8\n",
    "\n",
    "highlight_color = get_chart_color(0)\n",
    "normal_color = get_chart_color(0)\n",
    "\n",
    "\n",
    "def is_vodka_redbull(product):\n",
    "\t\"\"\"Check if product is vodka or redbull\"\"\"\n",
    "\treturn product.lower() in ['absolut vodka', 'redbull', 'beefeater']\n",
    "\n",
    "\n",
    "# return product.lower() not in ['klobása', 'příloha']\n",
    "\n",
    "\n",
    "def get_node_color(product):\n",
    "\t\"\"\"Get color based on whether product is vodka/redbull\"\"\"\n",
    "\treturn highlight_color if is_vodka_redbull(product) else normal_color\n",
    "\n",
    "\n",
    "def get_link_color(source_product, target_product, value, max_value):\n",
    "\t\"\"\"Return color with opacity based on value strength\"\"\"\n",
    "\t# Use primary color if either product is vodka/redbull\n",
    "\tbase_color = highlight_color if (is_vodka_redbull(source_product) or is_vodka_redbull(target_product)) else normal_color\n",
    "\t# Convert hex to rgb for opacity support\n",
    "\trgb = tuple(int(base_color.lstrip('#')[i:i + 2], 16) for i in (0, 2, 4))\n",
    "\t# Scale opacity 0.2-0.8 based on value\n",
    "\topacity = 0.025 + (value / max_value * 0.25)\n",
    "\treturn f'rgba{rgb + (opacity,)}'\n",
    "\n",
    "\n",
    "def format_value(value, percentage):\n",
    "\t\"\"\"Format values with K suffix and percentage\"\"\"\n",
    "\tif value >= 1000:\n",
    "\t\tval_str = f'{value / 1000:.1f}K'\n",
    "\telse:\n",
    "\t\tval_str = f'{value:,.0f}'\n",
    "\treturn f'{val_str} ({percentage:.1f}%)'\n",
    "\n",
    "\n",
    "# Create lists of unique products and their metadata\n",
    "sources = df[['product1', 'product1_total_count', 'product1_percentage']].rename(\n",
    "\tcolumns={ 'product1': 'product', 'product1_total_count': 'count', 'product1_percentage': 'percentage' }\n",
    ").drop_duplicates()\n",
    "\n",
    "targets = df[['product2', 'product2_total_count', 'product2_percentage']].rename(\n",
    "\tcolumns={ 'product2': 'product', 'product2_total_count': 'count', 'product2_percentage': 'percentage' }\n",
    ").drop_duplicates()\n",
    "\n",
    "nodes = pd.concat([sources, targets]).drop_duplicates('product')\n",
    "node_indices = { product: idx for idx, product in enumerate(nodes['product']) }\n",
    "\n",
    "# Create node labels and colors\n",
    "node_labels = [\n",
    "\tf\"{row['product']} {format_value(row['count'], row['percentage'])}\"\n",
    "\tfor _, row in nodes.iterrows()\n",
    "]\n",
    "node_colors = [get_node_color(row['product']) for _, row in nodes.iterrows()]\n",
    "\n",
    "# Create source-target pairs for links\n",
    "link_sources = [node_indices[product] for product in df['product1']]\n",
    "link_targets = [node_indices[product] for product in df['product2']]\n",
    "link_values = df['combination_count']\n",
    "\n",
    "# Calculate link colors based on combination strength\n",
    "max_combinations = max(link_values)\n",
    "link_colors = [\n",
    "\tget_link_color(\n",
    "\t\tdf.iloc[i]['product1'],\n",
    "\t\tdf.iloc[i]['product2'],\n",
    "\t\tvalue,\n",
    "\t\tmax_combinations\n",
    "\t) for i, value in enumerate(link_values)\n",
    "]\n",
    "# Create y-positions array\n",
    "node_y_positions = []\n",
    "for idx, (_, row) in enumerate(nodes.iterrows()):\n",
    "\tif row['product'].lower() == 'kelímek - záloha':\n",
    "\t\tnode_y_positions.append(1)  # Fixed position for Kelímek\n",
    "\telse:\n",
    "\t\tnode_y_positions.append(None)  # Let plotly handle other positions\n",
    "\n",
    "print(node_y_positions)\n",
    "\n",
    "# Create figure\n",
    "fig = go.Figure(\n",
    "\tdata=[go.Sankey(\n",
    "\t\tarrangement=\"snap\",\n",
    "\t\tnode=dict(\n",
    "\t\t\tpad=50 * scale,\n",
    "\t\t\tthickness=20 * scale,\n",
    "\t\t\tline=dict(color=\"black\", width=0.5),\n",
    "\t\t\tlabel=node_labels,\n",
    "\t\t\tcolor=node_colors,\n",
    "\t\t\tx=[0] * len(sources) + [1] * len(targets),\n",
    "\t\t\t# y=node_y_positions  # Add y-positions\n",
    "\t\t),\n",
    "\t\tlink=dict(\n",
    "\t\t\tsource=link_sources,\n",
    "\t\t\ttarget=link_targets,\n",
    "\t\t\tvalue=link_values,\n",
    "\t\t\tcolor=link_colors,\n",
    "\t\t\thovertemplate=\"<b>%{source.label} → %{target.label}</b><br>\" +\n",
    "\t\t\t              \"Combinations: %{value:,.0f}<br>\" +\n",
    "\t\t\t              \"<extra></extra>\"\n",
    "\t\t)\n",
    "\t)]\n",
    ")\n",
    "\n",
    "# Update layout\n",
    "fig.update_layout(\n",
    "\tfont=dict(\n",
    "\t\tsize=24 * scale,\n",
    "\t\tfamily=\"serif\",\n",
    "\t\tweight=\"bold\",\n",
    "\t\tcolor=get_chart_color('text'),\n",
    "\t),\n",
    "\tpaper_bgcolor='white',\n",
    "\tplot_bgcolor='white',\n",
    "\twidth=900 * scale,\n",
    "\theight=500 * scale,\n",
    "\tmargin=dict(t=10 * scale, l=10 * scale, r=10 * scale, b=10 * scale)\n",
    ")\n",
    "\n",
    "# write html\n",
    "fig.write_html(get_charts_dir(\"rq29-product-combos-with-returnable.html\"))\n",
    "fig.show()\n",
    "# fig.write_image(get_charts_dir(\"rq29-product-combos-with-returnable.png\"), scale=4)"
   ],
   "id": "9e4b5a0b3eaa359a",
   "outputs": [
    {
     "name": "stdout",
     "output_type": "stream",
     "text": [
      "[1, None, None, None, None, None, None, None]\n"
     ]
    },
    {
     "data": {
      "application/vnd.plotly.v1+json": {
       "data": [
        {
         "arrangement": "snap",
         "link": {
          "color": [
           "rgba(11, 42, 112, 0.275)",
           "rgba(11, 42, 112, 0.1430795847750865)",
           "rgba(11, 42, 112, 0.1111687812379854)",
           "rgba(11, 42, 112, 0.10804498269896193)",
           "rgba(11, 42, 112, 0.10319108035371011)",
           "rgba(11, 42, 112, 0.097520184544406)",
           "rgba(11, 42, 112, 0.08142060745866975)"
          ],
          "hovertemplate": "<b>%{source.label} → %{target.label}</b><br>Combinations: %{value:,.0f}<br><extra></extra>",
          "source": [
           0,
           1,
           2,
           3,
           0,
           0,
           1
          ],
          "target": [
           4,
           5,
           0,
           0,
           6,
           7,
           0
          ],
          "value": [
           5202,
           2457,
           1793,
           1728,
           1627,
           1509,
           1174
          ]
         },
         "node": {
          "color": [
           "#0B2A70",
           "#0B2A70",
           "#0B2A70",
           "#0B2A70",
           "#0B2A70",
           "#0B2A70",
           "#0B2A70",
           "#0B2A70"
          ],
          "label": [
           "Kelímek - záloha 29.1K (26.3%)",
           "Absolut Vodka 5.2K (4.7%)",
           "Frisco 6.6K (6.0%)",
           "Birell 4.4K (3.9%)",
           "Radegast 20.7K (18.6%)",
           "Redbull 3.4K (3.0%)",
           "Pilsner Urquell 10.5K (9.5%)",
           "ZON Lemonade 4.1K (3.7%)"
          ],
          "line": {
           "color": "black",
           "width": 0.5
          },
          "pad": 400,
          "thickness": 160,
          "x": [
           0,
           0,
           0,
           0,
           1,
           1,
           1,
           1,
           1
          ]
         },
         "type": "sankey"
        }
       ],
       "layout": {
        "template": {
         "data": {
          "histogram2dcontour": [
           {
            "type": "histogram2dcontour",
            "colorbar": {
             "outlinewidth": 0,
             "ticks": ""
            },
            "colorscale": [
             [
              0.0,
              "#0d0887"
             ],
             [
              0.1111111111111111,
              "#46039f"
             ],
             [
              0.2222222222222222,
              "#7201a8"
             ],
             [
              0.3333333333333333,
              "#9c179e"
             ],
             [
              0.4444444444444444,
              "#bd3786"
             ],
             [
              0.5555555555555556,
              "#d8576b"
             ],
             [
              0.6666666666666666,
              "#ed7953"
             ],
             [
              0.7777777777777778,
              "#fb9f3a"
             ],
             [
              0.8888888888888888,
              "#fdca26"
             ],
             [
              1.0,
              "#f0f921"
             ]
            ]
           }
          ],
          "choropleth": [
           {
            "type": "choropleth",
            "colorbar": {
             "outlinewidth": 0,
             "ticks": ""
            }
           }
          ],
          "histogram2d": [
           {
            "type": "histogram2d",
            "colorbar": {
             "outlinewidth": 0,
             "ticks": ""
            },
            "colorscale": [
             [
              0.0,
              "#0d0887"
             ],
             [
              0.1111111111111111,
              "#46039f"
             ],
             [
              0.2222222222222222,
              "#7201a8"
             ],
             [
              0.3333333333333333,
              "#9c179e"
             ],
             [
              0.4444444444444444,
              "#bd3786"
             ],
             [
              0.5555555555555556,
              "#d8576b"
             ],
             [
              0.6666666666666666,
              "#ed7953"
             ],
             [
              0.7777777777777778,
              "#fb9f3a"
             ],
             [
              0.8888888888888888,
              "#fdca26"
             ],
             [
              1.0,
              "#f0f921"
             ]
            ]
           }
          ],
          "heatmap": [
           {
            "type": "heatmap",
            "colorbar": {
             "outlinewidth": 0,
             "ticks": ""
            },
            "colorscale": [
             [
              0.0,
              "#0d0887"
             ],
             [
              0.1111111111111111,
              "#46039f"
             ],
             [
              0.2222222222222222,
              "#7201a8"
             ],
             [
              0.3333333333333333,
              "#9c179e"
             ],
             [
              0.4444444444444444,
              "#bd3786"
             ],
             [
              0.5555555555555556,
              "#d8576b"
             ],
             [
              0.6666666666666666,
              "#ed7953"
             ],
             [
              0.7777777777777778,
              "#fb9f3a"
             ],
             [
              0.8888888888888888,
              "#fdca26"
             ],
             [
              1.0,
              "#f0f921"
             ]
            ]
           }
          ],
          "heatmapgl": [
           {
            "type": "heatmapgl",
            "colorbar": {
             "outlinewidth": 0,
             "ticks": ""
            },
            "colorscale": [
             [
              0.0,
              "#0d0887"
             ],
             [
              0.1111111111111111,
              "#46039f"
             ],
             [
              0.2222222222222222,
              "#7201a8"
             ],
             [
              0.3333333333333333,
              "#9c179e"
             ],
             [
              0.4444444444444444,
              "#bd3786"
             ],
             [
              0.5555555555555556,
              "#d8576b"
             ],
             [
              0.6666666666666666,
              "#ed7953"
             ],
             [
              0.7777777777777778,
              "#fb9f3a"
             ],
             [
              0.8888888888888888,
              "#fdca26"
             ],
             [
              1.0,
              "#f0f921"
             ]
            ]
           }
          ],
          "contourcarpet": [
           {
            "type": "contourcarpet",
            "colorbar": {
             "outlinewidth": 0,
             "ticks": ""
            }
           }
          ],
          "contour": [
           {
            "type": "contour",
            "colorbar": {
             "outlinewidth": 0,
             "ticks": ""
            },
            "colorscale": [
             [
              0.0,
              "#0d0887"
             ],
             [
              0.1111111111111111,
              "#46039f"
             ],
             [
              0.2222222222222222,
              "#7201a8"
             ],
             [
              0.3333333333333333,
              "#9c179e"
             ],
             [
              0.4444444444444444,
              "#bd3786"
             ],
             [
              0.5555555555555556,
              "#d8576b"
             ],
             [
              0.6666666666666666,
              "#ed7953"
             ],
             [
              0.7777777777777778,
              "#fb9f3a"
             ],
             [
              0.8888888888888888,
              "#fdca26"
             ],
             [
              1.0,
              "#f0f921"
             ]
            ]
           }
          ],
          "surface": [
           {
            "type": "surface",
            "colorbar": {
             "outlinewidth": 0,
             "ticks": ""
            },
            "colorscale": [
             [
              0.0,
              "#0d0887"
             ],
             [
              0.1111111111111111,
              "#46039f"
             ],
             [
              0.2222222222222222,
              "#7201a8"
             ],
             [
              0.3333333333333333,
              "#9c179e"
             ],
             [
              0.4444444444444444,
              "#bd3786"
             ],
             [
              0.5555555555555556,
              "#d8576b"
             ],
             [
              0.6666666666666666,
              "#ed7953"
             ],
             [
              0.7777777777777778,
              "#fb9f3a"
             ],
             [
              0.8888888888888888,
              "#fdca26"
             ],
             [
              1.0,
              "#f0f921"
             ]
            ]
           }
          ],
          "mesh3d": [
           {
            "type": "mesh3d",
            "colorbar": {
             "outlinewidth": 0,
             "ticks": ""
            }
           }
          ],
          "scatter": [
           {
            "fillpattern": {
             "fillmode": "overlay",
             "size": 10,
             "solidity": 0.2
            },
            "type": "scatter"
           }
          ],
          "parcoords": [
           {
            "type": "parcoords",
            "line": {
             "colorbar": {
              "outlinewidth": 0,
              "ticks": ""
             }
            }
           }
          ],
          "scatterpolargl": [
           {
            "type": "scatterpolargl",
            "marker": {
             "colorbar": {
              "outlinewidth": 0,
              "ticks": ""
             }
            }
           }
          ],
          "bar": [
           {
            "error_x": {
             "color": "#2a3f5f"
            },
            "error_y": {
             "color": "#2a3f5f"
            },
            "marker": {
             "line": {
              "color": "#E5ECF6",
              "width": 0.5
             },
             "pattern": {
              "fillmode": "overlay",
              "size": 10,
              "solidity": 0.2
             }
            },
            "type": "bar"
           }
          ],
          "scattergeo": [
           {
            "type": "scattergeo",
            "marker": {
             "colorbar": {
              "outlinewidth": 0,
              "ticks": ""
             }
            }
           }
          ],
          "scatterpolar": [
           {
            "type": "scatterpolar",
            "marker": {
             "colorbar": {
              "outlinewidth": 0,
              "ticks": ""
             }
            }
           }
          ],
          "histogram": [
           {
            "marker": {
             "pattern": {
              "fillmode": "overlay",
              "size": 10,
              "solidity": 0.2
             }
            },
            "type": "histogram"
           }
          ],
          "scattergl": [
           {
            "type": "scattergl",
            "marker": {
             "colorbar": {
              "outlinewidth": 0,
              "ticks": ""
             }
            }
           }
          ],
          "scatter3d": [
           {
            "type": "scatter3d",
            "line": {
             "colorbar": {
              "outlinewidth": 0,
              "ticks": ""
             }
            },
            "marker": {
             "colorbar": {
              "outlinewidth": 0,
              "ticks": ""
             }
            }
           }
          ],
          "scattermapbox": [
           {
            "type": "scattermapbox",
            "marker": {
             "colorbar": {
              "outlinewidth": 0,
              "ticks": ""
             }
            }
           }
          ],
          "scatterternary": [
           {
            "type": "scatterternary",
            "marker": {
             "colorbar": {
              "outlinewidth": 0,
              "ticks": ""
             }
            }
           }
          ],
          "scattercarpet": [
           {
            "type": "scattercarpet",
            "marker": {
             "colorbar": {
              "outlinewidth": 0,
              "ticks": ""
             }
            }
           }
          ],
          "carpet": [
           {
            "aaxis": {
             "endlinecolor": "#2a3f5f",
             "gridcolor": "white",
             "linecolor": "white",
             "minorgridcolor": "white",
             "startlinecolor": "#2a3f5f"
            },
            "baxis": {
             "endlinecolor": "#2a3f5f",
             "gridcolor": "white",
             "linecolor": "white",
             "minorgridcolor": "white",
             "startlinecolor": "#2a3f5f"
            },
            "type": "carpet"
           }
          ],
          "table": [
           {
            "cells": {
             "fill": {
              "color": "#EBF0F8"
             },
             "line": {
              "color": "white"
             }
            },
            "header": {
             "fill": {
              "color": "#C8D4E3"
             },
             "line": {
              "color": "white"
             }
            },
            "type": "table"
           }
          ],
          "barpolar": [
           {
            "marker": {
             "line": {
              "color": "#E5ECF6",
              "width": 0.5
             },
             "pattern": {
              "fillmode": "overlay",
              "size": 10,
              "solidity": 0.2
             }
            },
            "type": "barpolar"
           }
          ],
          "pie": [
           {
            "automargin": true,
            "type": "pie"
           }
          ]
         },
         "layout": {
          "autotypenumbers": "strict",
          "colorway": [
           "#636efa",
           "#EF553B",
           "#00cc96",
           "#ab63fa",
           "#FFA15A",
           "#19d3f3",
           "#FF6692",
           "#B6E880",
           "#FF97FF",
           "#FECB52"
          ],
          "font": {
           "color": "#2a3f5f"
          },
          "hovermode": "closest",
          "hoverlabel": {
           "align": "left"
          },
          "paper_bgcolor": "white",
          "plot_bgcolor": "#E5ECF6",
          "polar": {
           "bgcolor": "#E5ECF6",
           "angularaxis": {
            "gridcolor": "white",
            "linecolor": "white",
            "ticks": ""
           },
           "radialaxis": {
            "gridcolor": "white",
            "linecolor": "white",
            "ticks": ""
           }
          },
          "ternary": {
           "bgcolor": "#E5ECF6",
           "aaxis": {
            "gridcolor": "white",
            "linecolor": "white",
            "ticks": ""
           },
           "baxis": {
            "gridcolor": "white",
            "linecolor": "white",
            "ticks": ""
           },
           "caxis": {
            "gridcolor": "white",
            "linecolor": "white",
            "ticks": ""
           }
          },
          "coloraxis": {
           "colorbar": {
            "outlinewidth": 0,
            "ticks": ""
           }
          },
          "colorscale": {
           "sequential": [
            [
             0.0,
             "#0d0887"
            ],
            [
             0.1111111111111111,
             "#46039f"
            ],
            [
             0.2222222222222222,
             "#7201a8"
            ],
            [
             0.3333333333333333,
             "#9c179e"
            ],
            [
             0.4444444444444444,
             "#bd3786"
            ],
            [
             0.5555555555555556,
             "#d8576b"
            ],
            [
             0.6666666666666666,
             "#ed7953"
            ],
            [
             0.7777777777777778,
             "#fb9f3a"
            ],
            [
             0.8888888888888888,
             "#fdca26"
            ],
            [
             1.0,
             "#f0f921"
            ]
           ],
           "sequentialminus": [
            [
             0.0,
             "#0d0887"
            ],
            [
             0.1111111111111111,
             "#46039f"
            ],
            [
             0.2222222222222222,
             "#7201a8"
            ],
            [
             0.3333333333333333,
             "#9c179e"
            ],
            [
             0.4444444444444444,
             "#bd3786"
            ],
            [
             0.5555555555555556,
             "#d8576b"
            ],
            [
             0.6666666666666666,
             "#ed7953"
            ],
            [
             0.7777777777777778,
             "#fb9f3a"
            ],
            [
             0.8888888888888888,
             "#fdca26"
            ],
            [
             1.0,
             "#f0f921"
            ]
           ],
           "diverging": [
            [
             0,
             "#8e0152"
            ],
            [
             0.1,
             "#c51b7d"
            ],
            [
             0.2,
             "#de77ae"
            ],
            [
             0.3,
             "#f1b6da"
            ],
            [
             0.4,
             "#fde0ef"
            ],
            [
             0.5,
             "#f7f7f7"
            ],
            [
             0.6,
             "#e6f5d0"
            ],
            [
             0.7,
             "#b8e186"
            ],
            [
             0.8,
             "#7fbc41"
            ],
            [
             0.9,
             "#4d9221"
            ],
            [
             1,
             "#276419"
            ]
           ]
          },
          "xaxis": {
           "gridcolor": "white",
           "linecolor": "white",
           "ticks": "",
           "title": {
            "standoff": 15
           },
           "zerolinecolor": "white",
           "automargin": true,
           "zerolinewidth": 2
          },
          "yaxis": {
           "gridcolor": "white",
           "linecolor": "white",
           "ticks": "",
           "title": {
            "standoff": 15
           },
           "zerolinecolor": "white",
           "automargin": true,
           "zerolinewidth": 2
          },
          "scene": {
           "xaxis": {
            "backgroundcolor": "#E5ECF6",
            "gridcolor": "white",
            "linecolor": "white",
            "showbackground": true,
            "ticks": "",
            "zerolinecolor": "white",
            "gridwidth": 2
           },
           "yaxis": {
            "backgroundcolor": "#E5ECF6",
            "gridcolor": "white",
            "linecolor": "white",
            "showbackground": true,
            "ticks": "",
            "zerolinecolor": "white",
            "gridwidth": 2
           },
           "zaxis": {
            "backgroundcolor": "#E5ECF6",
            "gridcolor": "white",
            "linecolor": "white",
            "showbackground": true,
            "ticks": "",
            "zerolinecolor": "white",
            "gridwidth": 2
           }
          },
          "shapedefaults": {
           "line": {
            "color": "#2a3f5f"
           }
          },
          "annotationdefaults": {
           "arrowcolor": "#2a3f5f",
           "arrowhead": 0,
           "arrowwidth": 1
          },
          "geo": {
           "bgcolor": "white",
           "landcolor": "#E5ECF6",
           "subunitcolor": "white",
           "showland": true,
           "showlakes": true,
           "lakecolor": "white"
          },
          "title": {
           "x": 0.05
          },
          "mapbox": {
           "style": "light"
          }
         }
        },
        "font": {
         "size": 192,
         "family": "serif",
         "weight": "bold",
         "color": "#474647"
        },
        "margin": {
         "t": 80,
         "l": 80,
         "r": 80,
         "b": 80
        },
        "paper_bgcolor": "white",
        "plot_bgcolor": "white",
        "width": 7200,
        "height": 4000
       },
       "config": {
        "plotlyServerURL": "https://plot.ly"
       }
      },
      "text/html": [
       "<div>                            <div id=\"4a24fb47-ce13-422d-881a-cfb56dfca9a4\" class=\"plotly-graph-div\" style=\"height:4000px; width:7200px;\"></div>            <script type=\"text/javascript\">                require([\"plotly\"], function(Plotly) {                    window.PLOTLYENV=window.PLOTLYENV || {};                                    if (document.getElementById(\"4a24fb47-ce13-422d-881a-cfb56dfca9a4\")) {                    Plotly.newPlot(                        \"4a24fb47-ce13-422d-881a-cfb56dfca9a4\",                        [{\"arrangement\":\"snap\",\"link\":{\"color\":[\"rgba(11, 42, 112, 0.275)\",\"rgba(11, 42, 112, 0.1430795847750865)\",\"rgba(11, 42, 112, 0.1111687812379854)\",\"rgba(11, 42, 112, 0.10804498269896193)\",\"rgba(11, 42, 112, 0.10319108035371011)\",\"rgba(11, 42, 112, 0.097520184544406)\",\"rgba(11, 42, 112, 0.08142060745866975)\"],\"hovertemplate\":\"\\u003cb\\u003e%{source.label} \\u2192 %{target.label}\\u003c\\u002fb\\u003e\\u003cbr\\u003eCombinations: %{value:,.0f}\\u003cbr\\u003e\\u003cextra\\u003e\\u003c\\u002fextra\\u003e\",\"source\":[0,1,2,3,0,0,1],\"target\":[4,5,0,0,6,7,0],\"value\":[5202,2457,1793,1728,1627,1509,1174]},\"node\":{\"color\":[\"#0B2A70\",\"#0B2A70\",\"#0B2A70\",\"#0B2A70\",\"#0B2A70\",\"#0B2A70\",\"#0B2A70\",\"#0B2A70\"],\"label\":[\"Kel\\u00edmek - z\\u00e1loha 29.1K (26.3%)\",\"Absolut Vodka 5.2K (4.7%)\",\"Frisco 6.6K (6.0%)\",\"Birell 4.4K (3.9%)\",\"Radegast 20.7K (18.6%)\",\"Redbull 3.4K (3.0%)\",\"Pilsner Urquell 10.5K (9.5%)\",\"ZON Lemonade 4.1K (3.7%)\"],\"line\":{\"color\":\"black\",\"width\":0.5},\"pad\":400,\"thickness\":160,\"x\":[0,0,0,0,1,1,1,1,1]},\"type\":\"sankey\"}],                        {\"template\":{\"data\":{\"histogram2dcontour\":[{\"type\":\"histogram2dcontour\",\"colorbar\":{\"outlinewidth\":0,\"ticks\":\"\"},\"colorscale\":[[0.0,\"#0d0887\"],[0.1111111111111111,\"#46039f\"],[0.2222222222222222,\"#7201a8\"],[0.3333333333333333,\"#9c179e\"],[0.4444444444444444,\"#bd3786\"],[0.5555555555555556,\"#d8576b\"],[0.6666666666666666,\"#ed7953\"],[0.7777777777777778,\"#fb9f3a\"],[0.8888888888888888,\"#fdca26\"],[1.0,\"#f0f921\"]]}],\"choropleth\":[{\"type\":\"choropleth\",\"colorbar\":{\"outlinewidth\":0,\"ticks\":\"\"}}],\"histogram2d\":[{\"type\":\"histogram2d\",\"colorbar\":{\"outlinewidth\":0,\"ticks\":\"\"},\"colorscale\":[[0.0,\"#0d0887\"],[0.1111111111111111,\"#46039f\"],[0.2222222222222222,\"#7201a8\"],[0.3333333333333333,\"#9c179e\"],[0.4444444444444444,\"#bd3786\"],[0.5555555555555556,\"#d8576b\"],[0.6666666666666666,\"#ed7953\"],[0.7777777777777778,\"#fb9f3a\"],[0.8888888888888888,\"#fdca26\"],[1.0,\"#f0f921\"]]}],\"heatmap\":[{\"type\":\"heatmap\",\"colorbar\":{\"outlinewidth\":0,\"ticks\":\"\"},\"colorscale\":[[0.0,\"#0d0887\"],[0.1111111111111111,\"#46039f\"],[0.2222222222222222,\"#7201a8\"],[0.3333333333333333,\"#9c179e\"],[0.4444444444444444,\"#bd3786\"],[0.5555555555555556,\"#d8576b\"],[0.6666666666666666,\"#ed7953\"],[0.7777777777777778,\"#fb9f3a\"],[0.8888888888888888,\"#fdca26\"],[1.0,\"#f0f921\"]]}],\"heatmapgl\":[{\"type\":\"heatmapgl\",\"colorbar\":{\"outlinewidth\":0,\"ticks\":\"\"},\"colorscale\":[[0.0,\"#0d0887\"],[0.1111111111111111,\"#46039f\"],[0.2222222222222222,\"#7201a8\"],[0.3333333333333333,\"#9c179e\"],[0.4444444444444444,\"#bd3786\"],[0.5555555555555556,\"#d8576b\"],[0.6666666666666666,\"#ed7953\"],[0.7777777777777778,\"#fb9f3a\"],[0.8888888888888888,\"#fdca26\"],[1.0,\"#f0f921\"]]}],\"contourcarpet\":[{\"type\":\"contourcarpet\",\"colorbar\":{\"outlinewidth\":0,\"ticks\":\"\"}}],\"contour\":[{\"type\":\"contour\",\"colorbar\":{\"outlinewidth\":0,\"ticks\":\"\"},\"colorscale\":[[0.0,\"#0d0887\"],[0.1111111111111111,\"#46039f\"],[0.2222222222222222,\"#7201a8\"],[0.3333333333333333,\"#9c179e\"],[0.4444444444444444,\"#bd3786\"],[0.5555555555555556,\"#d8576b\"],[0.6666666666666666,\"#ed7953\"],[0.7777777777777778,\"#fb9f3a\"],[0.8888888888888888,\"#fdca26\"],[1.0,\"#f0f921\"]]}],\"surface\":[{\"type\":\"surface\",\"colorbar\":{\"outlinewidth\":0,\"ticks\":\"\"},\"colorscale\":[[0.0,\"#0d0887\"],[0.1111111111111111,\"#46039f\"],[0.2222222222222222,\"#7201a8\"],[0.3333333333333333,\"#9c179e\"],[0.4444444444444444,\"#bd3786\"],[0.5555555555555556,\"#d8576b\"],[0.6666666666666666,\"#ed7953\"],[0.7777777777777778,\"#fb9f3a\"],[0.8888888888888888,\"#fdca26\"],[1.0,\"#f0f921\"]]}],\"mesh3d\":[{\"type\":\"mesh3d\",\"colorbar\":{\"outlinewidth\":0,\"ticks\":\"\"}}],\"scatter\":[{\"fillpattern\":{\"fillmode\":\"overlay\",\"size\":10,\"solidity\":0.2},\"type\":\"scatter\"}],\"parcoords\":[{\"type\":\"parcoords\",\"line\":{\"colorbar\":{\"outlinewidth\":0,\"ticks\":\"\"}}}],\"scatterpolargl\":[{\"type\":\"scatterpolargl\",\"marker\":{\"colorbar\":{\"outlinewidth\":0,\"ticks\":\"\"}}}],\"bar\":[{\"error_x\":{\"color\":\"#2a3f5f\"},\"error_y\":{\"color\":\"#2a3f5f\"},\"marker\":{\"line\":{\"color\":\"#E5ECF6\",\"width\":0.5},\"pattern\":{\"fillmode\":\"overlay\",\"size\":10,\"solidity\":0.2}},\"type\":\"bar\"}],\"scattergeo\":[{\"type\":\"scattergeo\",\"marker\":{\"colorbar\":{\"outlinewidth\":0,\"ticks\":\"\"}}}],\"scatterpolar\":[{\"type\":\"scatterpolar\",\"marker\":{\"colorbar\":{\"outlinewidth\":0,\"ticks\":\"\"}}}],\"histogram\":[{\"marker\":{\"pattern\":{\"fillmode\":\"overlay\",\"size\":10,\"solidity\":0.2}},\"type\":\"histogram\"}],\"scattergl\":[{\"type\":\"scattergl\",\"marker\":{\"colorbar\":{\"outlinewidth\":0,\"ticks\":\"\"}}}],\"scatter3d\":[{\"type\":\"scatter3d\",\"line\":{\"colorbar\":{\"outlinewidth\":0,\"ticks\":\"\"}},\"marker\":{\"colorbar\":{\"outlinewidth\":0,\"ticks\":\"\"}}}],\"scattermapbox\":[{\"type\":\"scattermapbox\",\"marker\":{\"colorbar\":{\"outlinewidth\":0,\"ticks\":\"\"}}}],\"scatterternary\":[{\"type\":\"scatterternary\",\"marker\":{\"colorbar\":{\"outlinewidth\":0,\"ticks\":\"\"}}}],\"scattercarpet\":[{\"type\":\"scattercarpet\",\"marker\":{\"colorbar\":{\"outlinewidth\":0,\"ticks\":\"\"}}}],\"carpet\":[{\"aaxis\":{\"endlinecolor\":\"#2a3f5f\",\"gridcolor\":\"white\",\"linecolor\":\"white\",\"minorgridcolor\":\"white\",\"startlinecolor\":\"#2a3f5f\"},\"baxis\":{\"endlinecolor\":\"#2a3f5f\",\"gridcolor\":\"white\",\"linecolor\":\"white\",\"minorgridcolor\":\"white\",\"startlinecolor\":\"#2a3f5f\"},\"type\":\"carpet\"}],\"table\":[{\"cells\":{\"fill\":{\"color\":\"#EBF0F8\"},\"line\":{\"color\":\"white\"}},\"header\":{\"fill\":{\"color\":\"#C8D4E3\"},\"line\":{\"color\":\"white\"}},\"type\":\"table\"}],\"barpolar\":[{\"marker\":{\"line\":{\"color\":\"#E5ECF6\",\"width\":0.5},\"pattern\":{\"fillmode\":\"overlay\",\"size\":10,\"solidity\":0.2}},\"type\":\"barpolar\"}],\"pie\":[{\"automargin\":true,\"type\":\"pie\"}]},\"layout\":{\"autotypenumbers\":\"strict\",\"colorway\":[\"#636efa\",\"#EF553B\",\"#00cc96\",\"#ab63fa\",\"#FFA15A\",\"#19d3f3\",\"#FF6692\",\"#B6E880\",\"#FF97FF\",\"#FECB52\"],\"font\":{\"color\":\"#2a3f5f\"},\"hovermode\":\"closest\",\"hoverlabel\":{\"align\":\"left\"},\"paper_bgcolor\":\"white\",\"plot_bgcolor\":\"#E5ECF6\",\"polar\":{\"bgcolor\":\"#E5ECF6\",\"angularaxis\":{\"gridcolor\":\"white\",\"linecolor\":\"white\",\"ticks\":\"\"},\"radialaxis\":{\"gridcolor\":\"white\",\"linecolor\":\"white\",\"ticks\":\"\"}},\"ternary\":{\"bgcolor\":\"#E5ECF6\",\"aaxis\":{\"gridcolor\":\"white\",\"linecolor\":\"white\",\"ticks\":\"\"},\"baxis\":{\"gridcolor\":\"white\",\"linecolor\":\"white\",\"ticks\":\"\"},\"caxis\":{\"gridcolor\":\"white\",\"linecolor\":\"white\",\"ticks\":\"\"}},\"coloraxis\":{\"colorbar\":{\"outlinewidth\":0,\"ticks\":\"\"}},\"colorscale\":{\"sequential\":[[0.0,\"#0d0887\"],[0.1111111111111111,\"#46039f\"],[0.2222222222222222,\"#7201a8\"],[0.3333333333333333,\"#9c179e\"],[0.4444444444444444,\"#bd3786\"],[0.5555555555555556,\"#d8576b\"],[0.6666666666666666,\"#ed7953\"],[0.7777777777777778,\"#fb9f3a\"],[0.8888888888888888,\"#fdca26\"],[1.0,\"#f0f921\"]],\"sequentialminus\":[[0.0,\"#0d0887\"],[0.1111111111111111,\"#46039f\"],[0.2222222222222222,\"#7201a8\"],[0.3333333333333333,\"#9c179e\"],[0.4444444444444444,\"#bd3786\"],[0.5555555555555556,\"#d8576b\"],[0.6666666666666666,\"#ed7953\"],[0.7777777777777778,\"#fb9f3a\"],[0.8888888888888888,\"#fdca26\"],[1.0,\"#f0f921\"]],\"diverging\":[[0,\"#8e0152\"],[0.1,\"#c51b7d\"],[0.2,\"#de77ae\"],[0.3,\"#f1b6da\"],[0.4,\"#fde0ef\"],[0.5,\"#f7f7f7\"],[0.6,\"#e6f5d0\"],[0.7,\"#b8e186\"],[0.8,\"#7fbc41\"],[0.9,\"#4d9221\"],[1,\"#276419\"]]},\"xaxis\":{\"gridcolor\":\"white\",\"linecolor\":\"white\",\"ticks\":\"\",\"title\":{\"standoff\":15},\"zerolinecolor\":\"white\",\"automargin\":true,\"zerolinewidth\":2},\"yaxis\":{\"gridcolor\":\"white\",\"linecolor\":\"white\",\"ticks\":\"\",\"title\":{\"standoff\":15},\"zerolinecolor\":\"white\",\"automargin\":true,\"zerolinewidth\":2},\"scene\":{\"xaxis\":{\"backgroundcolor\":\"#E5ECF6\",\"gridcolor\":\"white\",\"linecolor\":\"white\",\"showbackground\":true,\"ticks\":\"\",\"zerolinecolor\":\"white\",\"gridwidth\":2},\"yaxis\":{\"backgroundcolor\":\"#E5ECF6\",\"gridcolor\":\"white\",\"linecolor\":\"white\",\"showbackground\":true,\"ticks\":\"\",\"zerolinecolor\":\"white\",\"gridwidth\":2},\"zaxis\":{\"backgroundcolor\":\"#E5ECF6\",\"gridcolor\":\"white\",\"linecolor\":\"white\",\"showbackground\":true,\"ticks\":\"\",\"zerolinecolor\":\"white\",\"gridwidth\":2}},\"shapedefaults\":{\"line\":{\"color\":\"#2a3f5f\"}},\"annotationdefaults\":{\"arrowcolor\":\"#2a3f5f\",\"arrowhead\":0,\"arrowwidth\":1},\"geo\":{\"bgcolor\":\"white\",\"landcolor\":\"#E5ECF6\",\"subunitcolor\":\"white\",\"showland\":true,\"showlakes\":true,\"lakecolor\":\"white\"},\"title\":{\"x\":0.05},\"mapbox\":{\"style\":\"light\"}}},\"font\":{\"size\":192,\"family\":\"serif\",\"weight\":\"bold\",\"color\":\"#474647\"},\"margin\":{\"t\":80,\"l\":80,\"r\":80,\"b\":80},\"paper_bgcolor\":\"white\",\"plot_bgcolor\":\"white\",\"width\":7200,\"height\":4000},                        {\"responsive\": true}                    ).then(function(){\n",
       "                            \n",
       "var gd = document.getElementById('4a24fb47-ce13-422d-881a-cfb56dfca9a4');\n",
       "var x = new MutationObserver(function (mutations, observer) {{\n",
       "        var display = window.getComputedStyle(gd).display;\n",
       "        if (!display || display === 'none') {{\n",
       "            console.log([gd, 'removed!']);\n",
       "            Plotly.purge(gd);\n",
       "            observer.disconnect();\n",
       "        }}\n",
       "}});\n",
       "\n",
       "// Listen for the removal of the full notebook cells\n",
       "var notebookContainer = gd.closest('#notebook-container');\n",
       "if (notebookContainer) {{\n",
       "    x.observe(notebookContainer, {childList: true});\n",
       "}}\n",
       "\n",
       "// Listen for the clearing of the current output cell\n",
       "var outputEl = gd.closest('.output');\n",
       "if (outputEl) {{\n",
       "    x.observe(outputEl, {childList: true});\n",
       "}}\n",
       "\n",
       "                        })                };                });            </script>        </div>"
      ]
     },
     "metadata": {},
     "output_type": "display_data"
    }
   ],
   "execution_count": 162
  },
  {
   "metadata": {
    "ExecuteTime": {
     "end_time": "2025-01-02T18:07:57.677710Z",
     "start_time": "2025-01-02T18:07:56.234869Z"
    }
   },
   "cell_type": "code",
   "source": [
    "sankey_data = load_data(\"rq1-4-cashflows.csv\")\n",
    "\n",
    "diagram = SankeyDiagram()\n",
    "\n",
    "# top-ups\n",
    "diagram.add_node('top_up_online', 'Online Top-up', x=0, y=0., color='stone')\n",
    "diagram.add_node('top_up_card', 'Card Top-up', x=0, y=0.2, color='stone')\n",
    "diagram.add_node('top_up_cash', 'Cash Top-up', x=0, y=0.4, color='stone')\n",
    "diagram.add_node('top_up_vip', 'VIP Top-up', x=0, y=0.6, color='stone')\n",
    "\n",
    "# chip balances\n",
    "diagram.add_node('chip_balances', 'Chip balances', x=0.16, y=0.33, color='stone')\n",
    "diagram.add_flow('top_up_online', 'chip_balances', sankey_data['top_up_online'] / 100, color=None)\n",
    "diagram.add_flow('top_up_card', 'chip_balances', sankey_data['top_up_card'] / 100, color=None)\n",
    "diagram.add_flow('top_up_cash', 'chip_balances', sankey_data['top_up_cash'] / 100, color=None)\n",
    "diagram.add_flow('top_up_vip', 'chip_balances', sankey_data['top_up_vip'] / 100, color=None)\n",
    "\n",
    "# non-chip sales\n",
    "diagram.add_node('non_chip_card', 'Card Payments', x=0.2, y=0.85, color='stone')\n",
    "diagram.add_node('non_chip_cash', 'Cash Payments', x=0.2, y=0.9, color='stone')\n",
    "\n",
    "# event finances\n",
    "diagram.add_node('event_finances', 'Event Finances', x=0.33, y=0.33, color='stone')\n",
    "diagram.add_flow('chip_balances', 'event_finances', sankey_data['top_up_total'] / 100, color=None)\n",
    "diagram.add_flow('non_chip_card', 'event_finances', sankey_data['non_chip_card'] / 100, color=None)\n",
    "diagram.add_flow('non_chip_cash', 'event_finances', sankey_data['non_chip_cash'] / 100, color=None)\n",
    "\n",
    "# vendor sales\n",
    "diagram.add_node('vendor_sales', 'Vendor Sales', x=0.5, y=0.25, color='stone')\n",
    "diagram.add_flow('event_finances', 'vendor_sales', sankey_data['vendor_sales'] / 100, color=None)\n",
    "\n",
    "# external vendor sales\n",
    "diagram.add_node('vendor_external_sales', 'External Vendor Vales', x=0.65, y=0.5, color='stone')\n",
    "diagram.add_flow('vendor_sales', 'vendor_external_sales', sankey_data['vendor_external_sales'] / 100, color=None)\n",
    "# external vendor payouts\n",
    "diagram.add_node('vendor_external_payout', 'Vendor Payout', x=0.9, y=0.7, color='stone')\n",
    "diagram.add_flow('vendor_external_sales', 'vendor_external_payout', sankey_data['vendor_external_payout'] / 100, color=None)\n",
    "\n",
    "# organizer vendor sales + expenses\n",
    "# diagram.add_node('online_ticket_sales', 'Online Ticket Sales', x=0.8, y=0, color='aqua')\n",
    "# diagram.add_flow('online_ticket_sales', 'indirect_revenue', 11179700, color='aqua')\n",
    "\n",
    "diagram.add_node('vendor_organizer_sales', 'Organizer Direct Sales', x=0.65, y=0.1, color='thesis_blue')\n",
    "diagram.add_flow('vendor_sales', 'vendor_organizer_sales', sankey_data['vendor_organizer_sales'] / 100, color=None)\n",
    "\n",
    "diagram.add_node('indirect_revenue', 'Indirect Revenue<br>(excl. online ticket sales)', x=1.15, y=0.1, color='thesis_blue')\n",
    "diagram.add_flow('vendor_organizer_sales', 'indirect_revenue', sankey_data['vendor_organizer_expenses'] / 100, color='thesis_blue')\n",
    "\n",
    "# unused credit\n",
    "diagram.add_node('balance_unused', 'Unused Credit', x=0.5, y=0.933, color='stone')\n",
    "diagram.add_flow('event_finances', 'balance_unused', sankey_data['balance_unused'] / 100, color=None)\n",
    "\n",
    "# unclaimed credit\n",
    "diagram.add_node('balance_unused_unclaimed', 'Unclaimed Credit', x=0.9, y=0.8, color='thesis_blue')\n",
    "diagram.add_flow('balance_unused', 'balance_unused_unclaimed', sankey_data['balance_unused_unclaimed'] / 100, color='thesis_blue')\n",
    "\n",
    "# refunded credit\n",
    "diagram.add_node('balance_unused_refunded', 'Refunded Credit', x=0.9, y=0.9, color='stone')\n",
    "diagram.add_flow('balance_unused', 'balance_unused_refunded', sankey_data['balance_unused_refunded'] / 100, color=None)\n",
    "\n",
    "# organizer revenue\n",
    "diagram.add_node('organizer_revenue', 'Direct Revenue', x=1.15, y=0.45, color='thesis_blue')\n",
    "diagram.add_flow('vendor_external_sales', 'organizer_revenue', sankey_data['vendor_external_commission'] / 100, color='thesis_blue')\n",
    "diagram.add_flow('vendor_organizer_sales', 'organizer_revenue', (sankey_data['vendor_organizer_sales'] - sankey_data['vendor_organizer_expenses']) / 100, color=None)\n",
    "diagram.add_flow('balance_unused_unclaimed', 'organizer_revenue', sankey_data['balance_unused_unclaimed_organizer'] / 100, color=None)\n",
    "\n",
    "# Create the figure\n",
    "plotly_dict = diagram.to_plotly()\n",
    "node_dict = plotly_dict['node']\n",
    "node_dict.update(\n",
    "\t{\n",
    "\t\t'pad': 15,\n",
    "\t\t'thickness': 15,\n",
    "\t\t'line': { 'color': \"gray\", 'width': 0.5 },\n",
    "\t}\n",
    ")\n",
    "fig = go.Figure(\n",
    "\tdata=[go.Sankey(\n",
    "\t\tarrangement='snap',\n",
    "\t\tnode=node_dict,\n",
    "\t\tlink=plotly_dict['link']\n",
    "\t)]\n",
    ")\n",
    "\n",
    "# Update layout\n",
    "fig.update_layout(\n",
    "\tfont=dict(\n",
    "\t\tsize=16.5 * scale,\n",
    "\t\tfamily=\"serif\",\n",
    "\t\tweight=\"bold\",\n",
    "\t\tcolor=get_chart_color('text'),\n",
    "\t),\n",
    "\tpaper_bgcolor='white',\n",
    "\tplot_bgcolor='white',\n",
    "\twidth=900,\n",
    "\theight=400,\n",
    "\tmargin=dict(t=15, l=15, r=135, b=25),\n",
    ")\n",
    "\n",
    "fig.show()\n",
    "fig.write_image(get_charts_dir(\"total-revenue-cashflows.png\"), scale=4)"
   ],
   "id": "c5c63a7647552780",
   "outputs": [
    {
     "data": {
      "application/vnd.plotly.v1+json": {
       "data": [
        {
         "arrangement": "snap",
         "link": {
          "color": [
           "rgba(186, 176, 172, 00.35)",
           "rgba(186, 176, 172, 00.35)",
           "rgba(186, 176, 172, 00.35)",
           "rgba(186, 176, 172, 00.35)",
           "rgba(186, 176, 172, 00.35)",
           "rgba(186, 176, 172, 00.35)",
           "rgba(186, 176, 172, 00.35)",
           "rgba(186, 176, 172, 00.35)",
           "rgba(186, 176, 172, 00.35)",
           "rgba(186, 176, 172, 00.35)",
           "rgba(186, 176, 172, 00.35)",
           "rgba(11, 42, 112, 0.35)",
           "rgba(186, 176, 172, 00.35)",
           "rgba(11, 42, 112, 0.35)",
           "rgba(186, 176, 172, 00.35)",
           "rgba(11, 42, 112, 0.35)",
           "rgba(11, 42, 112, 00.35)",
           "rgba(11, 42, 112, 00.35)"
          ],
          "source": [
           0,
           1,
           2,
           3,
           4,
           5,
           6,
           7,
           8,
           9,
           8,
           11,
           7,
           13,
           13,
           9,
           11,
           14
          ],
          "target": [
           4,
           4,
           4,
           4,
           7,
           7,
           7,
           8,
           9,
           10,
           11,
           12,
           13,
           14,
           15,
           16,
           16,
           16
          ],
          "value": [
           [
            1436400.0
           ],
           [
            7264503.0
           ],
           [
            5782570.0
           ],
           [
            37500.0
           ],
           [
            1.4520973E7
           ],
           [
            398562.0
           ],
           [
            328300.0
           ],
           [
            1.1711807E7
           ],
           [
            3471543.0
           ],
           [
            2650830.21
           ],
           [
            8240264.0
           ],
           [
            8240264.0
           ],
           [
            3497454.0
           ],
           [
            333886.67
           ],
           [
            3163567.33
           ],
           [
            820712.79
           ],
           [
            0.0
           ],
           [
            333886.67
           ]
          ]
         },
         "node": {
          "color": [
           "rgba(186, 176, 172, 0.85)",
           "rgba(186, 176, 172, 0.85)",
           "rgba(186, 176, 172, 0.85)",
           "rgba(186, 176, 172, 0.85)",
           "rgba(186, 176, 172, 0.85)",
           "rgba(186, 176, 172, 0.85)",
           "rgba(186, 176, 172, 0.85)",
           "rgba(186, 176, 172, 0.85)",
           "rgba(186, 176, 172, 0.85)",
           "rgba(186, 176, 172, 0.85)",
           "rgba(186, 176, 172, 0.85)",
           "rgba(11, 42, 112, 0.85)",
           "rgba(11, 42, 112, 0.85)",
           "rgba(186, 176, 172, 0.85)",
           "rgba(11, 42, 112, 0.85)",
           "rgba(186, 176, 172, 0.85)",
           "rgba(11, 42, 112, 0.85)"
          ],
          "label": [
           "Online Top-up",
           "Card Top-up",
           "Cash Top-up",
           "VIP Top-up",
           "Chip balances",
           "Card Payments",
           "Cash Payments",
           "Event Finances",
           "Vendor Sales",
           "External Vendor Vales",
           "Vendor Payout",
           "Organizer Direct Sales",
           "Indirect Revenue<br>(excl. online ticket sales)",
           "Unused Credit",
           "Unclaimed Credit",
           "Refunded Credit",
           "Direct Revenue"
          ],
          "line": {
           "color": "gray",
           "width": 0.5
          },
          "pad": 15,
          "thickness": 15,
          "x": [
           0,
           0,
           0,
           0,
           0.16,
           0.2,
           0.2,
           0.33,
           0.5,
           0.65,
           0.9,
           0.65,
           1.15,
           0.5,
           0.9,
           0.9,
           1.15
          ],
          "y": [
           0.0,
           0.2,
           0.4,
           0.6,
           0.33,
           0.85,
           0.9,
           0.33,
           0.25,
           0.5,
           0.7,
           0.1,
           0.1,
           0.933,
           0.8,
           0.9,
           0.45
          ]
         },
         "type": "sankey"
        }
       ],
       "layout": {
        "template": {
         "data": {
          "histogram2dcontour": [
           {
            "type": "histogram2dcontour",
            "colorbar": {
             "outlinewidth": 0,
             "ticks": ""
            },
            "colorscale": [
             [
              0.0,
              "#0d0887"
             ],
             [
              0.1111111111111111,
              "#46039f"
             ],
             [
              0.2222222222222222,
              "#7201a8"
             ],
             [
              0.3333333333333333,
              "#9c179e"
             ],
             [
              0.4444444444444444,
              "#bd3786"
             ],
             [
              0.5555555555555556,
              "#d8576b"
             ],
             [
              0.6666666666666666,
              "#ed7953"
             ],
             [
              0.7777777777777778,
              "#fb9f3a"
             ],
             [
              0.8888888888888888,
              "#fdca26"
             ],
             [
              1.0,
              "#f0f921"
             ]
            ]
           }
          ],
          "choropleth": [
           {
            "type": "choropleth",
            "colorbar": {
             "outlinewidth": 0,
             "ticks": ""
            }
           }
          ],
          "histogram2d": [
           {
            "type": "histogram2d",
            "colorbar": {
             "outlinewidth": 0,
             "ticks": ""
            },
            "colorscale": [
             [
              0.0,
              "#0d0887"
             ],
             [
              0.1111111111111111,
              "#46039f"
             ],
             [
              0.2222222222222222,
              "#7201a8"
             ],
             [
              0.3333333333333333,
              "#9c179e"
             ],
             [
              0.4444444444444444,
              "#bd3786"
             ],
             [
              0.5555555555555556,
              "#d8576b"
             ],
             [
              0.6666666666666666,
              "#ed7953"
             ],
             [
              0.7777777777777778,
              "#fb9f3a"
             ],
             [
              0.8888888888888888,
              "#fdca26"
             ],
             [
              1.0,
              "#f0f921"
             ]
            ]
           }
          ],
          "heatmap": [
           {
            "type": "heatmap",
            "colorbar": {
             "outlinewidth": 0,
             "ticks": ""
            },
            "colorscale": [
             [
              0.0,
              "#0d0887"
             ],
             [
              0.1111111111111111,
              "#46039f"
             ],
             [
              0.2222222222222222,
              "#7201a8"
             ],
             [
              0.3333333333333333,
              "#9c179e"
             ],
             [
              0.4444444444444444,
              "#bd3786"
             ],
             [
              0.5555555555555556,
              "#d8576b"
             ],
             [
              0.6666666666666666,
              "#ed7953"
             ],
             [
              0.7777777777777778,
              "#fb9f3a"
             ],
             [
              0.8888888888888888,
              "#fdca26"
             ],
             [
              1.0,
              "#f0f921"
             ]
            ]
           }
          ],
          "heatmapgl": [
           {
            "type": "heatmapgl",
            "colorbar": {
             "outlinewidth": 0,
             "ticks": ""
            },
            "colorscale": [
             [
              0.0,
              "#0d0887"
             ],
             [
              0.1111111111111111,
              "#46039f"
             ],
             [
              0.2222222222222222,
              "#7201a8"
             ],
             [
              0.3333333333333333,
              "#9c179e"
             ],
             [
              0.4444444444444444,
              "#bd3786"
             ],
             [
              0.5555555555555556,
              "#d8576b"
             ],
             [
              0.6666666666666666,
              "#ed7953"
             ],
             [
              0.7777777777777778,
              "#fb9f3a"
             ],
             [
              0.8888888888888888,
              "#fdca26"
             ],
             [
              1.0,
              "#f0f921"
             ]
            ]
           }
          ],
          "contourcarpet": [
           {
            "type": "contourcarpet",
            "colorbar": {
             "outlinewidth": 0,
             "ticks": ""
            }
           }
          ],
          "contour": [
           {
            "type": "contour",
            "colorbar": {
             "outlinewidth": 0,
             "ticks": ""
            },
            "colorscale": [
             [
              0.0,
              "#0d0887"
             ],
             [
              0.1111111111111111,
              "#46039f"
             ],
             [
              0.2222222222222222,
              "#7201a8"
             ],
             [
              0.3333333333333333,
              "#9c179e"
             ],
             [
              0.4444444444444444,
              "#bd3786"
             ],
             [
              0.5555555555555556,
              "#d8576b"
             ],
             [
              0.6666666666666666,
              "#ed7953"
             ],
             [
              0.7777777777777778,
              "#fb9f3a"
             ],
             [
              0.8888888888888888,
              "#fdca26"
             ],
             [
              1.0,
              "#f0f921"
             ]
            ]
           }
          ],
          "surface": [
           {
            "type": "surface",
            "colorbar": {
             "outlinewidth": 0,
             "ticks": ""
            },
            "colorscale": [
             [
              0.0,
              "#0d0887"
             ],
             [
              0.1111111111111111,
              "#46039f"
             ],
             [
              0.2222222222222222,
              "#7201a8"
             ],
             [
              0.3333333333333333,
              "#9c179e"
             ],
             [
              0.4444444444444444,
              "#bd3786"
             ],
             [
              0.5555555555555556,
              "#d8576b"
             ],
             [
              0.6666666666666666,
              "#ed7953"
             ],
             [
              0.7777777777777778,
              "#fb9f3a"
             ],
             [
              0.8888888888888888,
              "#fdca26"
             ],
             [
              1.0,
              "#f0f921"
             ]
            ]
           }
          ],
          "mesh3d": [
           {
            "type": "mesh3d",
            "colorbar": {
             "outlinewidth": 0,
             "ticks": ""
            }
           }
          ],
          "scatter": [
           {
            "fillpattern": {
             "fillmode": "overlay",
             "size": 10,
             "solidity": 0.2
            },
            "type": "scatter"
           }
          ],
          "parcoords": [
           {
            "type": "parcoords",
            "line": {
             "colorbar": {
              "outlinewidth": 0,
              "ticks": ""
             }
            }
           }
          ],
          "scatterpolargl": [
           {
            "type": "scatterpolargl",
            "marker": {
             "colorbar": {
              "outlinewidth": 0,
              "ticks": ""
             }
            }
           }
          ],
          "bar": [
           {
            "error_x": {
             "color": "#2a3f5f"
            },
            "error_y": {
             "color": "#2a3f5f"
            },
            "marker": {
             "line": {
              "color": "#E5ECF6",
              "width": 0.5
             },
             "pattern": {
              "fillmode": "overlay",
              "size": 10,
              "solidity": 0.2
             }
            },
            "type": "bar"
           }
          ],
          "scattergeo": [
           {
            "type": "scattergeo",
            "marker": {
             "colorbar": {
              "outlinewidth": 0,
              "ticks": ""
             }
            }
           }
          ],
          "scatterpolar": [
           {
            "type": "scatterpolar",
            "marker": {
             "colorbar": {
              "outlinewidth": 0,
              "ticks": ""
             }
            }
           }
          ],
          "histogram": [
           {
            "marker": {
             "pattern": {
              "fillmode": "overlay",
              "size": 10,
              "solidity": 0.2
             }
            },
            "type": "histogram"
           }
          ],
          "scattergl": [
           {
            "type": "scattergl",
            "marker": {
             "colorbar": {
              "outlinewidth": 0,
              "ticks": ""
             }
            }
           }
          ],
          "scatter3d": [
           {
            "type": "scatter3d",
            "line": {
             "colorbar": {
              "outlinewidth": 0,
              "ticks": ""
             }
            },
            "marker": {
             "colorbar": {
              "outlinewidth": 0,
              "ticks": ""
             }
            }
           }
          ],
          "scattermapbox": [
           {
            "type": "scattermapbox",
            "marker": {
             "colorbar": {
              "outlinewidth": 0,
              "ticks": ""
             }
            }
           }
          ],
          "scatterternary": [
           {
            "type": "scatterternary",
            "marker": {
             "colorbar": {
              "outlinewidth": 0,
              "ticks": ""
             }
            }
           }
          ],
          "scattercarpet": [
           {
            "type": "scattercarpet",
            "marker": {
             "colorbar": {
              "outlinewidth": 0,
              "ticks": ""
             }
            }
           }
          ],
          "carpet": [
           {
            "aaxis": {
             "endlinecolor": "#2a3f5f",
             "gridcolor": "white",
             "linecolor": "white",
             "minorgridcolor": "white",
             "startlinecolor": "#2a3f5f"
            },
            "baxis": {
             "endlinecolor": "#2a3f5f",
             "gridcolor": "white",
             "linecolor": "white",
             "minorgridcolor": "white",
             "startlinecolor": "#2a3f5f"
            },
            "type": "carpet"
           }
          ],
          "table": [
           {
            "cells": {
             "fill": {
              "color": "#EBF0F8"
             },
             "line": {
              "color": "white"
             }
            },
            "header": {
             "fill": {
              "color": "#C8D4E3"
             },
             "line": {
              "color": "white"
             }
            },
            "type": "table"
           }
          ],
          "barpolar": [
           {
            "marker": {
             "line": {
              "color": "#E5ECF6",
              "width": 0.5
             },
             "pattern": {
              "fillmode": "overlay",
              "size": 10,
              "solidity": 0.2
             }
            },
            "type": "barpolar"
           }
          ],
          "pie": [
           {
            "automargin": true,
            "type": "pie"
           }
          ]
         },
         "layout": {
          "autotypenumbers": "strict",
          "colorway": [
           "#636efa",
           "#EF553B",
           "#00cc96",
           "#ab63fa",
           "#FFA15A",
           "#19d3f3",
           "#FF6692",
           "#B6E880",
           "#FF97FF",
           "#FECB52"
          ],
          "font": {
           "color": "#2a3f5f"
          },
          "hovermode": "closest",
          "hoverlabel": {
           "align": "left"
          },
          "paper_bgcolor": "white",
          "plot_bgcolor": "#E5ECF6",
          "polar": {
           "bgcolor": "#E5ECF6",
           "angularaxis": {
            "gridcolor": "white",
            "linecolor": "white",
            "ticks": ""
           },
           "radialaxis": {
            "gridcolor": "white",
            "linecolor": "white",
            "ticks": ""
           }
          },
          "ternary": {
           "bgcolor": "#E5ECF6",
           "aaxis": {
            "gridcolor": "white",
            "linecolor": "white",
            "ticks": ""
           },
           "baxis": {
            "gridcolor": "white",
            "linecolor": "white",
            "ticks": ""
           },
           "caxis": {
            "gridcolor": "white",
            "linecolor": "white",
            "ticks": ""
           }
          },
          "coloraxis": {
           "colorbar": {
            "outlinewidth": 0,
            "ticks": ""
           }
          },
          "colorscale": {
           "sequential": [
            [
             0.0,
             "#0d0887"
            ],
            [
             0.1111111111111111,
             "#46039f"
            ],
            [
             0.2222222222222222,
             "#7201a8"
            ],
            [
             0.3333333333333333,
             "#9c179e"
            ],
            [
             0.4444444444444444,
             "#bd3786"
            ],
            [
             0.5555555555555556,
             "#d8576b"
            ],
            [
             0.6666666666666666,
             "#ed7953"
            ],
            [
             0.7777777777777778,
             "#fb9f3a"
            ],
            [
             0.8888888888888888,
             "#fdca26"
            ],
            [
             1.0,
             "#f0f921"
            ]
           ],
           "sequentialminus": [
            [
             0.0,
             "#0d0887"
            ],
            [
             0.1111111111111111,
             "#46039f"
            ],
            [
             0.2222222222222222,
             "#7201a8"
            ],
            [
             0.3333333333333333,
             "#9c179e"
            ],
            [
             0.4444444444444444,
             "#bd3786"
            ],
            [
             0.5555555555555556,
             "#d8576b"
            ],
            [
             0.6666666666666666,
             "#ed7953"
            ],
            [
             0.7777777777777778,
             "#fb9f3a"
            ],
            [
             0.8888888888888888,
             "#fdca26"
            ],
            [
             1.0,
             "#f0f921"
            ]
           ],
           "diverging": [
            [
             0,
             "#8e0152"
            ],
            [
             0.1,
             "#c51b7d"
            ],
            [
             0.2,
             "#de77ae"
            ],
            [
             0.3,
             "#f1b6da"
            ],
            [
             0.4,
             "#fde0ef"
            ],
            [
             0.5,
             "#f7f7f7"
            ],
            [
             0.6,
             "#e6f5d0"
            ],
            [
             0.7,
             "#b8e186"
            ],
            [
             0.8,
             "#7fbc41"
            ],
            [
             0.9,
             "#4d9221"
            ],
            [
             1,
             "#276419"
            ]
           ]
          },
          "xaxis": {
           "gridcolor": "white",
           "linecolor": "white",
           "ticks": "",
           "title": {
            "standoff": 15
           },
           "zerolinecolor": "white",
           "automargin": true,
           "zerolinewidth": 2
          },
          "yaxis": {
           "gridcolor": "white",
           "linecolor": "white",
           "ticks": "",
           "title": {
            "standoff": 15
           },
           "zerolinecolor": "white",
           "automargin": true,
           "zerolinewidth": 2
          },
          "scene": {
           "xaxis": {
            "backgroundcolor": "#E5ECF6",
            "gridcolor": "white",
            "linecolor": "white",
            "showbackground": true,
            "ticks": "",
            "zerolinecolor": "white",
            "gridwidth": 2
           },
           "yaxis": {
            "backgroundcolor": "#E5ECF6",
            "gridcolor": "white",
            "linecolor": "white",
            "showbackground": true,
            "ticks": "",
            "zerolinecolor": "white",
            "gridwidth": 2
           },
           "zaxis": {
            "backgroundcolor": "#E5ECF6",
            "gridcolor": "white",
            "linecolor": "white",
            "showbackground": true,
            "ticks": "",
            "zerolinecolor": "white",
            "gridwidth": 2
           }
          },
          "shapedefaults": {
           "line": {
            "color": "#2a3f5f"
           }
          },
          "annotationdefaults": {
           "arrowcolor": "#2a3f5f",
           "arrowhead": 0,
           "arrowwidth": 1
          },
          "geo": {
           "bgcolor": "white",
           "landcolor": "#E5ECF6",
           "subunitcolor": "white",
           "showland": true,
           "showlakes": true,
           "lakecolor": "white"
          },
          "title": {
           "x": 0.05
          },
          "mapbox": {
           "style": "light"
          }
         }
        },
        "font": {
         "size": 16.5,
         "family": "serif",
         "weight": "bold",
         "color": "#474647"
        },
        "margin": {
         "t": 15,
         "l": 15,
         "r": 135,
         "b": 25
        },
        "paper_bgcolor": "white",
        "plot_bgcolor": "white",
        "width": 900,
        "height": 400
       },
       "config": {
        "plotlyServerURL": "https://plot.ly"
       }
      },
      "text/html": [
       "<div>                            <div id=\"1eeaf3a9-73be-4392-9e75-0353f5d39ecc\" class=\"plotly-graph-div\" style=\"height:400px; width:900px;\"></div>            <script type=\"text/javascript\">                require([\"plotly\"], function(Plotly) {                    window.PLOTLYENV=window.PLOTLYENV || {};                                    if (document.getElementById(\"1eeaf3a9-73be-4392-9e75-0353f5d39ecc\")) {                    Plotly.newPlot(                        \"1eeaf3a9-73be-4392-9e75-0353f5d39ecc\",                        [{\"arrangement\":\"snap\",\"link\":{\"color\":[\"rgba(186, 176, 172, 00.35)\",\"rgba(186, 176, 172, 00.35)\",\"rgba(186, 176, 172, 00.35)\",\"rgba(186, 176, 172, 00.35)\",\"rgba(186, 176, 172, 00.35)\",\"rgba(186, 176, 172, 00.35)\",\"rgba(186, 176, 172, 00.35)\",\"rgba(186, 176, 172, 00.35)\",\"rgba(186, 176, 172, 00.35)\",\"rgba(186, 176, 172, 00.35)\",\"rgba(186, 176, 172, 00.35)\",\"rgba(11, 42, 112, 0.35)\",\"rgba(186, 176, 172, 00.35)\",\"rgba(11, 42, 112, 0.35)\",\"rgba(186, 176, 172, 00.35)\",\"rgba(11, 42, 112, 0.35)\",\"rgba(11, 42, 112, 00.35)\",\"rgba(11, 42, 112, 00.35)\"],\"source\":[0,1,2,3,4,5,6,7,8,9,8,11,7,13,13,9,11,14],\"target\":[4,4,4,4,7,7,7,8,9,10,11,12,13,14,15,16,16,16],\"value\":[[1436400.0],[7264503.0],[5782570.0],[37500.0],[14520973.0],[398562.0],[328300.0],[11711807.0],[3471543.0],[2650830.21],[8240264.0],[8240264.0],[3497454.0],[333886.67],[3163567.33],[820712.79],[0.0],[333886.67]]},\"node\":{\"color\":[\"rgba(186, 176, 172, 0.85)\",\"rgba(186, 176, 172, 0.85)\",\"rgba(186, 176, 172, 0.85)\",\"rgba(186, 176, 172, 0.85)\",\"rgba(186, 176, 172, 0.85)\",\"rgba(186, 176, 172, 0.85)\",\"rgba(186, 176, 172, 0.85)\",\"rgba(186, 176, 172, 0.85)\",\"rgba(186, 176, 172, 0.85)\",\"rgba(186, 176, 172, 0.85)\",\"rgba(186, 176, 172, 0.85)\",\"rgba(11, 42, 112, 0.85)\",\"rgba(11, 42, 112, 0.85)\",\"rgba(186, 176, 172, 0.85)\",\"rgba(11, 42, 112, 0.85)\",\"rgba(186, 176, 172, 0.85)\",\"rgba(11, 42, 112, 0.85)\"],\"label\":[\"Online Top-up\",\"Card Top-up\",\"Cash Top-up\",\"VIP Top-up\",\"Chip balances\",\"Card Payments\",\"Cash Payments\",\"Event Finances\",\"Vendor Sales\",\"External Vendor Vales\",\"Vendor Payout\",\"Organizer Direct Sales\",\"Indirect Revenue\\u003cbr\\u003e(excl. online ticket sales)\",\"Unused Credit\",\"Unclaimed Credit\",\"Refunded Credit\",\"Direct Revenue\"],\"line\":{\"color\":\"gray\",\"width\":0.5},\"pad\":15,\"thickness\":15,\"x\":[0,0,0,0,0.16,0.2,0.2,0.33,0.5,0.65,0.9,0.65,1.15,0.5,0.9,0.9,1.15],\"y\":[0.0,0.2,0.4,0.6,0.33,0.85,0.9,0.33,0.25,0.5,0.7,0.1,0.1,0.933,0.8,0.9,0.45]},\"type\":\"sankey\"}],                        {\"template\":{\"data\":{\"histogram2dcontour\":[{\"type\":\"histogram2dcontour\",\"colorbar\":{\"outlinewidth\":0,\"ticks\":\"\"},\"colorscale\":[[0.0,\"#0d0887\"],[0.1111111111111111,\"#46039f\"],[0.2222222222222222,\"#7201a8\"],[0.3333333333333333,\"#9c179e\"],[0.4444444444444444,\"#bd3786\"],[0.5555555555555556,\"#d8576b\"],[0.6666666666666666,\"#ed7953\"],[0.7777777777777778,\"#fb9f3a\"],[0.8888888888888888,\"#fdca26\"],[1.0,\"#f0f921\"]]}],\"choropleth\":[{\"type\":\"choropleth\",\"colorbar\":{\"outlinewidth\":0,\"ticks\":\"\"}}],\"histogram2d\":[{\"type\":\"histogram2d\",\"colorbar\":{\"outlinewidth\":0,\"ticks\":\"\"},\"colorscale\":[[0.0,\"#0d0887\"],[0.1111111111111111,\"#46039f\"],[0.2222222222222222,\"#7201a8\"],[0.3333333333333333,\"#9c179e\"],[0.4444444444444444,\"#bd3786\"],[0.5555555555555556,\"#d8576b\"],[0.6666666666666666,\"#ed7953\"],[0.7777777777777778,\"#fb9f3a\"],[0.8888888888888888,\"#fdca26\"],[1.0,\"#f0f921\"]]}],\"heatmap\":[{\"type\":\"heatmap\",\"colorbar\":{\"outlinewidth\":0,\"ticks\":\"\"},\"colorscale\":[[0.0,\"#0d0887\"],[0.1111111111111111,\"#46039f\"],[0.2222222222222222,\"#7201a8\"],[0.3333333333333333,\"#9c179e\"],[0.4444444444444444,\"#bd3786\"],[0.5555555555555556,\"#d8576b\"],[0.6666666666666666,\"#ed7953\"],[0.7777777777777778,\"#fb9f3a\"],[0.8888888888888888,\"#fdca26\"],[1.0,\"#f0f921\"]]}],\"heatmapgl\":[{\"type\":\"heatmapgl\",\"colorbar\":{\"outlinewidth\":0,\"ticks\":\"\"},\"colorscale\":[[0.0,\"#0d0887\"],[0.1111111111111111,\"#46039f\"],[0.2222222222222222,\"#7201a8\"],[0.3333333333333333,\"#9c179e\"],[0.4444444444444444,\"#bd3786\"],[0.5555555555555556,\"#d8576b\"],[0.6666666666666666,\"#ed7953\"],[0.7777777777777778,\"#fb9f3a\"],[0.8888888888888888,\"#fdca26\"],[1.0,\"#f0f921\"]]}],\"contourcarpet\":[{\"type\":\"contourcarpet\",\"colorbar\":{\"outlinewidth\":0,\"ticks\":\"\"}}],\"contour\":[{\"type\":\"contour\",\"colorbar\":{\"outlinewidth\":0,\"ticks\":\"\"},\"colorscale\":[[0.0,\"#0d0887\"],[0.1111111111111111,\"#46039f\"],[0.2222222222222222,\"#7201a8\"],[0.3333333333333333,\"#9c179e\"],[0.4444444444444444,\"#bd3786\"],[0.5555555555555556,\"#d8576b\"],[0.6666666666666666,\"#ed7953\"],[0.7777777777777778,\"#fb9f3a\"],[0.8888888888888888,\"#fdca26\"],[1.0,\"#f0f921\"]]}],\"surface\":[{\"type\":\"surface\",\"colorbar\":{\"outlinewidth\":0,\"ticks\":\"\"},\"colorscale\":[[0.0,\"#0d0887\"],[0.1111111111111111,\"#46039f\"],[0.2222222222222222,\"#7201a8\"],[0.3333333333333333,\"#9c179e\"],[0.4444444444444444,\"#bd3786\"],[0.5555555555555556,\"#d8576b\"],[0.6666666666666666,\"#ed7953\"],[0.7777777777777778,\"#fb9f3a\"],[0.8888888888888888,\"#fdca26\"],[1.0,\"#f0f921\"]]}],\"mesh3d\":[{\"type\":\"mesh3d\",\"colorbar\":{\"outlinewidth\":0,\"ticks\":\"\"}}],\"scatter\":[{\"fillpattern\":{\"fillmode\":\"overlay\",\"size\":10,\"solidity\":0.2},\"type\":\"scatter\"}],\"parcoords\":[{\"type\":\"parcoords\",\"line\":{\"colorbar\":{\"outlinewidth\":0,\"ticks\":\"\"}}}],\"scatterpolargl\":[{\"type\":\"scatterpolargl\",\"marker\":{\"colorbar\":{\"outlinewidth\":0,\"ticks\":\"\"}}}],\"bar\":[{\"error_x\":{\"color\":\"#2a3f5f\"},\"error_y\":{\"color\":\"#2a3f5f\"},\"marker\":{\"line\":{\"color\":\"#E5ECF6\",\"width\":0.5},\"pattern\":{\"fillmode\":\"overlay\",\"size\":10,\"solidity\":0.2}},\"type\":\"bar\"}],\"scattergeo\":[{\"type\":\"scattergeo\",\"marker\":{\"colorbar\":{\"outlinewidth\":0,\"ticks\":\"\"}}}],\"scatterpolar\":[{\"type\":\"scatterpolar\",\"marker\":{\"colorbar\":{\"outlinewidth\":0,\"ticks\":\"\"}}}],\"histogram\":[{\"marker\":{\"pattern\":{\"fillmode\":\"overlay\",\"size\":10,\"solidity\":0.2}},\"type\":\"histogram\"}],\"scattergl\":[{\"type\":\"scattergl\",\"marker\":{\"colorbar\":{\"outlinewidth\":0,\"ticks\":\"\"}}}],\"scatter3d\":[{\"type\":\"scatter3d\",\"line\":{\"colorbar\":{\"outlinewidth\":0,\"ticks\":\"\"}},\"marker\":{\"colorbar\":{\"outlinewidth\":0,\"ticks\":\"\"}}}],\"scattermapbox\":[{\"type\":\"scattermapbox\",\"marker\":{\"colorbar\":{\"outlinewidth\":0,\"ticks\":\"\"}}}],\"scatterternary\":[{\"type\":\"scatterternary\",\"marker\":{\"colorbar\":{\"outlinewidth\":0,\"ticks\":\"\"}}}],\"scattercarpet\":[{\"type\":\"scattercarpet\",\"marker\":{\"colorbar\":{\"outlinewidth\":0,\"ticks\":\"\"}}}],\"carpet\":[{\"aaxis\":{\"endlinecolor\":\"#2a3f5f\",\"gridcolor\":\"white\",\"linecolor\":\"white\",\"minorgridcolor\":\"white\",\"startlinecolor\":\"#2a3f5f\"},\"baxis\":{\"endlinecolor\":\"#2a3f5f\",\"gridcolor\":\"white\",\"linecolor\":\"white\",\"minorgridcolor\":\"white\",\"startlinecolor\":\"#2a3f5f\"},\"type\":\"carpet\"}],\"table\":[{\"cells\":{\"fill\":{\"color\":\"#EBF0F8\"},\"line\":{\"color\":\"white\"}},\"header\":{\"fill\":{\"color\":\"#C8D4E3\"},\"line\":{\"color\":\"white\"}},\"type\":\"table\"}],\"barpolar\":[{\"marker\":{\"line\":{\"color\":\"#E5ECF6\",\"width\":0.5},\"pattern\":{\"fillmode\":\"overlay\",\"size\":10,\"solidity\":0.2}},\"type\":\"barpolar\"}],\"pie\":[{\"automargin\":true,\"type\":\"pie\"}]},\"layout\":{\"autotypenumbers\":\"strict\",\"colorway\":[\"#636efa\",\"#EF553B\",\"#00cc96\",\"#ab63fa\",\"#FFA15A\",\"#19d3f3\",\"#FF6692\",\"#B6E880\",\"#FF97FF\",\"#FECB52\"],\"font\":{\"color\":\"#2a3f5f\"},\"hovermode\":\"closest\",\"hoverlabel\":{\"align\":\"left\"},\"paper_bgcolor\":\"white\",\"plot_bgcolor\":\"#E5ECF6\",\"polar\":{\"bgcolor\":\"#E5ECF6\",\"angularaxis\":{\"gridcolor\":\"white\",\"linecolor\":\"white\",\"ticks\":\"\"},\"radialaxis\":{\"gridcolor\":\"white\",\"linecolor\":\"white\",\"ticks\":\"\"}},\"ternary\":{\"bgcolor\":\"#E5ECF6\",\"aaxis\":{\"gridcolor\":\"white\",\"linecolor\":\"white\",\"ticks\":\"\"},\"baxis\":{\"gridcolor\":\"white\",\"linecolor\":\"white\",\"ticks\":\"\"},\"caxis\":{\"gridcolor\":\"white\",\"linecolor\":\"white\",\"ticks\":\"\"}},\"coloraxis\":{\"colorbar\":{\"outlinewidth\":0,\"ticks\":\"\"}},\"colorscale\":{\"sequential\":[[0.0,\"#0d0887\"],[0.1111111111111111,\"#46039f\"],[0.2222222222222222,\"#7201a8\"],[0.3333333333333333,\"#9c179e\"],[0.4444444444444444,\"#bd3786\"],[0.5555555555555556,\"#d8576b\"],[0.6666666666666666,\"#ed7953\"],[0.7777777777777778,\"#fb9f3a\"],[0.8888888888888888,\"#fdca26\"],[1.0,\"#f0f921\"]],\"sequentialminus\":[[0.0,\"#0d0887\"],[0.1111111111111111,\"#46039f\"],[0.2222222222222222,\"#7201a8\"],[0.3333333333333333,\"#9c179e\"],[0.4444444444444444,\"#bd3786\"],[0.5555555555555556,\"#d8576b\"],[0.6666666666666666,\"#ed7953\"],[0.7777777777777778,\"#fb9f3a\"],[0.8888888888888888,\"#fdca26\"],[1.0,\"#f0f921\"]],\"diverging\":[[0,\"#8e0152\"],[0.1,\"#c51b7d\"],[0.2,\"#de77ae\"],[0.3,\"#f1b6da\"],[0.4,\"#fde0ef\"],[0.5,\"#f7f7f7\"],[0.6,\"#e6f5d0\"],[0.7,\"#b8e186\"],[0.8,\"#7fbc41\"],[0.9,\"#4d9221\"],[1,\"#276419\"]]},\"xaxis\":{\"gridcolor\":\"white\",\"linecolor\":\"white\",\"ticks\":\"\",\"title\":{\"standoff\":15},\"zerolinecolor\":\"white\",\"automargin\":true,\"zerolinewidth\":2},\"yaxis\":{\"gridcolor\":\"white\",\"linecolor\":\"white\",\"ticks\":\"\",\"title\":{\"standoff\":15},\"zerolinecolor\":\"white\",\"automargin\":true,\"zerolinewidth\":2},\"scene\":{\"xaxis\":{\"backgroundcolor\":\"#E5ECF6\",\"gridcolor\":\"white\",\"linecolor\":\"white\",\"showbackground\":true,\"ticks\":\"\",\"zerolinecolor\":\"white\",\"gridwidth\":2},\"yaxis\":{\"backgroundcolor\":\"#E5ECF6\",\"gridcolor\":\"white\",\"linecolor\":\"white\",\"showbackground\":true,\"ticks\":\"\",\"zerolinecolor\":\"white\",\"gridwidth\":2},\"zaxis\":{\"backgroundcolor\":\"#E5ECF6\",\"gridcolor\":\"white\",\"linecolor\":\"white\",\"showbackground\":true,\"ticks\":\"\",\"zerolinecolor\":\"white\",\"gridwidth\":2}},\"shapedefaults\":{\"line\":{\"color\":\"#2a3f5f\"}},\"annotationdefaults\":{\"arrowcolor\":\"#2a3f5f\",\"arrowhead\":0,\"arrowwidth\":1},\"geo\":{\"bgcolor\":\"white\",\"landcolor\":\"#E5ECF6\",\"subunitcolor\":\"white\",\"showland\":true,\"showlakes\":true,\"lakecolor\":\"white\"},\"title\":{\"x\":0.05},\"mapbox\":{\"style\":\"light\"}}},\"font\":{\"size\":16.5,\"family\":\"serif\",\"weight\":\"bold\",\"color\":\"#474647\"},\"margin\":{\"t\":15,\"l\":15,\"r\":135,\"b\":25},\"paper_bgcolor\":\"white\",\"plot_bgcolor\":\"white\",\"width\":900,\"height\":400},                        {\"responsive\": true}                    ).then(function(){\n",
       "                            \n",
       "var gd = document.getElementById('1eeaf3a9-73be-4392-9e75-0353f5d39ecc');\n",
       "var x = new MutationObserver(function (mutations, observer) {{\n",
       "        var display = window.getComputedStyle(gd).display;\n",
       "        if (!display || display === 'none') {{\n",
       "            console.log([gd, 'removed!']);\n",
       "            Plotly.purge(gd);\n",
       "            observer.disconnect();\n",
       "        }}\n",
       "}});\n",
       "\n",
       "// Listen for the removal of the full notebook cells\n",
       "var notebookContainer = gd.closest('#notebook-container');\n",
       "if (notebookContainer) {{\n",
       "    x.observe(notebookContainer, {childList: true});\n",
       "}}\n",
       "\n",
       "// Listen for the clearing of the current output cell\n",
       "var outputEl = gd.closest('.output');\n",
       "if (outputEl) {{\n",
       "    x.observe(outputEl, {childList: true});\n",
       "}}\n",
       "\n",
       "                        })                };                });            </script>        </div>"
      ]
     },
     "metadata": {},
     "output_type": "display_data"
    }
   ],
   "execution_count": 158
  },
  {
   "metadata": {},
   "cell_type": "code",
   "source": "",
   "id": "317468605744136c",
   "outputs": [],
   "execution_count": null
  }
 ],
 "metadata": {
  "kernelspec": {
   "display_name": "Python 3 (ipykernel)",
   "language": "python",
   "name": "python3"
  },
  "language_info": {
   "codemirror_mode": {
    "name": "ipython",
    "version": 3
   },
   "file_extension": ".py",
   "mimetype": "text/x-python",
   "name": "python",
   "nbconvert_exporter": "python",
   "pygments_lexer": "ipython3",
   "version": "3.9.6"
  }
 },
 "nbformat": 4,
 "nbformat_minor": 5
}
